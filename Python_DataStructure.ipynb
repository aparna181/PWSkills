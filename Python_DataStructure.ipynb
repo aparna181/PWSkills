{
  "nbformat": 4,
  "nbformat_minor": 0,
  "metadata": {
    "colab": {
      "provenance": []
    },
    "kernelspec": {
      "name": "python3",
      "display_name": "Python 3"
    },
    "language_info": {
      "name": "python"
    }
  },
  "cells": [
    {
      "cell_type": "markdown",
      "source": [
        "#Python - Data Structure"
      ],
      "metadata": {
        "id": "Z3XzrfeFq4Os"
      }
    },
    {
      "cell_type": "markdown",
      "source": [
        "#Data Types and Structures Questions"
      ],
      "metadata": {
        "id": "AQxPAD0xqTDy"
      }
    },
    {
      "cell_type": "markdown",
      "source": [
        "1. P What are data structures, and why are they important?\n",
        "  - Data structures are specialized formats used to organize, store, and access data efficiently in a program. They act like containers that manage how data is arranged and interacted with. is important because it directly impacts the performance and efficiency of a program. Proper data structures make it easier to manipulate data, optimize operations like searching and sorting, and help conserve memory, ultimately leading to more effective and scalable software solutions."
      ],
      "metadata": {
        "id": "LMOiCJEmqatR"
      }
    },
    {
      "cell_type": "markdown",
      "source": [
        "2. Explain the difference between mutable and immutable data types with examples.\n",
        "   - Mutable data types are those whose values can be changed or modified after they are created. This means you can update, add, or remove elements without creating a new object. Example: List, Dictionary.\n",
        "   Immutable data types cannot be changed once they are created; any modification results in the creation of a new object. Example:strings, tuples, and integers.\n",
        "     "
      ],
      "metadata": {
        "id": "kKZ5YUaPqTqB"
      }
    },
    {
      "cell_type": "markdown",
      "source": [
        "3. What are the main differences between lists and tuples in Python?\n",
        "   - The main differences between lists and tuples in Python are based on their mutability, syntax, and usage. Lists are mutable, meaning their elements can be changed, added, or removed after creation using methods like append() or remove(), and they are defined using square brackets \" [] \". Tuples, on the other hand, are immutable, meaning their elements cannot be modified once created, and they are defined using parentheses \" () \"."
      ],
      "metadata": {
        "id": "QucTEW8kbh1a"
      }
    },
    {
      "cell_type": "markdown",
      "source": [
        "4. Describe how dictionaries store data.\n",
        "   - Dictionaries in Python store data in the form of key-value pairs, where each key is unique and is used to access its corresponding value. Internally, dictionaries use a hashing mechanism to map keys to their values efficiently, allowing for fast data retrieval, insertion, and deletion. Data is enclosed in curly braces \" {} \", with the key and value separated by a colon, like {\"name\": \"Alice\", \"age\": 25}. You can access values using their keys, for example, my_dict[\"name\"] returns \"Alice\"."
      ],
      "metadata": {
        "id": "bZV_RtFydy5r"
      }
    },
    {
      "cell_type": "markdown",
      "source": [
        "5. Why might you use a set instead of a list in Python?\n",
        "  - You might use a set instead of a list in Python when you need to store unique elements and do not care about the order of items. Sets automatically eliminate duplicate values, making them ideal for situations where uniqueness is important, such as removing duplicates from a list. Unlike lists, sets are unordered and do not support indexing or slicing. Therefore, sets are preferred when uniqueness and efficiency in lookups are more important than maintaining order"
      ],
      "metadata": {
        "id": "sU0Pe07qegU3"
      }
    },
    {
      "cell_type": "markdown",
      "source": [
        "6. What is a string in Python, and how is it different from a list?\n",
        "   - A string in Python is a sequence of characters enclosed in single, double, or triple quotes, such as \"hello\" or 'Python', and is used to represent textual data. It is immutable, meaning once created, its characters cannot be changed. In contrast, a list is a collection of items (which can be of different data types) enclosed in square brackets like [1, 2, 'a'], and it is mutable, allowing modifications such as adding, removing, or changing elements. While both strings and lists support indexing and slicing, the key difference lies in their mutability and the type of data they store—strings for text and lists for multiple data elements."
      ],
      "metadata": {
        "id": "QYwvpq0VfrUz"
      }
    },
    {
      "cell_type": "markdown",
      "source": [
        "7. How do tuples ensure data integrity in Python?\n",
        "  - Tuples ensure data integrity in Python by being immutable, meaning their contents cannot be changed after creation. Once a tuple is defined, no elements can be added, removed, or modified, which helps prevent accidental changes to the data. This immutability makes tuples ideal for storing constant or fixed data that should remain the same throughout the program, such as configuration settings or coordinates. By protecting the data from modification, tuples help maintain consistency and reliability in a program’s behavior."
      ],
      "metadata": {
        "id": "SPLl62DMf_Bw"
      }
    },
    {
      "cell_type": "markdown",
      "source": [
        "8. What is a hash table, and how does it relate to dictionaries in Python?\n",
        "  - A hash table is a data structure that stores data in an associative manner using key-value pairs, where a hash function is used to compute an index into an array of buckets or slots, from which the desired value can be found. In Python, dictionaries are implemented using hash tables, meaning each key is passed through a hash function to determine where its corresponding value will be stored in memory. This allows for fast access, insertion, and deletion of values based on their keys."
      ],
      "metadata": {
        "id": "-qIQlmPZgLxN"
      }
    },
    {
      "cell_type": "markdown",
      "source": [
        "9. Can lists contain different data types in Python?\n",
        "  - Yes, lists in Python can contain different data types. A single list can hold elements such as integers, strings, floats, booleans, and even other lists or objects. For example, my_list = [10, \"hello\", 3.14, True] is a valid list containing multiple data types. This flexibility makes lists a powerful and versatile data structure for handling mixed data in Python programs."
      ],
      "metadata": {
        "id": "IpY4zg8YgbSL"
      }
    },
    {
      "cell_type": "markdown",
      "source": [
        "10. Explain why strings are immutable in Python?\n",
        "   - Strings are immutable in Python because once a string is created, its contents cannot be changed. Immutability  enhances security and reliability, as it ensures that string data remains constant throughout the program unless explicitly reassigned. For example, attempting to change a character in a string like name = \"John\"; name[0] = \"M\" will result in an error, emphasizing that strings cannot be altered in place."
      ],
      "metadata": {
        "id": "ttBTJkD5gntN"
      }
    },
    {
      "cell_type": "markdown",
      "source": [
        "11. What advantages do dictionaries offer over lists for certain tasks?\n",
        " - Dictionaries offer several advantages over lists for certain tasks, especially when working with key-value pairs or when fast data lookup is required. Unlike lists, where you access elements by their position (index), dictionaries allow you to access values directly using meaningful keys, making the code more readable and efficient. Dictionaries are ideal for tasks like storing user information, counting occurrences, or mapping data, where identifying elements by a unique label (key) is more practical than using numeric indexes."
      ],
      "metadata": {
        "id": "mKvrpcYIhZME"
      }
    },
    {
      "cell_type": "markdown",
      "source": [
        "12. Describe a scenario where using a tuple would be preferable over a list.\n",
        "- A scenario where using a tuple would be preferable over a list is when you need to store fixed, unchangeable data, such as the coordinates of a location. For example, if you are working with a geographic application and need to store latitude and longitude as a pair, you can use a tuple like location = (28.6139, 77.2090). Since coordinates should not be altered once defined, using a tuple ensures data integrity by preventing accidental modification. Tuples are also slightly faster and can be used as keys in dictionaries, unlike lists, making them more suitable for such scenarios"
      ],
      "metadata": {
        "id": "MbfXklMQiEmy"
      }
    },
    {
      "cell_type": "markdown",
      "source": [
        "13. How do sets handle duplicate values in Python?\n",
        "   - Sets in Python automatically eliminate duplicate values. When you add elements to a set, it only keeps unique items, and any duplicate values are ignored. For example, if you try to add the same element multiple times to a set, only one instance of that element will be stored.\n",
        "   ex--"
      ],
      "metadata": {
        "id": "1P_PJpVDiZ2t"
      }
    },
    {
      "cell_type": "code",
      "source": [
        "my_set = {1, 2, 3}\n",
        "my_set.add(3)\n",
        "print(my_set)\n"
      ],
      "metadata": {
        "colab": {
          "base_uri": "https://localhost:8080/"
        },
        "id": "Tn-V_CqigKrT",
        "outputId": "5fcfaa4f-73da-45c0-d8a4-394d28fbc118"
      },
      "execution_count": 1,
      "outputs": [
        {
          "output_type": "stream",
          "name": "stdout",
          "text": [
            "{1, 2, 3}\n"
          ]
        }
      ]
    },
    {
      "cell_type": "markdown",
      "source": [
        "In this case, the duplicate value 3 is ignored, and the set remains with only the unique elements {1, 2, 3}."
      ],
      "metadata": {
        "id": "rDPAFV7zizPM"
      }
    },
    {
      "cell_type": "markdown",
      "source": [
        "14.\n",
        "- For lists, the \"in\" keyword checks if a value is present in the list. It performs a linear search to determine if the specified value exists as an element in the list.example :"
      ],
      "metadata": {
        "id": "A3OVpJdsi_gf"
      }
    },
    {
      "cell_type": "code",
      "source": [
        "my_list = [1, 2, 3]\n",
        "print(2 in my_list)\n",
        "\n"
      ],
      "metadata": {
        "colab": {
          "base_uri": "https://localhost:8080/"
        },
        "id": "bCaGlfsNjhHQ",
        "outputId": "61d73968-386f-4c02-d99e-8744df52432f"
      },
      "execution_count": 2,
      "outputs": [
        {
          "output_type": "stream",
          "name": "stdout",
          "text": [
            "True\n"
          ]
        }
      ]
    },
    {
      "cell_type": "code",
      "source": [
        "print(4 in my_list)"
      ],
      "metadata": {
        "colab": {
          "base_uri": "https://localhost:8080/"
        },
        "id": "TIVmP65ojsBU",
        "outputId": "fd8a2136-8a0a-4a61-fdaf-ae0f0a38c2e7"
      },
      "execution_count": 3,
      "outputs": [
        {
          "output_type": "stream",
          "name": "stdout",
          "text": [
            "False\n"
          ]
        }
      ]
    },
    {
      "cell_type": "markdown",
      "source": [
        "Here, the \"in\" keyword checks whether the value 2 or 4 is in the list.\n",
        "For dictionaries, the \"in\" keyword checks if a key is present in the dictionary, not the value. It checks if the specified key exists in the dictionary's set of keys. Example :"
      ],
      "metadata": {
        "id": "a1T7S-t7jdXJ"
      }
    },
    {
      "cell_type": "code",
      "execution_count": 4,
      "metadata": {
        "id": "gb9uidATqXYo",
        "colab": {
          "base_uri": "https://localhost:8080/"
        },
        "outputId": "7fd4210c-1d6e-4d33-c727-e0fef4689cfa"
      },
      "outputs": [
        {
          "output_type": "stream",
          "name": "stdout",
          "text": [
            "True\n"
          ]
        }
      ],
      "source": [
        "my_dict = {'a': 1, 'b': 2}\n",
        "print('a' in my_dict)\n",
        "\n"
      ]
    },
    {
      "cell_type": "code",
      "source": [
        "print(1 in my_dict)"
      ],
      "metadata": {
        "colab": {
          "base_uri": "https://localhost:8080/"
        },
        "id": "-dehxUOJkF9x",
        "outputId": "acbd94f3-2ae1-4bee-85fa-9309cfd3b7f8"
      },
      "execution_count": 5,
      "outputs": [
        {
          "output_type": "stream",
          "name": "stdout",
          "text": [
            "False\n"
          ]
        }
      ]
    },
    {
      "cell_type": "markdown",
      "source": [
        "In this case, the \"in\" keyword checks for the presence of the key 'a', not the value 1."
      ],
      "metadata": {
        "id": "dJz6z1TKkUi9"
      }
    },
    {
      "cell_type": "markdown",
      "source": [
        "15. Can you modify the elements of a tuple? Explain why or why not?\n",
        "- No, you cannot modify the elements of a tuple in Python because tuples are immutable. Immutability means that once a tuple is created, its contents cannot be altered—this includes adding, removing, or changing elements."
      ],
      "metadata": {
        "id": "UElg2wNbkV5C"
      }
    },
    {
      "cell_type": "markdown",
      "source": [
        "16. What is a nested dictionary, and give an example of its use case?\n",
        "  - A nested dictionary is a dictionary where the values associated with some keys are themselves dictionaries. This allows for creating more complex, hierarchical data structures, which can represent real-world relationships or multi-level mappings. Nested dictionaries are useful when you need to store and access data that has multiple levels of categorization or requires grouping.                                                                     Example use case: Consider a scenario where you are managing a school's student records. You can use a nested dictionary to store information about students, where each student's record is itself a dictionary containing details like age, grade, and subjects enrolled."
      ],
      "metadata": {
        "id": "JMyNbpg0k0U4"
      }
    },
    {
      "cell_type": "code",
      "source": [
        "students = {\n",
        "    \"Gita\": {\"age\": 12, \"grade\": 7, \"subjects\": [\"Math\", \"Science\"]},\n",
        "    \"Babi\": {\"age\": 13, \"grade\": 8, \"subjects\": [\"English\", \"History\"]},\n",
        "}\n",
        "print(students[\"Gita\"][\"subjects\"])\n"
      ],
      "metadata": {
        "colab": {
          "base_uri": "https://localhost:8080/"
        },
        "id": "E0JAl5wflgJr",
        "outputId": "018c46d2-a4d7-42dd-c740-de918a5751fb"
      },
      "execution_count": 7,
      "outputs": [
        {
          "output_type": "stream",
          "name": "stdout",
          "text": [
            "['Math', 'Science']\n"
          ]
        }
      ]
    },
    {
      "cell_type": "markdown",
      "source": [
        "This structure allows for easy retrieval of nested data, such as finding the subjects."
      ],
      "metadata": {
        "id": "aEfgt6BImL0X"
      }
    },
    {
      "cell_type": "markdown",
      "source": [
        "17.  Describe the time complexity of accessing elements in a dictionary.\n",
        "   - The time complexity of accessing elements in a Python dictionary is O(1) on average, meaning it takes constant time to retrieve a value based on its key. This is due to the underlying hash table structure. In rare cases of hash collisions, the complexity could degrade to O(n), but this is uncommon in practice due to collision resolution techniques."
      ],
      "metadata": {
        "id": "9WrdcqjImVcs"
      }
    },
    {
      "cell_type": "markdown",
      "source": [
        "18. In what situations are lists preferred over dictionaries?\n",
        "- Lists are preferred over dictionaries in situations where ordering of elements is important, or when you need to store multiple items of the same type without requiring unique keys. Lists are ideal when you need to maintain an ordered collection (such as a sequence of numbers or strings) and perform operations like indexing, slicing, or iterating. For example, when working with a collection of items like a list of tasks or user inputs, lists provide a simpler, more efficient structure."
      ],
      "metadata": {
        "id": "V-MDaTR3mt_y"
      }
    },
    {
      "cell_type": "markdown",
      "source": [
        "19. Why are dictionaries considered unordered, and how does that affect data retrieval?\n",
        "- Dictionaries are considered unordered because the key-value pairs are stored based on the hash of the keys, not in the order they were added. This means you cannot rely on the order of elements when iterating over a dictionary. However, you can still retrieve data efficiently by accessing values using their keys, which provides fast lookups, typically in O(1) time."
      ],
      "metadata": {
        "id": "xPU_mPtKnB-O"
      }
    },
    {
      "cell_type": "markdown",
      "source": [
        "20. Explain the difference between a list and a dictionary in terms of data retrieval.\n",
        "- List: Data is accessed by index (position in the list), and retrieval involves searching through the list in a linear manner if the index is unknown. This means accessing an element is slower when you don't know its position. Time complexity for access is O(1) if the index is known, but finding an item by value can take O(n).\n",
        "\n",
        "Dictionary: Data is accessed by key. The key is hashed to determine its position in memory, allowing for fast lookups. Retrieval is very efficient, with an average time complexity of O(1), regardless of the size of the dictionary.\n"
      ],
      "metadata": {
        "id": "IWmn_cjTnePT"
      }
    },
    {
      "cell_type": "markdown",
      "source": [
        "#Practical Questions"
      ],
      "metadata": {
        "id": "qM4JSKhCnvL1"
      }
    },
    {
      "cell_type": "markdown",
      "source": [
        "1. Write a code to create a string with your name and print it."
      ],
      "metadata": {
        "id": "Ubpu5asBn8qA"
      }
    },
    {
      "cell_type": "code",
      "source": [
        "my_name = \"Aparna Swain\"\n",
        "print(my_name)\n"
      ],
      "metadata": {
        "colab": {
          "base_uri": "https://localhost:8080/"
        },
        "id": "VOu3VejWn2Kb",
        "outputId": "ce18e70d-ee52-46f6-d081-5bdedffbdabb"
      },
      "execution_count": 8,
      "outputs": [
        {
          "output_type": "stream",
          "name": "stdout",
          "text": [
            "Aparna Swain\n"
          ]
        }
      ]
    },
    {
      "cell_type": "markdown",
      "source": [
        "2. Write a code to find the length of the string \"Hello World\"."
      ],
      "metadata": {
        "id": "3ngoaM5lwIPe"
      }
    },
    {
      "cell_type": "code",
      "source": [
        "text = \"Hello World\"\n",
        "print(len(text))\n"
      ],
      "metadata": {
        "colab": {
          "base_uri": "https://localhost:8080/"
        },
        "id": "zZLuqQUtkUBe",
        "outputId": "2f0e5db5-a574-425d-fdb2-42905d94fda9"
      },
      "execution_count": 9,
      "outputs": [
        {
          "output_type": "stream",
          "name": "stdout",
          "text": [
            "11\n"
          ]
        }
      ]
    },
    {
      "cell_type": "markdown",
      "source": [
        " 3. Write a code to slice the first 3 characters from the string \"Python Programming\"."
      ],
      "metadata": {
        "id": "qLMIdfZsw0z7"
      }
    },
    {
      "cell_type": "code",
      "source": [
        "text = \"Python Programming\"\n",
        "sliced_text = text[:3]\n",
        "print(sliced_text)\n"
      ],
      "metadata": {
        "colab": {
          "base_uri": "https://localhost:8080/"
        },
        "id": "SEwIpdodkQOk",
        "outputId": "ed43799f-1fe3-4511-dc0e-49b440f6d669"
      },
      "execution_count": 10,
      "outputs": [
        {
          "output_type": "stream",
          "name": "stdout",
          "text": [
            "Pyt\n"
          ]
        }
      ]
    },
    {
      "cell_type": "markdown",
      "source": [
        "4. Write a code to convert the string \"hello\" to uppercase."
      ],
      "metadata": {
        "id": "3JK624rNxa5n"
      }
    },
    {
      "cell_type": "code",
      "source": [
        "text = \"hello\"\n",
        "uppercase_text = text.upper()\n",
        "print(uppercase_text)\n"
      ],
      "metadata": {
        "colab": {
          "base_uri": "https://localhost:8080/"
        },
        "id": "Q05P-wGgxrMu",
        "outputId": "7617745e-ec4f-4ea9-e9da-0bc0cb1495f3"
      },
      "execution_count": 11,
      "outputs": [
        {
          "output_type": "stream",
          "name": "stdout",
          "text": [
            "HELLO\n"
          ]
        }
      ]
    },
    {
      "cell_type": "markdown",
      "source": [
        "5. Write a code to replace the word \"apple\" with \"orange\" in the string \"I like apple\"."
      ],
      "metadata": {
        "id": "GH8a-lkgyCTb"
      }
    },
    {
      "cell_type": "code",
      "source": [
        "text = \"I like apple\"\n",
        "new_text = text.replace(\"apple\", \"orange\")\n",
        "print(new_text)\n"
      ],
      "metadata": {
        "colab": {
          "base_uri": "https://localhost:8080/"
        },
        "id": "vclsI6X7yNML",
        "outputId": "ac8a7834-f5eb-4171-af16-b53e4a41246b"
      },
      "execution_count": 12,
      "outputs": [
        {
          "output_type": "stream",
          "name": "stdout",
          "text": [
            "I like orange\n"
          ]
        }
      ]
    },
    {
      "cell_type": "markdown",
      "source": [
        "6.  Write a code to create a list with numbers 1 to 5 and print it."
      ],
      "metadata": {
        "id": "SrkEKQfMzyUK"
      }
    },
    {
      "cell_type": "code",
      "source": [
        "numbers = [1, 2, 3, 4, 5]\n",
        "for num in numbers:\n",
        "    print(num)\n",
        "\n"
      ],
      "metadata": {
        "colab": {
          "base_uri": "https://localhost:8080/"
        },
        "id": "8Tj97j8CzxkG",
        "outputId": "65d4e62c-87f8-4ac2-f882-155491094a5a"
      },
      "execution_count": 14,
      "outputs": [
        {
          "output_type": "stream",
          "name": "stdout",
          "text": [
            "1\n",
            "2\n",
            "3\n",
            "4\n",
            "5\n"
          ]
        }
      ]
    },
    {
      "cell_type": "markdown",
      "source": [
        "7. Write a code to append the number 10 to the list [1, 2, 3, 4]."
      ],
      "metadata": {
        "id": "2jy32Twa1WdR"
      }
    },
    {
      "cell_type": "code",
      "source": [
        "numbers = [1, 2, 3, 4]\n",
        "numbers.append(10)\n",
        "print(numbers)\n"
      ],
      "metadata": {
        "colab": {
          "base_uri": "https://localhost:8080/"
        },
        "id": "MYw41uvP0tip",
        "outputId": "658168ba-4abc-4864-dcb0-5001f06502bd"
      },
      "execution_count": 15,
      "outputs": [
        {
          "output_type": "stream",
          "name": "stdout",
          "text": [
            "[1, 2, 3, 4, 10]\n"
          ]
        }
      ]
    },
    {
      "cell_type": "markdown",
      "source": [
        "8. Write a code to remove the number 3 from the list [1, 2, 3, 4, 5]."
      ],
      "metadata": {
        "id": "UXtuoO_p1tmw"
      }
    },
    {
      "cell_type": "code",
      "source": [
        "numbers = [1, 2, 3, 4, 5]\n",
        "numbers.remove(3)\n",
        "print(numbers)\n"
      ],
      "metadata": {
        "colab": {
          "base_uri": "https://localhost:8080/"
        },
        "id": "8of3ILGh1swU",
        "outputId": "c66ff094-060f-4da1-d5b8-e898118a6362"
      },
      "execution_count": 16,
      "outputs": [
        {
          "output_type": "stream",
          "name": "stdout",
          "text": [
            "[1, 2, 4, 5]\n"
          ]
        }
      ]
    },
    {
      "cell_type": "markdown",
      "source": [
        "9. Write a code to access the second element in the list ['a', 'b', 'c', 'd']."
      ],
      "metadata": {
        "id": "L3iDCea42UfC"
      }
    },
    {
      "cell_type": "code",
      "source": [
        "letters = ['a', 'b', 'c', 'd']\n",
        "second_element = letters[1]\n",
        "print(second_element)\n"
      ],
      "metadata": {
        "colab": {
          "base_uri": "https://localhost:8080/"
        },
        "id": "FaGAajh_2Wx0",
        "outputId": "16a328d6-7df1-43e0-d652-b5f5343fcb85"
      },
      "execution_count": 17,
      "outputs": [
        {
          "output_type": "stream",
          "name": "stdout",
          "text": [
            "b\n"
          ]
        }
      ]
    },
    {
      "cell_type": "markdown",
      "source": [
        "10. Write a code to reverse the list [10, 20, 30, 40, 50]."
      ],
      "metadata": {
        "id": "GSIVyBSS2oW_"
      }
    },
    {
      "cell_type": "code",
      "source": [
        "numbers = [10, 20, 30, 40, 50]\n",
        "numbers.reverse()\n",
        "print(numbers)\n"
      ],
      "metadata": {
        "colab": {
          "base_uri": "https://localhost:8080/"
        },
        "id": "Vs1wdd4522X9",
        "outputId": "7ad9a8fa-89a4-4bbc-aa27-65d0d6229990"
      },
      "execution_count": 18,
      "outputs": [
        {
          "output_type": "stream",
          "name": "stdout",
          "text": [
            "[50, 40, 30, 20, 10]\n"
          ]
        }
      ]
    },
    {
      "cell_type": "markdown",
      "source": [
        "11.  Write a code to create a tuple with the elements 100, 200, 300 and print it."
      ],
      "metadata": {
        "id": "K_gLmSu43JQV"
      }
    },
    {
      "cell_type": "code",
      "source": [
        "my_tuple = (100, 200, 300)\n",
        "print(my_tuple)\n"
      ],
      "metadata": {
        "colab": {
          "base_uri": "https://localhost:8080/"
        },
        "id": "uXvIrRLi3lIu",
        "outputId": "6ae6e34c-6660-4c52-ecbb-4bcb3dcd6c0a"
      },
      "execution_count": 19,
      "outputs": [
        {
          "output_type": "stream",
          "name": "stdout",
          "text": [
            "(100, 200, 300)\n"
          ]
        }
      ]
    },
    {
      "cell_type": "markdown",
      "source": [
        "12. Write a code to access the second-to-last element of the tuple ('red', 'green', 'blue', 'yellow')."
      ],
      "metadata": {
        "id": "i1NdJro_3sxe"
      }
    },
    {
      "cell_type": "code",
      "source": [
        "colors = ('red', 'green', 'blue', 'yellow')\n",
        "second_to_last = colors[-2]\n",
        "print(second_to_last)\n"
      ],
      "metadata": {
        "colab": {
          "base_uri": "https://localhost:8080/"
        },
        "id": "VkCs_pIB30vY",
        "outputId": "e26e0809-9241-4b69-daf7-226f7c04fb35"
      },
      "execution_count": 20,
      "outputs": [
        {
          "output_type": "stream",
          "name": "stdout",
          "text": [
            "blue\n"
          ]
        }
      ]
    },
    {
      "cell_type": "markdown",
      "source": [
        "13. Write a code to find the minimum number in the tuple (10, 20, 5, 15).\n"
      ],
      "metadata": {
        "id": "GpkskZKe36dg"
      }
    },
    {
      "cell_type": "code",
      "source": [
        "my_tuple = (10, 20, 5, 15)\n",
        "min_value = min(my_tuple)\n",
        "print(min_value)\n"
      ],
      "metadata": {
        "colab": {
          "base_uri": "https://localhost:8080/"
        },
        "id": "Es1dADG44AfP",
        "outputId": "c84ace77-155a-47bf-8681-285c2f8fdcbf"
      },
      "execution_count": 21,
      "outputs": [
        {
          "output_type": "stream",
          "name": "stdout",
          "text": [
            "5\n"
          ]
        }
      ]
    },
    {
      "cell_type": "markdown",
      "source": [
        "14. Write a code to find the index of the element \"cat\" in the tuple ('dog', 'cat', 'rabbit')."
      ],
      "metadata": {
        "id": "FIcAxpVQ4Nx2"
      }
    },
    {
      "cell_type": "code",
      "source": [
        "my_tuple = ('dog', 'cat', 'rabbit')\n",
        "index_of_cat = my_tuple.index('cat')\n",
        "print(index_of_cat)\n"
      ],
      "metadata": {
        "colab": {
          "base_uri": "https://localhost:8080/"
        },
        "id": "p0YtzwF34G_Q",
        "outputId": "0f861a5b-fdfd-482e-b35b-06e7032ccf0c"
      },
      "execution_count": 22,
      "outputs": [
        {
          "output_type": "stream",
          "name": "stdout",
          "text": [
            "1\n"
          ]
        }
      ]
    },
    {
      "cell_type": "markdown",
      "source": [
        "15. Write a code to create a tuple containing three different fruits and check if \"kiwi\" is in it."
      ],
      "metadata": {
        "id": "asfz4AIt4cJZ"
      }
    },
    {
      "cell_type": "code",
      "source": [
        "fruits = ('apple', 'banana', 'orange')\n",
        "if 'kiwi' in fruits:\n",
        "    print(\"Kiwi is in the tuple.\")\n",
        "else:\n",
        "    print(\"Kiwi is not in the tuple.\")\n"
      ],
      "metadata": {
        "colab": {
          "base_uri": "https://localhost:8080/"
        },
        "id": "2fG4N0w84gdF",
        "outputId": "d1660437-e2fc-4f2d-ba3e-d31febe7a3a4"
      },
      "execution_count": 23,
      "outputs": [
        {
          "output_type": "stream",
          "name": "stdout",
          "text": [
            "Kiwi is not in the tuple.\n"
          ]
        }
      ]
    },
    {
      "cell_type": "markdown",
      "source": [
        "16. Write a code to create a set with the elements 'a', 'b', 'c' and print it."
      ],
      "metadata": {
        "id": "Ls6krzkZ4ofk"
      }
    },
    {
      "cell_type": "code",
      "source": [
        "my_set = {'a', 'b', 'c'}\n",
        "print(my_set)\n"
      ],
      "metadata": {
        "colab": {
          "base_uri": "https://localhost:8080/"
        },
        "id": "X5BYb3tD4xvN",
        "outputId": "964b26cc-fe35-4060-b50e-5ae6acf6ad34"
      },
      "execution_count": 24,
      "outputs": [
        {
          "output_type": "stream",
          "name": "stdout",
          "text": [
            "{'a', 'c', 'b'}\n"
          ]
        }
      ]
    },
    {
      "cell_type": "markdown",
      "source": [
        "17. Write a code to clear all elements from the set {1, 2, 3, 4, 5}."
      ],
      "metadata": {
        "id": "Iy5ZSKn040nL"
      }
    },
    {
      "cell_type": "code",
      "source": [
        "my_set = {1, 2, 3, 4, 5}\n",
        "my_set.clear()\n",
        "print(my_set)\n"
      ],
      "metadata": {
        "colab": {
          "base_uri": "https://localhost:8080/"
        },
        "id": "6YFJkiqx46Y0",
        "outputId": "130e4fa5-f6cf-4fb5-a969-681a95cf18d1"
      },
      "execution_count": 25,
      "outputs": [
        {
          "output_type": "stream",
          "name": "stdout",
          "text": [
            "set()\n"
          ]
        }
      ]
    },
    {
      "cell_type": "markdown",
      "source": [
        "18.  Write a code to remove the element 4 from the set {1, 2, 3, 4}."
      ],
      "metadata": {
        "id": "hj5zbpmD5ANm"
      }
    },
    {
      "cell_type": "code",
      "source": [
        "my_set = {1, 2, 3, 4}\n",
        "my_set.remove(4)\n",
        "print(my_set)\n"
      ],
      "metadata": {
        "colab": {
          "base_uri": "https://localhost:8080/"
        },
        "id": "51PVjHwC5Edh",
        "outputId": "6a432344-988a-4595-91f0-91f408e573c1"
      },
      "execution_count": 26,
      "outputs": [
        {
          "output_type": "stream",
          "name": "stdout",
          "text": [
            "{1, 2, 3}\n"
          ]
        }
      ]
    },
    {
      "cell_type": "markdown",
      "source": [
        "19. Write a code to find the union of two sets {1, 2, 3} and {3, 4, 5}."
      ],
      "metadata": {
        "id": "nI4ruzgt5KND"
      }
    },
    {
      "cell_type": "code",
      "source": [
        "set1 = {1, 2, 3}\n",
        "set2 = {3, 4, 5}\n",
        "union_set = set1.union(set2)\n",
        "print(union_set)\n"
      ],
      "metadata": {
        "colab": {
          "base_uri": "https://localhost:8080/"
        },
        "id": "dRwRr1lR5PGC",
        "outputId": "9c900516-46d0-4324-eed8-4ff8b37594a8"
      },
      "execution_count": 27,
      "outputs": [
        {
          "output_type": "stream",
          "name": "stdout",
          "text": [
            "{1, 2, 3, 4, 5}\n"
          ]
        }
      ]
    },
    {
      "cell_type": "markdown",
      "source": [
        "20. Write a code to find the intersection of two sets {1, 2, 3} and {2, 3, 4}."
      ],
      "metadata": {
        "id": "ny6wf3yY5ZZd"
      }
    },
    {
      "cell_type": "code",
      "source": [
        "set1 = {1, 2, 3}\n",
        "set2 = {2, 3, 4}\n",
        "intersection_set = set1.intersection(set2)\n",
        "print(intersection_set)\n"
      ],
      "metadata": {
        "colab": {
          "base_uri": "https://localhost:8080/"
        },
        "id": "ZcHGPtyL5Y2t",
        "outputId": "ef92b6ae-68d3-4e49-b976-42326ddf9ce8"
      },
      "execution_count": 28,
      "outputs": [
        {
          "output_type": "stream",
          "name": "stdout",
          "text": [
            "{2, 3}\n"
          ]
        }
      ]
    },
    {
      "cell_type": "markdown",
      "source": [
        "21. Write a code to create a dictionary with the keys \"name\", \"age\", and \"city\", and print it."
      ],
      "metadata": {
        "id": "TJ17srsN5pTb"
      }
    },
    {
      "cell_type": "code",
      "source": [
        "my_dict = {\n",
        "    \"name\": \"Aparna\",\n",
        "    \"age\": 22,\n",
        "    \"city\": \"Odisha\"\n",
        "}\n",
        "\n",
        "print(my_dict)\n"
      ],
      "metadata": {
        "colab": {
          "base_uri": "https://localhost:8080/"
        },
        "id": "NU-vzyRn5nFp",
        "outputId": "02765177-dac5-4508-a231-8c03bff26003"
      },
      "execution_count": 29,
      "outputs": [
        {
          "output_type": "stream",
          "name": "stdout",
          "text": [
            "{'name': 'Aparna', 'age': 22, 'city': 'Odisha'}\n"
          ]
        }
      ]
    },
    {
      "cell_type": "markdown",
      "source": [
        "22. Write a code to add a new key-value pair \"country\": \"USA\" to the dictionary {'name': 'John', 'age': 25}."
      ],
      "metadata": {
        "id": "iiqkif_z52HY"
      }
    },
    {
      "cell_type": "code",
      "source": [
        "my_dict = {'name': 'John', 'age': 25}\n",
        "my_dict['country'] = 'USA'\n",
        "print(my_dict)\n",
        "\n"
      ],
      "metadata": {
        "colab": {
          "base_uri": "https://localhost:8080/"
        },
        "id": "vj3ox4K05nBl",
        "outputId": "410debd9-7c47-4db2-8072-72da5395e029"
      },
      "execution_count": 30,
      "outputs": [
        {
          "output_type": "stream",
          "name": "stdout",
          "text": [
            "{'name': 'John', 'age': 25, 'country': 'USA'}\n"
          ]
        }
      ]
    },
    {
      "cell_type": "markdown",
      "source": [
        "23. Write a code to access the value associated with the key \"name\" in the dictionary {'name': 'Alice', 'age': 30}."
      ],
      "metadata": {
        "id": "OJK-PHzz6DwM"
      }
    },
    {
      "cell_type": "code",
      "source": [
        "my_dict = {'name': 'Alice', 'age': 30}\n",
        "name_value = my_dict['name']\n",
        "print(name_value)\n"
      ],
      "metadata": {
        "colab": {
          "base_uri": "https://localhost:8080/"
        },
        "id": "d6gNpEHv6Ht0",
        "outputId": "a79ce0ba-bbe0-4018-83c8-33bb8094fbba"
      },
      "execution_count": 31,
      "outputs": [
        {
          "output_type": "stream",
          "name": "stdout",
          "text": [
            "Alice\n"
          ]
        }
      ]
    },
    {
      "cell_type": "markdown",
      "source": [
        "24. Write a code to remove the key \"age\" from the dictionary {'name': 'Bob', 'age': 22, 'city': 'New York'}."
      ],
      "metadata": {
        "id": "1oxLbK4E6ZUs"
      }
    },
    {
      "cell_type": "code",
      "source": [
        "my_dict = {'name': 'Bob', 'age': 22, 'city': 'New York'}\n",
        "del my_dict['age']\n",
        "print(my_dict)\n"
      ],
      "metadata": {
        "colab": {
          "base_uri": "https://localhost:8080/"
        },
        "id": "YYha8g2q6YxB",
        "outputId": "0f3ad604-e6c9-42ff-c3fc-8612f9c4d579"
      },
      "execution_count": 33,
      "outputs": [
        {
          "output_type": "stream",
          "name": "stdout",
          "text": [
            "{'name': 'Bob', 'city': 'New York'}\n"
          ]
        }
      ]
    },
    {
      "cell_type": "markdown",
      "source": [
        "25. Write a code to check if the key \"city\" exists in the dictionary {'name': 'Alice', 'city': 'Paris'}."
      ],
      "metadata": {
        "id": "Mrcfs-Mg6oyJ"
      }
    },
    {
      "cell_type": "code",
      "source": [
        "my_dict = {'name': 'Alice', 'city': 'Paris'}\n",
        "if 'city' in my_dict:\n",
        "    print(\"The key 'city' exists in the dictionary.\")\n",
        "else:\n",
        "    print(\"The key 'city' does not exist in the dictionary.\")\n"
      ],
      "metadata": {
        "colab": {
          "base_uri": "https://localhost:8080/"
        },
        "id": "ByjB3eNE6udc",
        "outputId": "6c08a779-7d50-411e-d3cc-0405452850d0"
      },
      "execution_count": 34,
      "outputs": [
        {
          "output_type": "stream",
          "name": "stdout",
          "text": [
            "The key 'city' exists in the dictionary.\n"
          ]
        }
      ]
    },
    {
      "cell_type": "markdown",
      "source": [
        "26.  Write a code to create a list, a tuple, and a dictionary, and print them all."
      ],
      "metadata": {
        "id": "pySZOfEI64Xt"
      }
    },
    {
      "cell_type": "code",
      "source": [
        "# Creating a list\n",
        "my_list = [1, 2, 3, 4, 5]\n",
        "\n",
        "# Creating a tuple\n",
        "my_tuple = ('apple', 'banana', 'cherry')\n",
        "\n",
        "# Creating a dictionary\n",
        "my_dict = {'name': 'Alice', 'age': 25, 'city': 'Paris'}\n",
        "\n",
        "# Printing all\n",
        "print(\"List:\", my_list)\n",
        "print(\"Tuple:\", my_tuple)\n",
        "print(\"Dictionary:\", my_dict)\n"
      ],
      "metadata": {
        "colab": {
          "base_uri": "https://localhost:8080/"
        },
        "id": "RsCDfLE3696K",
        "outputId": "45aacdb4-13de-40ce-9cc7-a849e11b500f"
      },
      "execution_count": 35,
      "outputs": [
        {
          "output_type": "stream",
          "name": "stdout",
          "text": [
            "List: [1, 2, 3, 4, 5]\n",
            "Tuple: ('apple', 'banana', 'cherry')\n",
            "Dictionary: {'name': 'Alice', 'age': 25, 'city': 'Paris'}\n"
          ]
        }
      ]
    },
    {
      "cell_type": "markdown",
      "source": [
        "27. Write a code to create a list of 5 random numbers between 1 and 100, sort it in ascending order, and print the\n",
        "result.(replaced)."
      ],
      "metadata": {
        "id": "8gsi0ysi7KXa"
      }
    },
    {
      "cell_type": "code",
      "source": [
        "import random\n",
        "\n",
        "# Create a list of 5 random numbers between 1 and 100\n",
        "random_numbers = [random.randint(1, 100) for _ in range(5)]\n",
        "\n",
        "# Sort the list in ascending order\n",
        "random_numbers.sort()\n",
        "\n",
        "# Print the sorted list\n",
        "print(random_numbers)\n"
      ],
      "metadata": {
        "colab": {
          "base_uri": "https://localhost:8080/"
        },
        "id": "3MAdMriH7ceM",
        "outputId": "22f7bb56-894c-48a7-d650-afebf9b573e6"
      },
      "execution_count": 36,
      "outputs": [
        {
          "output_type": "stream",
          "name": "stdout",
          "text": [
            "[6, 19, 38, 45, 53]\n"
          ]
        }
      ]
    },
    {
      "cell_type": "markdown",
      "source": [
        "28. Write a code to create a list with strings and print the element at the third index."
      ],
      "metadata": {
        "id": "Wlag-dbi7KTN"
      }
    },
    {
      "cell_type": "code",
      "source": [
        "# Creating a list with strings\n",
        "my_list = ['apple', 'banana', 'cherry', 'date', 'elderberry']\n",
        "\n",
        "# Printing the element at the third index\n",
        "print(my_list[3])\n"
      ],
      "metadata": {
        "colab": {
          "base_uri": "https://localhost:8080/"
        },
        "id": "nRkhE7fF7sPy",
        "outputId": "f4c17805-3a83-4a86-d1c3-5268b0041485"
      },
      "execution_count": 37,
      "outputs": [
        {
          "output_type": "stream",
          "name": "stdout",
          "text": [
            "date\n"
          ]
        }
      ]
    },
    {
      "cell_type": "markdown",
      "source": [
        "29. Write a code to combine two dictionaries into one and print the result."
      ],
      "metadata": {
        "id": "6mdV94lh715k"
      }
    },
    {
      "cell_type": "code",
      "source": [
        "# Creating two dictionaries\n",
        "dict1 = {'name': 'Alice', 'age': 25}\n",
        "dict2 = {'city': 'Paris', 'country': 'France'}\n",
        "\n",
        "# Combining the two dictionaries\n",
        "combined_dict = {**dict1, **dict2}\n",
        "\n",
        "# Printing the combined dictionary\n",
        "print(combined_dict)\n"
      ],
      "metadata": {
        "colab": {
          "base_uri": "https://localhost:8080/"
        },
        "id": "_nTWkJH-71Xs",
        "outputId": "3ad6d961-09b6-46b6-aba8-60f7922c72ec"
      },
      "execution_count": 38,
      "outputs": [
        {
          "output_type": "stream",
          "name": "stdout",
          "text": [
            "{'name': 'Alice', 'age': 25, 'city': 'Paris', 'country': 'France'}\n"
          ]
        }
      ]
    },
    {
      "cell_type": "markdown",
      "source": [
        "30. Write a code to convert a list of strings into a set."
      ],
      "metadata": {
        "id": "Zdx4ZOXT73L0"
      }
    },
    {
      "cell_type": "code",
      "source": [
        "# Creating a list of strings\n",
        "my_list = ['apple', 'banana', 'cherry', 'apple', 'orange']\n",
        "\n",
        "# Converting the list into a set\n",
        "my_set = set(my_list)\n",
        "\n",
        "# Printing the set\n",
        "print(my_set)\n"
      ],
      "metadata": {
        "colab": {
          "base_uri": "https://localhost:8080/"
        },
        "id": "-fzA2T5z70WL",
        "outputId": "4246f7bf-633f-414c-abea-ed82ee56711f"
      },
      "execution_count": 39,
      "outputs": [
        {
          "output_type": "stream",
          "name": "stdout",
          "text": [
            "{'banana', 'apple', 'cherry', 'orange'}\n"
          ]
        }
      ]
    }
  ]
}