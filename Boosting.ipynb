{
  "nbformat": 4,
  "nbformat_minor": 0,
  "metadata": {
    "colab": {
      "provenance": []
    },
    "kernelspec": {
      "name": "python3",
      "display_name": "Python 3"
    },
    "language_info": {
      "name": "python"
    }
  },
  "cells": [
    {
      "cell_type": "markdown",
      "source": [
        "1. What is Boosting in Machine Learning? Explain how it improves weak\n",
        "learners?\n",
        "  - Boosting is an ensemble learning technique that combines multiple weak learners (usually simple models like decision stumps – one-level decision trees) to form a strong learner with much higher accuracy. Instead of training one big complex model, boosting builds models sequentially, where each new model tries to fix the errors made by the previous ones."
      ],
      "metadata": {
        "id": "BbRPxsfWBb5G"
      }
    },
    {
      "cell_type": "markdown",
      "source": [
        "2. What is the difference between AdaBoost and Gradient Boosting in terms\n",
        "of how models are trained?\n",
        "     - AdaBoost (Adaptive Boosting):\n",
        "          - Models are trained sequentially.\n",
        "          - After each round, it updates the weights of training samples: Higher weights for misclassified samples. Lower weights for correctly classified samples.\n",
        "          - The next weak learner focuses more on the “hard” samples\n",
        "          - Final model is a weighted sum of all weak learners.\n",
        "   -  Gradient Boosting:\n",
        "        - Models are also trained sequentially, but instead of reweighting samples, it fits each new learner to the residual errors (gradients) of the previous model.\n",
        "        - Uses gradient descent on a loss function to minimize errors.\n",
        "        - Each new weak learner tries to correct the mistakes (residuals) of the ensemble so far.\n",
        "        - Final model is the sum of all learners’ predictions.      "
      ],
      "metadata": {
        "id": "mNb__u2bBxsi"
      }
    },
    {
      "cell_type": "markdown",
      "source": [
        "3. How does regularization help in XGBoost?\n",
        "   - Regularization in XGBoost adds penalty terms (L1 and L2) to the objective function to control model complexity.\n",
        "  - L1 (Lasso): Makes weights sparse, helps in feature selection.\n",
        "  - L2 (Ridge): Prevents large weights, reduces overfitting.\n",
        "  - Tree parameters (e.g., gamma, max_depth): Further control complexity.\n",
        "  - This helps XGBoost prevent overfitting, improve generalization, and build more robust models."
      ],
      "metadata": {
        "id": "62kWvxmpCiVb"
      }
    },
    {
      "cell_type": "markdown",
      "source": [
        "4. Why is CatBoost considered efficient for handling categorical data?\n",
        "    - CatBoost is considered efficient because it can natively handle categorical features without needing one-hot encoding or extensive preprocessing.\n",
        "   - Uses ordered target statistics (permutation-based encoding) to convert categories into numbers while avoiding target leakage.- Automatically deals with high-cardinality categorical features.\n",
        "   - Reduces preprocessing time and memory usage compared to one-hot encoding.\n",
        "   - Improves accuracy by capturing category relationships effectively"
      ],
      "metadata": {
        "id": "J7A_p4DMDApP"
      }
    },
    {
      "cell_type": "markdown",
      "source": [
        "5. What are some real-world applications where boosting techniques are\n",
        "preferred over bagging methods?\n",
        "- Boosting is often chosen when high accuracy and handling complex patterns are important. Some applications are:\n",
        "\n",
        "a. Fraud Detection: Boosting (e.g., XGBoost, LightGBM) detects rare fraudulent transactions by focusing on hard-to-classify cases.\n",
        "\n",
        "b. Customer Churn Prediction: Captures subtle patterns in customer behavior better than bagging methods.\n",
        "\n",
        "c. Medical Diagnosis: Improves prediction accuracy for diseases by focusing on misclassified cases.\n",
        "\n",
        "d.Search Ranking (e.g., web search engines): Boosting models rank pages/documents effectively.\n",
        "\n",
        "e. Finance & Credit Scoring: Identifies risky loan applicants with higher precision.\n",
        "\n",
        "f. Competitions (Kaggle, etc.): Boosting models (XGBoost, CatBoost, LightGBM) are widely used because they usually outperform bagging methods like Random Forest."
      ],
      "metadata": {
        "id": "rqDhJfUvDfvV"
      }
    },
    {
      "cell_type": "markdown",
      "source": [
        "6. Write a Python program to:\n",
        "● Train an AdaBoost Classifier on the Breast Cancer dataset\n",
        "● Print the model accuracy\n"
      ],
      "metadata": {
        "id": "s0nhWxLvD8GT"
      }
    },
    {
      "cell_type": "code",
      "execution_count": 1,
      "metadata": {
        "colab": {
          "base_uri": "https://localhost:8080/"
        },
        "id": "MHf2-2_UBYVJ",
        "outputId": "dbb77282-49d1-42c5-eb0f-99979280b1be"
      },
      "outputs": [
        {
          "output_type": "stream",
          "name": "stdout",
          "text": [
            "AdaBoost Classifier Accuracy on Breast Cancer dataset: 0.9736842105263158\n"
          ]
        }
      ],
      "source": [
        "from sklearn.datasets import load_breast_cancer\n",
        "from sklearn.model_selection import train_test_split\n",
        "from sklearn.ensemble import AdaBoostClassifier\n",
        "from sklearn.metrics import accuracy_score\n",
        "\n",
        "# Load the Breast Cancer dataset\n",
        "data = load_breast_cancer()\n",
        "X, y = data.data, data.target\n",
        "\n",
        "# Split into training and testing sets (80% train, 20% test)\n",
        "X_train, X_test, y_train, y_test = train_test_split(\n",
        "    X, y, test_size=0.2, random_state=42\n",
        ")\n",
        "\n",
        "# Initialize AdaBoost Classifier\n",
        "model = AdaBoostClassifier(n_estimators=100, random_state=42)\n",
        "\n",
        "# Train the model\n",
        "model.fit(X_train, y_train)\n",
        "\n",
        "# Make predictions\n",
        "y_pred = model.predict(X_test)\n",
        "\n",
        "# Evaluate accuracy\n",
        "accuracy = accuracy_score(y_test, y_pred)\n",
        "\n",
        "print(\"AdaBoost Classifier Accuracy on Breast Cancer dataset:\", accuracy)\n"
      ]
    },
    {
      "cell_type": "markdown",
      "source": [
        "7. Write a Python program to:\n",
        "● Train a Gradient Boosting Regressor on the California Housing dataset\n",
        "● Evaluate performance using R-squared score\n"
      ],
      "metadata": {
        "id": "3E8AfYMhEs6B"
      }
    },
    {
      "cell_type": "code",
      "source": [
        "from sklearn.datasets import fetch_california_housing\n",
        "from sklearn.model_selection import train_test_split\n",
        "from sklearn.ensemble import GradientBoostingRegressor\n",
        "from sklearn.metrics import r2_score\n",
        "\n",
        "# Load California Housing dataset\n",
        "data = fetch_california_housing()\n",
        "X, y = data.data, data.target\n",
        "\n",
        "# Split into training and testing sets (80% train, 20% test)\n",
        "X_train, X_test, y_train, y_test = train_test_split(\n",
        "    X, y, test_size=0.2, random_state=42\n",
        ")\n",
        "\n",
        "# Initialize Gradient Boosting Regressor\n",
        "model = GradientBoostingRegressor(n_estimators=200, learning_rate=0.1, random_state=42)\n",
        "\n",
        "# Train the model\n",
        "model.fit(X_train, y_train)\n",
        "\n",
        "# Predict on test set\n",
        "y_pred = model.predict(X_test)\n",
        "\n",
        "# Evaluate performance using R² score\n",
        "r2 = r2_score(y_test, y_pred)\n",
        "\n",
        "print(\"Gradient Boosting Regressor R² score on California Housing dataset:\", r2)\n"
      ],
      "metadata": {
        "colab": {
          "base_uri": "https://localhost:8080/"
        },
        "id": "TyYEwghvExHF",
        "outputId": "36a0e673-d3be-455a-97af-beaf0551c274"
      },
      "execution_count": 2,
      "outputs": [
        {
          "output_type": "stream",
          "name": "stdout",
          "text": [
            "Gradient Boosting Regressor R² score on California Housing dataset: 0.8004451261281281\n"
          ]
        }
      ]
    },
    {
      "cell_type": "markdown",
      "source": [
        "8. Write a Python program to:\n",
        "● Train an XGBoost Classifier on the Breast Cancer dataset\n",
        "● Tune the learning rate using GridSearchCV\n",
        "● Print the best parameters and accuracy"
      ],
      "metadata": {
        "id": "SouTnVZXE96G"
      }
    },
    {
      "cell_type": "code",
      "source": [
        "from sklearn.datasets import load_breast_cancer\n",
        "from sklearn.model_selection import train_test_split, GridSearchCV\n",
        "from sklearn.metrics import accuracy_score\n",
        "from xgboost import XGBClassifier\n",
        "\n",
        "# Load Breast Cancer dataset\n",
        "data = load_breast_cancer()\n",
        "X, y = data.data, data.target\n",
        "\n",
        "# Split dataset into training and testing sets\n",
        "X_train, X_test, y_train, y_test = train_test_split(\n",
        "    X, y, test_size=0.2, random_state=42\n",
        ")\n",
        "\n",
        "# Initialize XGBoost Classifier\n",
        "xgb_model = XGBClassifier(use_label_encoder=False, eval_metric='logloss', random_state=42)\n",
        "\n",
        "# Define parameter grid for learning rate\n",
        "param_grid = {\n",
        "    'learning_rate': [0.01, 0.05, 0.1, 0.2, 0.3]\n",
        "}\n",
        "\n",
        "# Perform GridSearchCV\n",
        "grid_search = GridSearchCV(\n",
        "    estimator=xgb_model,\n",
        "    param_grid=param_grid,\n",
        "    scoring='accuracy',\n",
        "    cv=5,\n",
        "    n_jobs=-1\n",
        ")\n",
        "\n",
        "grid_search.fit(X_train, y_train)\n",
        "\n",
        "# Get best parameters\n",
        "best_params = grid_search.best_params_\n",
        "best_model = grid_search.best_estimator_\n",
        "\n",
        "# Evaluate on test set\n",
        "y_pred = best_model.predict(X_test)\n",
        "accuracy = accuracy_score(y_test, y_pred)\n",
        "\n",
        "print(\"Best Parameters:\", best_params)\n",
        "print(\"XGBoost Classifier Accuracy on Breast Cancer dataset:\", accuracy)\n"
      ],
      "metadata": {
        "colab": {
          "base_uri": "https://localhost:8080/"
        },
        "id": "g3wtjU4iE_Zo",
        "outputId": "f97e5c1c-df7b-4369-dd20-fc01d5ad230b"
      },
      "execution_count": 3,
      "outputs": [
        {
          "output_type": "stream",
          "name": "stderr",
          "text": [
            "/usr/local/lib/python3.12/dist-packages/xgboost/training.py:183: UserWarning: [07:01:45] WARNING: /workspace/src/learner.cc:738: \n",
            "Parameters: { \"use_label_encoder\" } are not used.\n",
            "\n",
            "  bst.update(dtrain, iteration=i, fobj=obj)\n"
          ]
        },
        {
          "output_type": "stream",
          "name": "stdout",
          "text": [
            "Best Parameters: {'learning_rate': 0.2}\n",
            "XGBoost Classifier Accuracy on Breast Cancer dataset: 0.956140350877193\n"
          ]
        }
      ]
    },
    {
      "cell_type": "markdown",
      "source": [
        "9. Write a Python program to:\n",
        "● Train a CatBoost Classifier\n",
        "● Plot the confusion matrix using seaborn"
      ],
      "metadata": {
        "id": "hQnyikXyFQA6"
      }
    },
    {
      "cell_type": "code",
      "source": [
        "!pip install catboost"
      ],
      "metadata": {
        "colab": {
          "base_uri": "https://localhost:8080/"
        },
        "id": "lQygjG1FFmIC",
        "outputId": "a23ac789-ab57-447c-9192-f7740aa86cce"
      },
      "execution_count": 6,
      "outputs": [
        {
          "output_type": "stream",
          "name": "stdout",
          "text": [
            "Collecting catboost\n",
            "  Downloading catboost-1.2.8-cp312-cp312-manylinux2014_x86_64.whl.metadata (1.2 kB)\n",
            "Requirement already satisfied: graphviz in /usr/local/lib/python3.12/dist-packages (from catboost) (0.21)\n",
            "Requirement already satisfied: matplotlib in /usr/local/lib/python3.12/dist-packages (from catboost) (3.10.0)\n",
            "Requirement already satisfied: numpy<3.0,>=1.16.0 in /usr/local/lib/python3.12/dist-packages (from catboost) (2.0.2)\n",
            "Requirement already satisfied: pandas>=0.24 in /usr/local/lib/python3.12/dist-packages (from catboost) (2.2.2)\n",
            "Requirement already satisfied: scipy in /usr/local/lib/python3.12/dist-packages (from catboost) (1.16.1)\n",
            "Requirement already satisfied: plotly in /usr/local/lib/python3.12/dist-packages (from catboost) (5.24.1)\n",
            "Requirement already satisfied: six in /usr/local/lib/python3.12/dist-packages (from catboost) (1.17.0)\n",
            "Requirement already satisfied: python-dateutil>=2.8.2 in /usr/local/lib/python3.12/dist-packages (from pandas>=0.24->catboost) (2.9.0.post0)\n",
            "Requirement already satisfied: pytz>=2020.1 in /usr/local/lib/python3.12/dist-packages (from pandas>=0.24->catboost) (2025.2)\n",
            "Requirement already satisfied: tzdata>=2022.7 in /usr/local/lib/python3.12/dist-packages (from pandas>=0.24->catboost) (2025.2)\n",
            "Requirement already satisfied: contourpy>=1.0.1 in /usr/local/lib/python3.12/dist-packages (from matplotlib->catboost) (1.3.3)\n",
            "Requirement already satisfied: cycler>=0.10 in /usr/local/lib/python3.12/dist-packages (from matplotlib->catboost) (0.12.1)\n",
            "Requirement already satisfied: fonttools>=4.22.0 in /usr/local/lib/python3.12/dist-packages (from matplotlib->catboost) (4.59.1)\n",
            "Requirement already satisfied: kiwisolver>=1.3.1 in /usr/local/lib/python3.12/dist-packages (from matplotlib->catboost) (1.4.9)\n",
            "Requirement already satisfied: packaging>=20.0 in /usr/local/lib/python3.12/dist-packages (from matplotlib->catboost) (25.0)\n",
            "Requirement already satisfied: pillow>=8 in /usr/local/lib/python3.12/dist-packages (from matplotlib->catboost) (11.3.0)\n",
            "Requirement already satisfied: pyparsing>=2.3.1 in /usr/local/lib/python3.12/dist-packages (from matplotlib->catboost) (3.2.3)\n",
            "Requirement already satisfied: tenacity>=6.2.0 in /usr/local/lib/python3.12/dist-packages (from plotly->catboost) (8.5.0)\n",
            "Downloading catboost-1.2.8-cp312-cp312-manylinux2014_x86_64.whl (99.2 MB)\n",
            "\u001b[2K   \u001b[90m━━━━━━━━━━━━━━━━━━━━━━━━━━━━━━━━━━━━━━━━\u001b[0m \u001b[32m99.2/99.2 MB\u001b[0m \u001b[31m10.0 MB/s\u001b[0m eta \u001b[36m0:00:00\u001b[0m\n",
            "\u001b[?25hInstalling collected packages: catboost\n",
            "Successfully installed catboost-1.2.8\n"
          ]
        }
      ]
    },
    {
      "cell_type": "code",
      "source": [
        "from sklearn.datasets import load_breast_cancer\n",
        "from sklearn.model_selection import train_test_split\n",
        "from sklearn.metrics import confusion_matrix, accuracy_score\n",
        "from catboost import CatBoostClassifier\n",
        "import seaborn as sns\n",
        "import matplotlib.pyplot as plt\n",
        "\n",
        "# Load Breast Cancer dataset\n",
        "data = load_breast_cancer()\n",
        "X, y = data.data, data.target\n",
        "\n",
        "# Split dataset\n",
        "X_train, X_test, y_train, y_test = train_test_split(\n",
        "    X, y, test_size=0.2, random_state=42\n",
        ")\n",
        "\n",
        "# Initialize CatBoost Classifier (silent training with verbose=0)\n",
        "model = CatBoostClassifier(iterations=200, learning_rate=0.1, depth=6, verbose=0, random_state=42)\n",
        "\n",
        "# Train the model\n",
        "model.fit(X_train, y_train)\n",
        "\n",
        "# Predict on test set\n",
        "y_pred = model.predict(X_test)\n",
        "\n",
        "# Evaluate accuracy\n",
        "accuracy = accuracy_score(y_test, y_pred)\n",
        "print(\"CatBoost Classifier Accuracy:\", accuracy)\n",
        "\n",
        "# Confusion Matrix\n",
        "cm = confusion_matrix(y_test, y_pred)\n",
        "\n",
        "# Plot confusion matrix using seaborn\n",
        "plt.figure(figsize=(6, 4))\n",
        "sns.heatmap(cm, annot=True, fmt='d', cmap='Blues',\n",
        "            xticklabels=data.target_names,\n",
        "            yticklabels=data.target_names)\n",
        "plt.xlabel(\"Predicted\")\n",
        "plt.ylabel(\"Actual\")\n",
        "plt.title(\"Confusion Matrix - CatBoost Classifier\")\n",
        "plt.show()\n"
      ],
      "metadata": {
        "colab": {
          "base_uri": "https://localhost:8080/",
          "height": 427
        },
        "id": "taUOAEEmFc7l",
        "outputId": "2a4c043c-fbd1-4d21-f960-4c84297c03d3"
      },
      "execution_count": 7,
      "outputs": [
        {
          "output_type": "stream",
          "name": "stdout",
          "text": [
            "CatBoost Classifier Accuracy: 0.9649122807017544\n"
          ]
        },
        {
          "output_type": "display_data",
          "data": {
            "text/plain": [
              "<Figure size 600x400 with 2 Axes>"
            ],
            "image/png": "[encoded data removed]"
          },
          "metadata": {}
        }
      ]
    },
    {
      "cell_type": "markdown",
      "source": [
        "10. You're working for a FinTech company trying to predict loan default using\n",
        "customer demographics and transaction behavior.\n",
        "The dataset is imbalanced, contains missing values, and has both numeric and\n",
        "categorical features.\n",
        "Describe your step-by-step data science pipeline using boosting techniques:\n",
        "● Data preprocessing & handling missing/categorical values\n",
        "● Choice between AdaBoost, XGBoost, or CatBoost\n",
        "● Hyperparameter tuning strategy\n",
        "● Evaluation metrics you'd choose and why\n",
        "● How the business would benefit from your model\n"
      ],
      "metadata": {
        "id": "CIcvo14_FwZO"
      }
    },
    {
      "cell_type": "markdown",
      "source": [
        "1) Data preprocessing & handling missing / categorical values\n",
        "\n",
        "Inspect & clean: drop exact duplicates, handle outliers (winsorize or clip), parse dates if any.\n",
        "\n",
        "- Missing values:\n",
        "\n",
        "Numeric → median or mean imputation (robust: median). For time-series/sequence use forward/backward fill or model-based imputation.\n",
        "\n",
        "Categorical → fill with a constant token (\"missing\") or use model-based imputation.\n",
        "\n",
        "For advanced use: IterativeImputer or KNN imputer.\n",
        "\n",
        "- Categorical encoding:\n",
        "\n",
        "CatBoost: no encoding required — it uses ordered target statistics (safe K-fold target encoding internally) and handles high-cardinality categories.\n",
        "\n",
        "XGBoost/LightGBM: use target encoding (with proper K-fold/leave-one-out to avoid leakage) or one-hot for low-cardinality columns. For very high-cardinality prefer frequency encoding or target smoothing.\n",
        "\n",
        "- Feature scaling:\n",
        "\n",
        "Tree-based boosters don’t require scaling, but if you use linear base learners or any distance-based method, scale numeric features.\n",
        "\n",
        "- Feature engineering:\n",
        "\n",
        "Create ratio features (e.g., outstanding/limit), time-since-last-default, aggregated transaction features (counts, sums, std), and interaction features.\n",
        "\n",
        "Train-test split: stratify by target (important for imbalanced classes).\n",
        "\n",
        "2) Handling imbalance\n",
        "\n",
        "- Algorithm-level: set class weights / scale_pos_weight (XGBoost) so the learner emphasizes the minority class.\n",
        "\n",
        "- Data-level: oversample (SMOTE) or undersample; use with care (risk of overfitting).\n",
        "\n",
        "- Cost-sensitive: optimize threshold to minimize expected business cost (use cost matrix).\n",
        "\n",
        "- Evaluation: always use stratified CV during tuning.\n",
        "\n",
        "3) Choice between AdaBoost, XGBoost, CatBoost\n",
        "\n",
        "- AdaBoost:\n",
        "\n",
        "Simpler; base learners typically shallow trees.\n",
        "\n",
        "Not ideal for noisy / very imbalanced data. Use for simple tasks or baseline.\n",
        "\n",
        "- XGBoost:\n",
        "\n",
        "Fast, very flexible, widely used; needs encoding for categorical features.\n",
        "\n",
        "Good for big tabular datasets; supports scale_pos_weight for imbalance.\n",
        "\n",
        "- CatBoost:\n",
        "\n",
        "Best choice if many categorical features or you want minimal preprocessing.\n",
        "\n",
        "Handles categorical features natively and uses ordered target statistics to avoid leakage.\n",
        "Recommendation: For loan-default with many categorical fields and missing data → CatBoost (or XGBoost if you prefer speed & manual encoding).\n",
        "\n",
        "4) Hyperparameter tuning strategy\n",
        "\n",
        "- Use StratifiedKFold (k=4 or 5).\n",
        "\n",
        "- Optimize for PR-AUC (average_precision) if classes are imbalanced (more informative than accuracy).\n",
        "\n",
        "- Parameters to tune:\n",
        "\n",
        "learning_rate (0.01 → 0.2), n_estimators (50 → 1000), max_depth (3 → 8), subsample (0.6 → 1.0), colsample_bytree (0.6 → 1.0).\n",
        "\n",
        "XGBoost/CatBoost: tune scale_pos_weight or use class weights.\n",
        "\n",
        "- Use RandomizedSearchCV or Bayesian search (e.g., Optuna) for efficiency. Use early stopping to avoid unnecessary boosting rounds.\n",
        "\n",
        "- Metric in CV: average_precision (PR-AUC); also track roc_auc.\n",
        "\n",
        "5) Evaluation metrics (and why)\n",
        "\n",
        "- PR-AUC (Average Precision) — best for imbalanced datasets; focuses on minority-class precision vs recall.\n",
        "\n",
        "- ROC-AUC — general separability measure (useful but optimistic when imbalance is extreme).\n",
        "\n",
        "- Precision / Recall / F1 — choose depending on business cost:\n",
        "\n",
        "If missing a defaulter is very costly → prioritize recall (minimize FN).\n",
        "\n",
        "If flagging good customers is costly → prioritize precision (minimize FP).\n",
        "\n",
        "- Confusion matrix — to compute business costs from FN / FP counts.\n",
        "\n",
        "- Calibration / Brier score — for good probability estimates (useful when using probabilities to decide interventions).\n",
        "\n",
        "- Lift and Gain charts — for prioritizing outreach to the top X% of high-risk users.\n",
        "\n",
        "6) Business benefits from a good boosting model\n",
        "\n",
        "- Reduce defaults by early detection → lower charge-offs and better provisioning.\n",
        "\n",
        "- Prioritize interventions (collections, monitoring, collateral checks) on high-risk customers to reduce losses cost-effectively.\n",
        "\n",
        "- Optimize credit policy and pricing (risk-based pricing / interest spreads).\n",
        "\n",
        "- Operational ROI: fewer manual reviews, targeted collections, better capital allocation.\n",
        "\n",
        "- Explainability & compliance: feature"
      ],
      "metadata": {
        "id": "nP1c0NZPHdO2"
      }
    },
    {
      "cell_type": "code",
      "source": [
        "\n",
        "import numpy as np\n",
        "import pandas as pd\n",
        "from sklearn.datasets import make_classification\n",
        "from sklearn.model_selection import train_test_split\n",
        "from sklearn.pipeline import Pipeline\n",
        "from sklearn.compose import ColumnTransformer\n",
        "from sklearn.impute import SimpleImputer\n",
        "from sklearn.preprocessing import OneHotEncoder, StandardScaler\n",
        "from sklearn.tree import DecisionTreeClassifier\n",
        "from sklearn.ensemble import AdaBoostClassifier\n",
        "from sklearn.metrics import classification_report, confusion_matrix, roc_auc_score, average_precision_score\n",
        "import matplotlib.pyplot as plt\n",
        "import warnings\n",
        "warnings.filterwarnings(\"ignore\")\n",
        "\n",
        "RNG = 42\n",
        "np.random.seed(RNG)\n",
        "\n",
        "# -- small synthetic dataset --\n",
        "X_num, y = make_classification(n_samples=1200, n_features=6, n_informative=4, weights=[0.9], flip_y=0.01, random_state=RNG)\n",
        "df = pd.DataFrame(X_num, columns=[f'num_{i}' for i in range(X_num.shape[1])])\n",
        "n = df.shape[0]\n",
        "df['cat_1'] = np.random.choice(['A','B','C'], size=n, p=[0.7,0.2,0.1])\n",
        "df['cat_2'] = np.random.choice(['X','Y'], size=n, p=[0.8,0.2])\n",
        "\n",
        "# small missingness\n",
        "for col in df.columns:\n",
        "    if col.startswith('num_'):\n",
        "        df.loc[np.random.rand(n) < 0.03, col] = np.nan\n",
        "    else:\n",
        "        df.loc[np.random.rand(n) < 0.05, col] = np.nan\n",
        "\n",
        "X_train, X_test, y_train, y_test = train_test_split(df, y, test_size=0.2, stratify=y, random_state=RNG)\n",
        "\n",
        "numeric_features = [c for c in df.columns if c.startswith('num_')]\n",
        "categorical_features = [c for c in df.columns if c.startswith('cat_')]\n",
        "\n",
        "numeric_transformer = Pipeline([('imputer', SimpleImputer(strategy='median')), ('scaler', StandardScaler())])\n",
        "categorical_transformer = Pipeline([('imputer', SimpleImputer(strategy='constant', fill_value='missing')), ('onehot', OneHotEncoder(handle_unknown='ignore', sparse_output=False)\n",
        ")])\n",
        "preprocessor = ColumnTransformer([('num', numeric_transformer, numeric_features), ('cat', categorical_transformer, categorical_features)])\n",
        "\n",
        "# Try XGBoost if available\n",
        "use_xgb = False\n",
        "try:\n",
        "    from xgboost import XGBClassifier\n",
        "    use_xgb = True\n",
        "except Exception:\n",
        "    use_xgb = False\n",
        "\n",
        "if use_xgb:\n",
        "    n_neg = np.sum(y_train == 0)\n",
        "    n_pos = np.sum(y_train == 1)\n",
        "    scale_pos_weight = n_neg / max(1, n_pos)\n",
        "    clf = XGBClassifier(use_label_encoder=False, eval_metric='logloss', random_state=RNG,\n",
        "                        n_jobs=1, scale_pos_weight=scale_pos_weight,\n",
        "                        learning_rate=0.05, n_estimators=50, max_depth=3, verbosity=0, tree_method='hist')\n",
        "    algo_name = \"XGBoost\"\n",
        "else:\n",
        "    base = DecisionTreeClassifier(max_depth=3, class_weight='balanced', random_state=RNG)\n",
        "    clf = AdaBoostClassifier(base_estimator=base, n_estimators=50, learning_rate=0.1, random_state=RNG)\n",
        "    algo_name = \"AdaBoost (DecisionTree base)\"\n",
        "\n",
        "pipeline = Pipeline([('pre', preprocessor), ('clf', clf)])\n",
        "\n",
        "# Train\n",
        "pipeline.fit(X_train, y_train)\n",
        "\n",
        "# Predict & evaluate\n",
        "y_proba = pipeline.predict_proba(X_test)[:,1]\n",
        "y_pred = pipeline.predict(X_test)\n",
        "\n",
        "print(\"Algorithm used:\", algo_name)\n",
        "print(\"\\nClassification report (test):\")\n",
        "print(classification_report(y_test, y_pred, digits=4))\n",
        "print(\"ROC-AUC:\", round(roc_auc_score(y_test, y_proba),4))\n",
        "print(\"PR-AUC (avg precision):\", round(average_precision_score(y_test, y_proba),4))\n",
        "\n",
        "cm = confusion_matrix(y_test, y_pred)\n",
        "tn, fp, fn, tp = cm.ravel()\n",
        "print(\"Confusion matrix (tn, fp, fn, tp):\", (tn, fp, fn, tp))\n",
        "\n",
        "# plot confusion matrix\n",
        "plt.figure(figsize=(4,3.5))\n",
        "plt.imshow(cm, interpolation='nearest', aspect='auto')\n",
        "plt.title('Confusion Matrix')\n",
        "plt.xlabel('Predicted')\n",
        "plt.ylabel('Actual')\n",
        "plt.xticks([0,1], ['NoDefault','Default'])\n",
        "plt.yticks([0,1], ['NoDefault','Default'])\n",
        "for i in range(cm.shape[0]):\n",
        "    for j in range(cm.shape[1]):\n",
        "        plt.text(j, i, int(cm[i,j]), ha='center', va='center')\n",
        "plt.colorbar()\n",
        "plt.tight_layout()\n",
        "plt.show()\n",
        "\n",
        "# Business example (hypothetical)\n",
        "avg_loss_per_default = 10000.0\n",
        "avg_cost_of_intervention = 200.0\n",
        "baseline_cost = np.sum(y_test == 1) * avg_loss_per_default\n",
        "model_cost = fn * avg_loss_per_default + fp * avg_cost_of_intervention\n",
        "print(f\"\\nBusiness cost example: baseline={baseline_cost:,.0f}, model_cost={model_cost:,.0f}, savings={baseline_cost-model_cost:,.0f}\")\n",
        "\n",
        "\n",
        "\n",
        "\n"
      ],
      "metadata": {
        "colab": {
          "base_uri": "https://localhost:8080/",
          "height": 652
        },
        "id": "aWryN0TPF3T9",
        "outputId": "f46aa6e5-e325-47d9-b396-db49e902820e"
      },
      "execution_count": 11,
      "outputs": [
        {
          "output_type": "stream",
          "name": "stdout",
          "text": [
            "Algorithm used: XGBoost\n",
            "\n",
            "Classification report (test):\n",
            "              precision    recall  f1-score   support\n",
            "\n",
            "           0     0.9608    0.9116    0.9356       215\n",
            "           1     0.4722    0.6800    0.5574        25\n",
            "\n",
            "    accuracy                         0.8875       240\n",
            "   macro avg     0.7165    0.7958    0.7465       240\n",
            "weighted avg     0.9099    0.8875    0.8962       240\n",
            "\n",
            "ROC-AUC: 0.8996\n",
            "PR-AUC (avg precision): 0.7307\n",
            "Confusion matrix (tn, fp, fn, tp): (np.int64(196), np.int64(19), np.int64(8), np.int64(17))\n"
          ]
        },
        {
          "output_type": "display_data",
          "data": {
            "text/plain": [
              "<Figure size 400x350 with 2 Axes>"
            ],
            "image/png": "[encoded data removed]"
          },
          "metadata": {}
        },
        {
          "output_type": "stream",
          "name": "stdout",
          "text": [
            "\n",
            "Business cost example: baseline=250,000, model_cost=83,800, savings=166,200\n"
          ]
        }
      ]
    }
  ]
}