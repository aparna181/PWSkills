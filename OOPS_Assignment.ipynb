{
  "nbformat": 4,
  "nbformat_minor": 0,
  "metadata": {
    "colab": {
      "provenance": []
    },
    "kernelspec": {
      "name": "python3",
      "display_name": "Python 3"
    },
    "language_info": {
      "name": "python"
    }
  },
  "cells": [
    {
      "cell_type": "markdown",
      "source": [
        "#OOPS in Python"
      ],
      "metadata": {
        "id": "cMXiU-qQo-8p"
      }
    },
    {
      "cell_type": "markdown",
      "source": [
        "#Theory questions"
      ],
      "metadata": {
        "id": "09pYR9KspDuZ"
      }
    },
    {
      "cell_type": "markdown",
      "source": [
        "1. What is Object-Oriented Programming (OOP)?\n",
        "   -Object-Oriented Programming (OOPs) is a modern programming approach that organizes software design around objects rather than actions or logic. In this style, objects are instances of classes — blueprints that define the properties (attributes) and behaviors (methods) of real-world entities. Instead of focusing solely on the functions and data separately, OOP combines them, making programs more intuitive, manageable, and scalable.\n",
        "   At its core, OOP is based on four main principles:\n",
        "\n",
        "   Encapsulation: Wrapping data and code into a single unit, protecting the internal state from outside interference.\n",
        "\n",
        "   Inheritance: Allowing a class to acquire properties and behaviors of another, promoting code reusability and hierarchy.\n",
        "\n",
        "   Polymorphism: Providing a way to perform a single action in different forms, increasing flexibility and integration.\n",
        "\n",
        "   Abstraction: Hiding complex realities while exposing only the necessary parts, making the software easier to understand and maintain."
      ],
      "metadata": {
        "id": "F4DCnYVDpOyK"
      }
    },
    {
      "cell_type": "markdown",
      "source": [
        "2. What is a class in OOP?\n",
        "  - A class in Object-Oriented Programming is like a blueprint or template for creating objects. It defines a set of attributes (data) and methods (functions) that the created objects (instances) will have. Classes make programming closer to the way we think about the real world — using objects and their interactions — which helps in building complex systems more easily and efficiently.\n",
        "  for example: if you have a \"Car\" class, it might describe properties like color, model, and speed, and behaviors like accelerate() or brake()."
      ],
      "metadata": {
        "id": "tA7CepoVJHw9"
      }
    },
    {
      "cell_type": "markdown",
      "source": [
        "3. What is an object in OOP?\n",
        " - An object is an instance of a class in Object-Oriented Programming. It represents a real-world entity with specific attributes (data) and behaviors (methods). Objects are the building blocks of OOP, and each object can have different values while sharing the same structure defined by its class."
      ],
      "metadata": {
        "id": "Dx8Vrxb6JrsG"
      }
    },
    {
      "cell_type": "markdown",
      "source": [
        "4. What is the difference between abstraction and encapsulation?\n",
        "  - Difference between Abstraction and Encapsulation:\n",
        "\n",
        "    Abstraction focuses on hiding unnecessary details and showing only the essential features to the user. It simplifies complexity by exposing only what is needed. ex- When you drive a car, you use the steering wheel and pedals without knowing the complex internal engine working.\n",
        "\n",
        "    Encapsulation is the process of wrapping data and methods into a single unit (class) and restricting direct access to some components, thus protecting the data. ex- In a car, the engine details are hidden inside, and you can't directly change them; you can only use the controls provided (like the start button).\n",
        "\n",
        "    Abstraction is about what is exposed, while encapsulation is about how it is protected"
      ],
      "metadata": {
        "id": "lYv5LuoiJ8jY"
      }
    },
    {
      "cell_type": "markdown",
      "source": [
        "5.  What are dunder methods in Python?\n",
        "   - Dunder methods, also called magic methods, are special methods in Python that have double underscores (__) at the beginning and end of their names. They allow us to define how objects behave with built-in operations like addition, printing, or comparisons.\n",
        "  "
      ],
      "metadata": {
        "id": "3c2DbPO0K0g4"
      }
    },
    {
      "cell_type": "code",
      "execution_count": null,
      "metadata": {
        "id": "M73zPnyao18I",
        "colab": {
          "base_uri": "https://localhost:8080/"
        },
        "outputId": "087c4a96-3359-4be4-a755-f7a811c62162"
      },
      "outputs": [
        {
          "output_type": "stream",
          "name": "stdout",
          "text": [
            "30\n"
          ]
        }
      ],
      "source": [
        "#Example: __init__, __str__, __add__.\n",
        "class Demo:\n",
        "    def __init__(self, value):\n",
        "        self.value = value\n",
        "\n",
        "    def __add__(self, other):\n",
        "        return Demo(self.value + other.value)\n",
        "\n",
        "obj1 = Demo(10)\n",
        "obj2 = Demo(20)\n",
        "result = obj1 + obj2\n",
        "print(result.value)\n"
      ]
    },
    {
      "cell_type": "markdown",
      "source": [
        "6. Explain the concept of inheritance in OOP?\n",
        "    - Inheritance is a fundamental concept in Object-Oriented Programming (OOP) that allows a class (child class) to inherit attributes and methods from another class (parent class). This promotes code reusability and creates a relationship between the parent and child classes, where the child class can extend or modify the functionality of the parent class. In inheritance:The parent class (or base class) defines the common features.The child class (or subclass) inherits and can extend or override these features."
      ],
      "metadata": {
        "id": "EBcI7fV3MzFx"
      }
    },
    {
      "cell_type": "code",
      "source": [
        "class Animal:\n",
        "    def speak(self):\n",
        "        print(\"Animal speaks\")\n",
        "\n",
        "class Dog(Animal):\n",
        "    def speak(self):\n",
        "        print(\"Dog barks\")\n",
        "\n",
        "dog = Dog()\n",
        "dog.speak()\n"
      ],
      "metadata": {
        "colab": {
          "base_uri": "https://localhost:8080/"
        },
        "id": "7o19z0lMNLnM",
        "outputId": "2851054c-4c02-45a9-f2ee-dc30be3d0b0a"
      },
      "execution_count": null,
      "outputs": [
        {
          "output_type": "stream",
          "name": "stdout",
          "text": [
            "Dog barks\n"
          ]
        }
      ]
    },
    {
      "cell_type": "markdown",
      "source": [
        "7.  What is polymorphism in OOP?\n",
        "   - Polymorphism is a key concept in Object-Oriented Programming (OOP) that allows different classes to define methods that have the same name but behave differently. It enables the use of a single interface to represent different underlying forms or actions, enhancing flexibility and making code more extensible.There are two types of polymorphism: Compile-time (Method Overloading): Same method name with different arguments.Run-time (Method Overriding): Same method name in different classes with different implementations"
      ],
      "metadata": {
        "id": "JyDILU7GNRm5"
      }
    },
    {
      "cell_type": "code",
      "source": [
        "class Animal:\n",
        "    def speak(self):\n",
        "        print(\"Animal speaks\")\n",
        "\n",
        "class Dog(Animal):\n",
        "    def speak(self):\n",
        "        print(\"Dog barks\")\n",
        "\n",
        "class Cat(Animal):\n",
        "    def speak(self):\n",
        "        print(\"Cat meows\")\n",
        "\n",
        "def animal_sound(animal):\n",
        "    animal.speak()\n",
        "\n",
        "\n",
        "dog = Dog()\n",
        "cat = Cat()\n",
        "\n",
        "animal_sound(dog)\n",
        "animal_sound(cat)\n"
      ],
      "metadata": {
        "colab": {
          "base_uri": "https://localhost:8080/"
        },
        "id": "P_28ghm5Nj5C",
        "outputId": "d581a99f-9353-46de-a782-fd963255aeba"
      },
      "execution_count": null,
      "outputs": [
        {
          "output_type": "stream",
          "name": "stdout",
          "text": [
            "Dog barks\n",
            "Cat meows\n"
          ]
        }
      ]
    },
    {
      "cell_type": "markdown",
      "source": [
        "8. How is encapsulation achieved in Python?\n",
        "  - Encapsulation in Python is achieved by restricting direct access to the attributes and methods of a class. This is done by: Using a single underscore (_variable) to indicate a protected member (convention only). Using a double underscore (__variable) to make a member private and restrict access."
      ],
      "metadata": {
        "id": "YO9FShTTNufk"
      }
    },
    {
      "cell_type": "code",
      "source": [
        "#example\n",
        "class Demo:\n",
        "    def __init__(self):\n",
        "        self._protected = \"Protected\"\n",
        "        self.__private = \"Private\"\n",
        "\n",
        "obj = Demo()\n",
        "print(obj._protected)    # Can access, but discouraged\n",
        "# print(obj.__private)   # Cannot access directly\n"
      ],
      "metadata": {
        "colab": {
          "base_uri": "https://localhost:8080/"
        },
        "id": "Me9k0yVRujSn",
        "outputId": "5fb3ae3a-96b7-4d39-8f27-1f755b4e18cb"
      },
      "execution_count": null,
      "outputs": [
        {
          "output_type": "stream",
          "name": "stdout",
          "text": [
            "Protected\n"
          ]
        }
      ]
    },
    {
      "cell_type": "markdown",
      "source": [
        "9. What is a constructor in Python?\n",
        "    - A constructor in Python is a special method used to initialize objects when a class is created. It is defined using the __init__() method and automatically called when a new object is made, allowing you to set initial values for attributes."
      ],
      "metadata": {
        "id": "PjjrcrbeN405"
      }
    },
    {
      "cell_type": "code",
      "source": [
        "class Student:\n",
        "    def __init__(self, roll_no, name):\n",
        "        self.roll_no = roll_no\n",
        "        self.name = name\n",
        "\n",
        "s1 = Student(101, \"Aparna\")\n",
        "print(s1.roll_no)\n",
        "print(s1.name)\n"
      ],
      "metadata": {
        "colab": {
          "base_uri": "https://localhost:8080/"
        },
        "id": "FBK5WiPUvuZv",
        "outputId": "b45cc282-cb56-42d3-87a5-aa2c4705c24a"
      },
      "execution_count": null,
      "outputs": [
        {
          "output_type": "stream",
          "name": "stdout",
          "text": [
            "101\n",
            "Aparna\n"
          ]
        }
      ]
    },
    {
      "cell_type": "markdown",
      "source": [
        "10. What are class and static methods in Python?\n",
        "  - Class Method:A class method is defined using the @classmethod decorator. It takes cls as the first parameter and can modify the class state. It can be called using the class name or an instance."
      ],
      "metadata": {
        "id": "9HWlB6yMOBB6"
      }
    },
    {
      "cell_type": "code",
      "source": [
        "class Demo:\n",
        "    count = 0\n",
        "\n",
        "    @classmethod\n",
        "    def show_count(cls):\n",
        "        print(f\"Count is {cls.count}\")\n",
        "\n",
        "Demo.show_count()\n"
      ],
      "metadata": {
        "colab": {
          "base_uri": "https://localhost:8080/"
        },
        "id": "AmGMYLnSwPCA",
        "outputId": "f2a6bf33-04b7-4885-b71c-79e7c1c065c4"
      },
      "execution_count": null,
      "outputs": [
        {
          "output_type": "stream",
          "name": "stdout",
          "text": [
            "Count is 0\n"
          ]
        }
      ]
    },
    {
      "cell_type": "markdown",
      "source": [
        " -   Static Method:\n",
        "A static method is defined using the @staticmethod decorator. It does not take self or cls as a parameter and behaves like a regular function but belongs to the class’s namespace."
      ],
      "metadata": {
        "id": "tAHx0NtnwVXL"
      }
    },
    {
      "cell_type": "code",
      "source": [
        "class Demo:\n",
        "    @staticmethod\n",
        "    def greet():\n",
        "        print(\"Hello from static method!\")\n",
        "\n",
        "Demo.greet()\n"
      ],
      "metadata": {
        "colab": {
          "base_uri": "https://localhost:8080/"
        },
        "id": "hom9KPvfwUu6",
        "outputId": "fcfcc153-4830-4ad5-fbdd-8d33ac6d30e3"
      },
      "execution_count": null,
      "outputs": [
        {
          "output_type": "stream",
          "name": "stdout",
          "text": [
            "Hello from static method!\n"
          ]
        }
      ]
    },
    {
      "cell_type": "markdown",
      "source": [
        "11. What is method overloading in Python?\n",
        "    - Method overloading means defining multiple methods with the same name but different arguments. However, Python does not support traditional method overloading like some other languages. Instead, you can achieve it by using default arguments or variable-length arguments (*args, **kwargs) to handle different cases in a single method."
      ],
      "metadata": {
        "id": "umeFfmk_OHLB"
      }
    },
    {
      "cell_type": "code",
      "source": [
        "class Demo:\n",
        "    def show(self, a=None, b=None):\n",
        "        if a is not None and b is not None:\n",
        "            print(a, b)\n",
        "        elif a is not None:\n",
        "            print(a)\n",
        "        else:\n",
        "            print(\"No arguments\")\n",
        "\n",
        "d = Demo()\n",
        "d.show()\n",
        "d.show(10)\n",
        "d.show(10, 20)\n"
      ],
      "metadata": {
        "colab": {
          "base_uri": "https://localhost:8080/"
        },
        "id": "g3AvwP0DwzB2",
        "outputId": "4ad53fc0-6ee0-46be-8ae6-aeb966d8eaf0"
      },
      "execution_count": null,
      "outputs": [
        {
          "output_type": "stream",
          "name": "stdout",
          "text": [
            "No arguments\n",
            "10\n",
            "10 20\n"
          ]
        }
      ]
    },
    {
      "cell_type": "markdown",
      "source": [
        "12. What is method overriding in OOP?\n",
        "    -  Method overriding occurs when a child class provides its own implementation of a method that is already defined in the parent class. It allows the child class to modify or extend the behavior of the parent class’s method."
      ],
      "metadata": {
        "id": "eSZNliFOw7iq"
      }
    },
    {
      "cell_type": "code",
      "source": [
        "class Animal:\n",
        "    def speak(self):\n",
        "        print(\"Animal speaks\")\n",
        "\n",
        "class Dog(Animal):\n",
        "    def speak(self):\n",
        "        print(\"Dog barks\")\n",
        "\n",
        "d = Dog()\n",
        "d.speak()\n"
      ],
      "metadata": {
        "colab": {
          "base_uri": "https://localhost:8080/"
        },
        "id": "OXum3yVIxH5m",
        "outputId": "58fa3bdb-b67b-4f6b-ae88-d2730e100672"
      },
      "execution_count": null,
      "outputs": [
        {
          "output_type": "stream",
          "name": "stdout",
          "text": [
            "Dog barks\n"
          ]
        }
      ]
    },
    {
      "cell_type": "markdown",
      "source": [
        "13. What is a property decorator in Python?\n",
        "    -  The @property decorator in Python is used to define a method as a getter, allowing you to access it like an attribute. It helps in controlling access to private variables and makes the class more readable and secure."
      ],
      "metadata": {
        "id": "wQ8sspI8xPl-"
      }
    },
    {
      "cell_type": "code",
      "source": [
        "class Demo:\n",
        "    def __init__(self, value):\n",
        "        self._value = value\n",
        "\n",
        "    @property\n",
        "    def value(self):\n",
        "        return self._value\n",
        "\n",
        "obj = Demo(100)\n",
        "print(obj.value)\n"
      ],
      "metadata": {
        "colab": {
          "base_uri": "https://localhost:8080/"
        },
        "id": "0F8QO7iVxbYn",
        "outputId": "44dcd1bc-c25d-4dc1-e498-434a49279e7d"
      },
      "execution_count": null,
      "outputs": [
        {
          "output_type": "stream",
          "name": "stdout",
          "text": [
            "100\n"
          ]
        }
      ]
    },
    {
      "cell_type": "markdown",
      "source": [
        "14. Why is polymorphism important in OOP?\n",
        "    -  Polymorphism is important in OOP because it allows objects of different classes to be treated through a common interface. It makes code more flexible, reusable, and easier to maintain, as the same method can work differently depending on the object type, reducing code duplication and improving scalability."
      ],
      "metadata": {
        "id": "56m78heDxldh"
      }
    },
    {
      "cell_type": "code",
      "source": [
        "class Bird:\n",
        "    def sound(self):\n",
        "        print(\"Some bird sound\")\n",
        "\n",
        "class Sparrow(Bird):\n",
        "    def sound(self):\n",
        "        print(\"Chirp Chirp\")\n",
        "\n",
        "class Parrot(Bird):\n",
        "    def sound(self):\n",
        "        print(\"Squawk\")\n",
        "\n",
        "def make_sound(bird):\n",
        "    bird.sound()\n",
        "\n",
        "make_sound(Sparrow())\n",
        "make_sound(Parrot())\n"
      ],
      "metadata": {
        "colab": {
          "base_uri": "https://localhost:8080/"
        },
        "id": "qX0Dmt_3x0pg",
        "outputId": "c96416d6-e85b-4d0d-e378-b7d608cec3cd"
      },
      "execution_count": null,
      "outputs": [
        {
          "output_type": "stream",
          "name": "stdout",
          "text": [
            "Chirp Chirp\n",
            "Squawk\n"
          ]
        }
      ]
    },
    {
      "cell_type": "markdown",
      "source": [
        "15. What is an abstract class in Python?\n",
        "    - An abstract class in Python is a class that cannot be instantiated directly. It serves as a blueprint for other classes and can have abstract methods (methods without implementation) that must be defined in its child classes. Abstract classes are created using the abc module and the @abstractmethod decorator."
      ],
      "metadata": {
        "id": "LcgiA-Nlx8xe"
      }
    },
    {
      "cell_type": "code",
      "source": [
        "from abc import ABC, abstractmethod\n",
        "\n",
        "class Shape(ABC):\n",
        "    @abstractmethod\n",
        "    def area(self):\n",
        "        pass\n",
        "\n",
        "class Circle(Shape):\n",
        "    def area(self):\n",
        "        print(\"Area of Circle\")\n",
        "\n",
        "c = Circle()\n",
        "c.area()\n"
      ],
      "metadata": {
        "colab": {
          "base_uri": "https://localhost:8080/"
        },
        "id": "3CBAl1CxyMAV",
        "outputId": "a2d59614-b221-490f-b27b-7351d5381208"
      },
      "execution_count": null,
      "outputs": [
        {
          "output_type": "stream",
          "name": "stdout",
          "text": [
            "Area of Circle\n"
          ]
        }
      ]
    },
    {
      "cell_type": "markdown",
      "source": [
        "16. What are the advantages of OOP?\n",
        "    - Modularity: Code is organized into separate classes, making it easy to manage.\n",
        "\n",
        "      Reusability: Classes and objects can be reused across programs, saving time.\n",
        "\n",
        "      Extensibility: Existing code can be easily extended with new features.\n",
        "\n",
        "      Data Security: Encapsulation protects data from direct access and unwanted changes.\n",
        "\n",
        "      Flexibility: Polymorphism allows different classes to be treated as one interface.\n",
        "\n",
        "      Maintainability: Code is easier to update, debug, and maintain over time."
      ],
      "metadata": {
        "id": "0uLvDBT9yWqS"
      }
    },
    {
      "cell_type": "markdown",
      "source": [
        "17. What is the difference between a class variable and an instance variable?\n",
        "    - Difference Between Class Variable and Instance Variable\n",
        "\n",
        "     Class Variable:A class variable is shared among all instances of a class. It is defined within the class but outside any methods. Changes to the class variable affect all instances of the class.\n",
        "\n",
        "     Instance Variable:An instance variable is specific to each instance of a class. It is defined within the __init__ method and is unique to each object created from the class."
      ],
      "metadata": {
        "id": "KD_CCqfbzBko"
      }
    },
    {
      "cell_type": "code",
      "source": [
        "class Car:\n",
        "    wheels = 4  # Class variable\n",
        "\n",
        "    def __init__(self, color):\n",
        "        self.color = color  # Instance variable\n",
        "\n",
        "car1 = Car(\"Red\")\n",
        "car2 = Car(\"Blue\")\n",
        "\n",
        "print(car1.wheels)\n",
        "print(car2.color)\n"
      ],
      "metadata": {
        "colab": {
          "base_uri": "https://localhost:8080/"
        },
        "id": "D6Yc9b-PzW7g",
        "outputId": "7571b4c8-264c-4480-f126-e4db0e572fcf"
      },
      "execution_count": null,
      "outputs": [
        {
          "output_type": "stream",
          "name": "stdout",
          "text": [
            "4\n",
            "Blue\n"
          ]
        }
      ]
    },
    {
      "cell_type": "markdown",
      "source": [
        "18. What is multiple inheritance in Python?\n",
        "   -  Multiple inheritance in Python occurs when a class inherits from more than one parent class. This allows the child class to inherit attributes and methods from multiple classes, enabling more complex behavior and functionality.\n",
        "\n",
        "   "
      ],
      "metadata": {
        "id": "h_zZpNVa0M7y"
      }
    },
    {
      "cell_type": "code",
      "source": [
        "class Person:\n",
        "    def __init__(self, name):\n",
        "        self.name = name\n",
        "\n",
        "    def greet(self):\n",
        "        print(f\"Hello, {self.name}\")\n",
        "\n",
        "class Employee:\n",
        "    def __init__(self, role):\n",
        "        self.role = role\n",
        "\n",
        "    def work(self):\n",
        "        print(f\"Working as {self.role}\")\n",
        "\n",
        "class Manager(Person, Employee):\n",
        "    def __init__(self, name, role):\n",
        "        Person.__init__(self, name)\n",
        "        Employee.__init__(self, role)\n",
        "\n",
        "m = Manager(\"Alice\", \"Manager\")\n",
        "m.greet()\n",
        "m.work()\n"
      ],
      "metadata": {
        "colab": {
          "base_uri": "https://localhost:8080/"
        },
        "id": "s7CDIXea0cCm",
        "outputId": "31122db4-4a56-49a6-bf68-e4d0536c9056"
      },
      "execution_count": null,
      "outputs": [
        {
          "output_type": "stream",
          "name": "stdout",
          "text": [
            "Hello, Alice\n",
            "Working as Manager\n"
          ]
        }
      ]
    },
    {
      "cell_type": "markdown",
      "source": [
        "19. Explain the purpose of ‘’__str__’ and ‘__repr__’ ‘ methods in Python."
      ],
      "metadata": {
        "id": "VQhcQoU-07Z9"
      }
    },
    {
      "cell_type": "code",
      "source": [
        "\"\"\"__str__:The __str__ method is used to define a user-friendly string\n",
        "representation of an object. It is called by the print() function and str() to\n",
        "convert the object to a string in a readable format.\n",
        "\n",
        "__repr__: The __repr__ method is used to define a formal string\n",
        "representation of an object that, ideally, could be used to recreate the object.\n",
        "It is called by the repr() function and provides a more technical\n",
        "representation.\"\"\"\n",
        "\n",
        "class Person:\n",
        "    def __init__(self, name, age):\n",
        "        self.name = name\n",
        "        self.age = age\n",
        "\n",
        "    def __str__(self):\n",
        "        return f\"Person: {self.name}, {self.age} years old\"\n",
        "\n",
        "    def __repr__(self):\n",
        "        return f\"Person('{self.name}', {self.age})\"\n",
        "\n",
        "p = Person(\"Alice\", 30)\n",
        "\n",
        "print(str(p))\n",
        "print(repr(p))\n"
      ],
      "metadata": {
        "colab": {
          "base_uri": "https://localhost:8080/"
        },
        "id": "q_g5VKDt0iIn",
        "outputId": "de3a87b2-bc4b-4119-fe8c-cc93cef1049b"
      },
      "execution_count": null,
      "outputs": [
        {
          "output_type": "stream",
          "name": "stdout",
          "text": [
            "Person: Alice, 30 years old\n",
            "Person('Alice', 30)\n"
          ]
        }
      ]
    },
    {
      "cell_type": "markdown",
      "source": [
        "20. What is the significance of the ‘super()’ function in Python?\n",
        "    - The super() function in Python is used to call methods from a parent class in a subclass. It allows you to invoke the parent class’s methods or constructor, enabling inheritance and avoiding repetitive code. It is especially useful when dealing with multiple inheritance, helping to call methods from multiple classes in the correct order."
      ],
      "metadata": {
        "id": "mgl4gjkY1jGR"
      }
    },
    {
      "cell_type": "code",
      "source": [
        "class Animal:\n",
        "    def __init__(self, name):\n",
        "        self.name = name\n",
        "\n",
        "    def speak(self):\n",
        "        print(f\"{self.name} makes a sound\")\n",
        "\n",
        "class Dog(Animal):\n",
        "    def __init__(self, name, breed):\n",
        "        super().__init__(name)  # Calling parent class constructor\n",
        "        self.breed = breed\n",
        "\n",
        "    def speak(self):\n",
        "        super().speak()  # Calling parent class method\n",
        "        print(f\"{self.name} barks\")\n",
        "\n",
        "d = Dog(\"Buddy\", \"Golden Retriever\")\n",
        "d.speak()\n"
      ],
      "metadata": {
        "colab": {
          "base_uri": "https://localhost:8080/"
        },
        "id": "h9Usyk_y1xnW",
        "outputId": "a4a942a1-af6f-400c-9103-9cc509a84caf"
      },
      "execution_count": null,
      "outputs": [
        {
          "output_type": "stream",
          "name": "stdout",
          "text": [
            "Buddy makes a sound\n",
            "Buddy barks\n"
          ]
        }
      ]
    },
    {
      "cell_type": "markdown",
      "source": [
        "21. What is the significance of the __del__ method in Python?\n",
        "    -"
      ],
      "metadata": {
        "id": "EVTkhxWd2H8Z"
      }
    },
    {
      "cell_type": "code",
      "source": [
        "\"\"\"The __del__ method in Python is a destructor method, which is automatically\n",
        "called when an object is about to be destroyed. It allows you to define cleanup\n",
        "tasks like closing files, releasing resources, or freeing memory.\n",
        "However, it is rarely used because Python uses automatic garbage collection\n",
        "for memory management.\"\"\"\n",
        "\n",
        "class Demo:\n",
        "    def __init__(self, name):\n",
        "        self.name = name\n",
        "        print(f\"Object {self.name} created.\")\n",
        "\n",
        "    def __del__(self):\n",
        "        print(f\"Object {self.name} destroyed.\")\n",
        "\n",
        "obj = Demo(\"Test\")\n",
        "del obj\n"
      ],
      "metadata": {
        "colab": {
          "base_uri": "https://localhost:8080/"
        },
        "id": "rIGdN4hX2UIO",
        "outputId": "33fa5370-b497-44ac-c9b5-2214fff2dce2"
      },
      "execution_count": null,
      "outputs": [
        {
          "output_type": "stream",
          "name": "stdout",
          "text": [
            "Object Test created.\n",
            "Object Test destroyed.\n"
          ]
        }
      ]
    },
    {
      "cell_type": "markdown",
      "source": [
        "22. What is the difference between @staticmethod and @classmethod in Python?\n",
        "    - @staticmethod:A static method does not require a reference to the instance or the class. It behaves like a regular function but belongs to the class's namespace. It doesn't take self or cls as the first parameter.\n",
        "\n",
        "     @classmethod:A class method requires a reference to the class (cls) as its first parameter. It can modify class state and is used to access or modify class variables, rather than instance variables."
      ],
      "metadata": {
        "id": "wk6lnna72sDg"
      }
    },
    {
      "cell_type": "code",
      "source": [
        "class MyClass:\n",
        "    class_var = \"Class Variable\"\n",
        "\n",
        "    @staticmethod\n",
        "    def static_method():\n",
        "        print(\"This is a static method.\")\n",
        "\n",
        "    @classmethod\n",
        "    def class_method(cls):\n",
        "        print(f\"This is a class method. Accessing: {cls.class_var}\")\n",
        "\n",
        "MyClass.static_method()\n",
        "MyClass.class_method()\n"
      ],
      "metadata": {
        "colab": {
          "base_uri": "https://localhost:8080/"
        },
        "id": "R5rUhCuF2-HU",
        "outputId": "c7c04c35-defd-4af1-900a-3c3a2d88e43b"
      },
      "execution_count": null,
      "outputs": [
        {
          "output_type": "stream",
          "name": "stdout",
          "text": [
            "This is a static method.\n",
            "This is a class method. Accessing: Class Variable\n"
          ]
        }
      ]
    },
    {
      "cell_type": "markdown",
      "source": [
        "23. How does polymorphism work in Python with inheritance?\n",
        "    - Polymorphism allows objects of different classes to be treated as objects of a common base class. In Python, it is achieved through method overriding. When a subclass defines a method with the same name as the method in the parent class, it overrides the parent class method, allowing different behaviors for the same method name based on the object type.This allows dynamic method dispatch, where the appropriate method is called based on the object’s actual class."
      ],
      "metadata": {
        "id": "0o8_lq2F3HPp"
      }
    },
    {
      "cell_type": "code",
      "source": [
        "class Animal:\n",
        "    def speak(self):\n",
        "        print(\"Animal speaks\")\n",
        "\n",
        "class Dog(Animal):\n",
        "    def speak(self):\n",
        "        print(\"Dog barks\")\n",
        "\n",
        "class Cat(Animal):\n",
        "    def speak(self):\n",
        "        print(\"Cat meows\")\n",
        "animals = [Dog(), Cat()]\n",
        "\n",
        "for animal in animals:\n",
        "    animal.speak()\n"
      ],
      "metadata": {
        "colab": {
          "base_uri": "https://localhost:8080/"
        },
        "id": "55RWmNp63ada",
        "outputId": "e8ba2939-f642-4a0e-9b0a-7e546c631f2e"
      },
      "execution_count": null,
      "outputs": [
        {
          "output_type": "stream",
          "name": "stdout",
          "text": [
            "Dog barks\n",
            "Cat meows\n"
          ]
        }
      ]
    },
    {
      "cell_type": "markdown",
      "source": [
        "24. What is method chaining in Python OOP?\n",
        "    - Method chaining in Python refers to the practice of calling multiple methods on the same object, one after another, in a single line of code. This is possible because each method returns the object itself (or self), allowing subsequent method calls to be made on the same instance."
      ],
      "metadata": {
        "id": "12llx7Lg3kDt"
      }
    },
    {
      "cell_type": "code",
      "source": [
        "class Calculator:\n",
        "    def __init__(self, value=0):\n",
        "        self.value = value\n",
        "\n",
        "    def add(self, num):\n",
        "        self.value += num\n",
        "        return self\n",
        "\n",
        "    def multiply(self, num):\n",
        "        self.value *= num\n",
        "        return self\n",
        "\n",
        "    def get_result(self):\n",
        "        return self.value\n",
        "\n",
        "result = Calculator().add(5).multiply(2).add(3).get_result()\n",
        "print(result)\n"
      ],
      "metadata": {
        "colab": {
          "base_uri": "https://localhost:8080/"
        },
        "id": "rfgxVNwc3jfd",
        "outputId": "1b44e658-f53e-4824-b8b3-57e1023e89fb"
      },
      "execution_count": null,
      "outputs": [
        {
          "output_type": "stream",
          "name": "stdout",
          "text": [
            "13\n"
          ]
        }
      ]
    },
    {
      "cell_type": "markdown",
      "source": [
        "25. What is the purpose of the __call__ method in Python?"
      ],
      "metadata": {
        "id": "c3M9ZXLO4AqJ"
      }
    },
    {
      "cell_type": "code",
      "source": [
        "#What is the purpose of the __call__ method in Python?\n",
        "\"\"\"The __call__ method in Python allows an instance of a class to be called\n",
        "like a function. When __call__ is defined, you can call an object directly,\n",
        "and it will execute the logic inside the __call__ method. This provides a way\n",
        "to make objects more flexible and callable in a functional manner. \"\"\"\n",
        "class Adder:\n",
        "    def __init__(self, increment):\n",
        "        self.increment = increment\n",
        "\n",
        "    def __call__(self, number):\n",
        "        return number + self.increment\n",
        "\n",
        "add_five = Adder(5)\n",
        "result = add_five(10)\n",
        "print(result)\n"
      ],
      "metadata": {
        "colab": {
          "base_uri": "https://localhost:8080/"
        },
        "id": "T9fyh2nV3Gvm",
        "outputId": "bea26f37-4ff2-4d84-8cb1-b193c7e3ae90"
      },
      "execution_count": null,
      "outputs": [
        {
          "output_type": "stream",
          "name": "stdout",
          "text": [
            "15\n"
          ]
        }
      ]
    },
    {
      "cell_type": "markdown",
      "source": [
        "#practical question"
      ],
      "metadata": {
        "id": "_91OzYNf3GNW"
      }
    },
    {
      "cell_type": "markdown",
      "source": [
        "1. Create a parent class Animal with a method speak() that prints a generic message. Create a child class Dog that overrides the speak() method to print \"Bark!\"."
      ],
      "metadata": {
        "id": "68IXw_2K4zUL"
      }
    },
    {
      "cell_type": "code",
      "source": [
        "\n",
        "class Animal:\n",
        "    def speak(self):\n",
        "        print(\"Animal makes a sound\")\n",
        "class Dog(Animal):\n",
        "    def speak(self):\n",
        "        print(\"Bark!\")\n",
        "\n",
        "animal = Animal()\n",
        "dog = Dog()\n",
        "\n",
        "animal.speak()\n",
        "dog.speak()\n"
      ],
      "metadata": {
        "colab": {
          "base_uri": "https://localhost:8080/"
        },
        "id": "NEzlglEy-arS",
        "outputId": "c162fc60-f9e3-4ebe-bf11-877ce74ce202"
      },
      "execution_count": null,
      "outputs": [
        {
          "output_type": "stream",
          "name": "stdout",
          "text": [
            "Animal makes a sound\n",
            "Bark!\n"
          ]
        }
      ]
    },
    {
      "cell_type": "markdown",
      "source": [
        "2. Write a program to create an abstract class Shape with a method area(). Derive classes Circle and Rectangle from it and implement the area() method in both."
      ],
      "metadata": {
        "id": "SOjV70kk_I8V"
      }
    },
    {
      "cell_type": "code",
      "source": [
        "from abc import ABC, abstractmethod\n",
        "import math\n",
        "\n",
        "class Shape(ABC):\n",
        "    @abstractmethod\n",
        "    def area(self):\n",
        "        pass\n",
        "\n",
        "class Circle(Shape):\n",
        "    def __init__(self, radius):\n",
        "        self.radius = radius\n",
        "\n",
        "    def area(self):\n",
        "        return math.pi * self.radius ** 2\n",
        "\n",
        "class Rectangle(Shape):\n",
        "    def __init__(self, length, width):\n",
        "        self.length = length\n",
        "        self.width = width\n",
        "\n",
        "    def area(self):\n",
        "        return self.length * self.width\n",
        "\n",
        "\n",
        "circle = Circle(5)\n",
        "rectangle = Rectangle(4, 6)\n",
        "\n",
        "print(f\"Area of the Circle: {circle.area()}\")\n",
        "print(f\"Area of the Rectangle: {rectangle.area()}\")\n"
      ],
      "metadata": {
        "colab": {
          "base_uri": "https://localhost:8080/"
        },
        "id": "L3foj7qd_fyo",
        "outputId": "9e8aae49-a4be-4b1e-935b-8a05aa8675bf"
      },
      "execution_count": null,
      "outputs": [
        {
          "output_type": "stream",
          "name": "stdout",
          "text": [
            "Area of the Circle: 78.53981633974483\n",
            "Area of the Rectangle: 24\n"
          ]
        }
      ]
    },
    {
      "cell_type": "markdown",
      "source": [
        "3.  Implement a multi-level inheritance scenario where a class Vehicle has an attribute type. Derive a class Car and further derive a class ElectricCar that adds a battery attribute."
      ],
      "metadata": {
        "id": "sIgFuRmQ_2jU"
      }
    },
    {
      "cell_type": "code",
      "source": [
        "# Base class Vehicle\n",
        "class Vehicle:\n",
        "    def __init__(self, vehicle_type):\n",
        "        self.vehicle_type = vehicle_type\n",
        "\n",
        "    def display_type(self):\n",
        "        print(f\"Vehicle Type: {self.vehicle_type}\")\n",
        "\n",
        "# Derived class Car from Vehicle\n",
        "class Car(Vehicle):\n",
        "    def __init__(self, vehicle_type, brand):\n",
        "        super().__init__(vehicle_type)  # Call to the parent class constructor\n",
        "        self.brand = brand\n",
        "\n",
        "    def display_brand(self):\n",
        "        print(f\"Car Brand: {self.brand}\")\n",
        "\n",
        "# Further derived class ElectricCar from Car\n",
        "class ElectricCar(Car):\n",
        "    def __init__(self, vehicle_type, brand, battery):\n",
        "        super().__init__(vehicle_type, brand)  # Call to the parent class constructor\n",
        "        self.battery = battery\n",
        "\n",
        "    def display_battery(self):\n",
        "        print(f\"Battery Capacity: {self.battery} kWh\")\n",
        "\n",
        "# Create instances and demonstrate multi-level inheritance\n",
        "electric_car = ElectricCar(\"Electric Vehicle\", \"Tesla\", 75)\n",
        "electric_car.display_type()\n",
        "electric_car.display_brand()\n",
        "electric_car.display_battery()\n"
      ],
      "metadata": {
        "colab": {
          "base_uri": "https://localhost:8080/"
        },
        "id": "qUL0BhZs_7sO",
        "outputId": "b61b966e-7d95-4916-cd24-f8c3b96eea78"
      },
      "execution_count": null,
      "outputs": [
        {
          "output_type": "stream",
          "name": "stdout",
          "text": [
            "Vehicle Type: Electric Vehicle\n",
            "Car Brand: Tesla\n",
            "Battery Capacity: 75 kWh\n"
          ]
        }
      ]
    },
    {
      "cell_type": "markdown",
      "source": [
        "4. Demonstrate polymorphism by creating a base class Bird with a method fly(). Create two derived classes Sparrow and Penguin that override the fly() method"
      ],
      "metadata": {
        "id": "pCt7-E3TAQ9S"
      }
    },
    {
      "cell_type": "code",
      "source": [
        "# Base class\n",
        "class Bird:\n",
        "    def fly(self):\n",
        "        print(\"This bird can fly.\")\n",
        "\n",
        "# Derived class Sparrow\n",
        "class Sparrow(Bird):\n",
        "    def fly(self):\n",
        "        print(\"Sparrow flies in the sky.\")\n",
        "\n",
        "# Derived class Penguin\n",
        "class Penguin(Bird):\n",
        "    def fly(self):\n",
        "        print(\"Penguins can't fly.\")\n",
        "\n",
        "bird1 = Sparrow()\n",
        "bird2 = Penguin()\n",
        "\n",
        "bird1.fly()\n",
        "bird2.fly()\n"
      ],
      "metadata": {
        "colab": {
          "base_uri": "https://localhost:8080/"
        },
        "id": "pieZJdAhAYcp",
        "outputId": "1c2d43ab-2fb1-4e8e-aaca-ce72fc5c727c"
      },
      "execution_count": null,
      "outputs": [
        {
          "output_type": "stream",
          "name": "stdout",
          "text": [
            "Sparrow flies in the sky.\n",
            "Penguins can't fly.\n"
          ]
        }
      ]
    },
    {
      "cell_type": "markdown",
      "source": [
        "5.  Write a program to demonstrate encapsulation by creating a class BankAccount with private attributes balance and methods to deposit, withdraw, and check balance"
      ],
      "metadata": {
        "id": "sT1IkUMMAn7K"
      }
    },
    {
      "cell_type": "code",
      "source": [
        "class BankAccount:\n",
        "    def __init__(self, initial_balance):\n",
        "        # Private attribute balance\n",
        "        self.__balance = initial_balance\n",
        "\n",
        "    # Method to deposit money\n",
        "    def deposit(self, amount):\n",
        "        if amount > 0:\n",
        "            self.__balance += amount\n",
        "            print(f\"Deposited: ${amount}\")\n",
        "        else:\n",
        "            print(\"Deposit amount must be positive.\")\n",
        "\n",
        "    # Method to withdraw money\n",
        "    def withdraw(self, amount):\n",
        "        if amount > 0 and amount <= self.__balance:\n",
        "            self.__balance -= amount\n",
        "            print(f\"Withdrew: ${amount}\")\n",
        "        elif amount > self.__balance:\n",
        "            print(\"Insufficient funds.\")\n",
        "        else:\n",
        "            print(\"Withdrawal amount must be positive.\")\n",
        "\n",
        "    # Method to check balance\n",
        "    def check_balance(self):\n",
        "        print(f\"Current balance: ${self.__balance}\")\n",
        "\n",
        "\n",
        "account = BankAccount(1000)\n",
        "\n",
        "\n",
        "account.deposit(500)\n",
        "account.withdraw(200)\n",
        "account.check_balance()\n",
        "\n"
      ],
      "metadata": {
        "colab": {
          "base_uri": "https://localhost:8080/"
        },
        "id": "qhn2TlrmAnU1",
        "outputId": "b011a3b1-6976-4dbc-ca2a-a52d15d845e6"
      },
      "execution_count": null,
      "outputs": [
        {
          "output_type": "stream",
          "name": "stdout",
          "text": [
            "Deposited: $500\n",
            "Withdrew: $200\n",
            "Current balance: $1300\n"
          ]
        }
      ]
    },
    {
      "cell_type": "markdown",
      "source": [
        "6. Demonstrate runtime polymorphism using a method play() in a base class Instrument. Derive classes Guitar and Piano that implement their own version of play()."
      ],
      "metadata": {
        "id": "S3ocLbeXBPkD"
      }
    },
    {
      "cell_type": "code",
      "source": [
        "# Base class Instrument\n",
        "class Instrument:\n",
        "    def play(self):\n",
        "        print(\"Playing the instrument.\")\n",
        "\n",
        "# Derived class Guitar\n",
        "class Guitar(Instrument):\n",
        "    def play(self):\n",
        "        print(\"Strumming the guitar.\")\n",
        "\n",
        "# Derived class Piano\n",
        "class Piano(Instrument):\n",
        "    def play(self):\n",
        "        print(\"Playing the piano keys.\")\n",
        "\n",
        "# Demonstrating runtime polymorphism\n",
        "def play_instrument(instrument):\n",
        "    instrument.play()\n",
        "\n",
        "guitar = Guitar()\n",
        "piano = Piano()\n",
        "\n",
        "play_instrument(guitar)\n",
        "play_instrument(piano)\n"
      ],
      "metadata": {
        "colab": {
          "base_uri": "https://localhost:8080/"
        },
        "id": "50BleU9mBTrG",
        "outputId": "06853cff-b81f-4fd4-890a-cb95a78606be"
      },
      "execution_count": null,
      "outputs": [
        {
          "output_type": "stream",
          "name": "stdout",
          "text": [
            "Strumming the guitar.\n",
            "Playing the piano keys.\n"
          ]
        }
      ]
    },
    {
      "cell_type": "markdown",
      "source": [
        "7.  Create a class MathOperations with a class method add_numbers() to add two numbers and a static method subtract_numbers() to subtract two numbers."
      ],
      "metadata": {
        "id": "eu2mNK8xBmyh"
      }
    },
    {
      "cell_type": "code",
      "source": [
        "class MathOperations:\n",
        "    @classmethod\n",
        "    def add_numbers(cls, num1, num2):\n",
        "        return num1 + num2\n",
        "\n",
        "    @staticmethod\n",
        "    def subtract_numbers(num1, num2):\n",
        "        return num1 - num2\n",
        "\n",
        "\n",
        "result_add = MathOperations.add_numbers(10, 5)\n",
        "result_subtract = MathOperations.subtract_numbers(10, 5)\n",
        "\n",
        "print(f\"Addition Result: {result_add}\")\n",
        "print(f\"Subtraction Result: {result_subtract}\")\n"
      ],
      "metadata": {
        "colab": {
          "base_uri": "https://localhost:8080/"
        },
        "id": "ZLnuctiEBtie",
        "outputId": "25b1da92-9582-4fa2-97dc-e72facf715db"
      },
      "execution_count": null,
      "outputs": [
        {
          "output_type": "stream",
          "name": "stdout",
          "text": [
            "Addition Result: 15\n",
            "Subtraction Result: 5\n"
          ]
        }
      ]
    },
    {
      "cell_type": "markdown",
      "source": [
        "8.  Implement a class Person with a class method to count the total number of persons created."
      ],
      "metadata": {
        "id": "ZXStcv-fB8fY"
      }
    },
    {
      "cell_type": "code",
      "source": [
        "class Person:\n",
        "    total_persons = 0\n",
        "    def __init__(self, name, age):\n",
        "        self.name = name\n",
        "        self.age = age\n",
        "        Person.total_persons += 1\n",
        "\n",
        "    @classmethod\n",
        "    def get_total_persons(cls):\n",
        "        return cls.total_persons\n",
        "\n",
        "person1 = Person(\"Alice\", 30)\n",
        "person2 = Person(\"Bob\", 25)\n",
        "person3 = Person(\"Charlie\", 35)\n",
        "\n",
        "print(f\"Total persons created: {Person.get_total_persons()}\")\n"
      ],
      "metadata": {
        "colab": {
          "base_uri": "https://localhost:8080/"
        },
        "id": "2L7pUqH1B7Py",
        "outputId": "5e8c8b62-720b-4d91-cca2-36014edc95d1"
      },
      "execution_count": null,
      "outputs": [
        {
          "output_type": "stream",
          "name": "stdout",
          "text": [
            "Total persons created: 3\n"
          ]
        }
      ]
    },
    {
      "cell_type": "markdown",
      "source": [
        "9. Write a class Fraction with attributes numerator and denominator. Override the str method to display the fraction as \"numerator/denominator\"."
      ],
      "metadata": {
        "id": "S-rwsSIbDj1j"
      }
    },
    {
      "cell_type": "code",
      "source": [
        "class Fraction:\n",
        "    def __init__(self, numerator, denominator):\n",
        "        self.numerator = numerator\n",
        "        self.denominator = denominator\n",
        "\n",
        "\n",
        "    def __str__(self):\n",
        "        return f\"{self.numerator}/{self.denominator}\"\n",
        "\n",
        "fraction1 = Fraction(3, 4)\n",
        "fraction2 = Fraction(5, 8)\n",
        "\n",
        "\n",
        "print(fraction1)\n",
        "print(fraction2)\n"
      ],
      "metadata": {
        "colab": {
          "base_uri": "https://localhost:8080/"
        },
        "id": "JJvRDR9NDoXF",
        "outputId": "3f9b1970-16ec-4e74-f082-5f3a415fcdf3"
      },
      "execution_count": null,
      "outputs": [
        {
          "output_type": "stream",
          "name": "stdout",
          "text": [
            "3/4\n",
            "5/8\n"
          ]
        }
      ]
    },
    {
      "cell_type": "markdown",
      "source": [
        "10. Demonstrate operator overloading by creating a class Vector and overriding the add method to add two vectors."
      ],
      "metadata": {
        "id": "0SCUyutBEWnb"
      }
    },
    {
      "cell_type": "code",
      "source": [
        "class Vector:\n",
        "    def __init__(self, x, y):\n",
        "        self.x = x\n",
        "        self.y = y\n",
        "\n",
        "\n",
        "    def __add__(self, other):\n",
        "        if isinstance(other, Vector):\n",
        "\n",
        "            return Vector(self.x + other.x, self.y + other.y)\n",
        "        return NotImplemented\n",
        "\n",
        "\n",
        "    def __str__(self):\n",
        "        return f\"Vector({self.x}, {self.y})\"\n",
        "\n",
        "\n",
        "vector1 = Vector(2, 3)\n",
        "vector2 = Vector(4, 5)\n",
        "\n",
        "result = vector1 + vector2\n",
        "print(f\"Result of addition: {result}\")\n"
      ],
      "metadata": {
        "colab": {
          "base_uri": "https://localhost:8080/"
        },
        "id": "Yiuy_jHMEzHZ",
        "outputId": "19f37c27-4810-4003-ef74-32f517221946"
      },
      "execution_count": null,
      "outputs": [
        {
          "output_type": "stream",
          "name": "stdout",
          "text": [
            "Result of addition: Vector(6, 8)\n"
          ]
        }
      ]
    },
    {
      "cell_type": "markdown",
      "source": [
        "11. Create a class Person with attributes name and age. Add a method greet() that prints \"Hello, my name is {name} and I am {age} years old.\""
      ],
      "metadata": {
        "id": "4cd-8IREFq62"
      }
    },
    {
      "cell_type": "code",
      "source": [
        "class Person:\n",
        "    def __init__(self, name, age):\n",
        "        self.name = name\n",
        "        self.age = age\n",
        "\n",
        "    def greet(self):\n",
        "        print(f\"Hello, my name is {self.name} and I am {self.age} years old.\")\n",
        "\n",
        "person1 = Person(\"ashu\", 30)\n",
        "person2 = Person(\"smita\", 25)\n",
        "\n",
        "person1.greet()\n",
        "person2.greet()\n"
      ],
      "metadata": {
        "colab": {
          "base_uri": "https://localhost:8080/"
        },
        "id": "kyGgu6ozG_x1",
        "outputId": "858d4d5c-083d-41c6-c9d1-46abcea57f08"
      },
      "execution_count": 38,
      "outputs": [
        {
          "output_type": "stream",
          "name": "stdout",
          "text": [
            "Hello, my name is ashu and I am 30 years old.\n",
            "Hello, my name is smita and I am 25 years old.\n"
          ]
        }
      ]
    },
    {
      "cell_type": "markdown",
      "source": [
        "12. Implement a class Student with attributes name and grades. Create a method average_grade() to compute the average of the grades."
      ],
      "metadata": {
        "id": "V49ZHjR8HVnf"
      }
    },
    {
      "cell_type": "code",
      "source": [
        "class Student:\n",
        "    def __init__(self, name, grades):\n",
        "        self.name = name\n",
        "        self.grades = grades\n",
        "\n",
        "\n",
        "    def average_grade(self):\n",
        "        if len(self.grades) > 0:\n",
        "            return sum(self.grades) / len(self.grades)\n",
        "        else:\n",
        "            return\n",
        "\n",
        "\n",
        "student1 = Student(\"Appu\", [90, 85, 88, 92])\n",
        "student2 = Student(\"shyam\", [75, 80, 78, 82])\n",
        "\n",
        "print(f\"{student1.name}'s average grade: {student1.average_grade():.2f}\")\n",
        "print(f\"{student2.name}'s average grade: {student2.average_grade():.2f}\")\n"
      ],
      "metadata": {
        "colab": {
          "base_uri": "https://localhost:8080/"
        },
        "id": "UQqv49-5Hb24",
        "outputId": "cc7e123b-93ef-4e0e-81c1-ed9e4af0dd58"
      },
      "execution_count": null,
      "outputs": [
        {
          "output_type": "stream",
          "name": "stdout",
          "text": [
            "Appu's average grade: 88.75\n",
            "shyam's average grade: 78.75\n"
          ]
        }
      ]
    },
    {
      "cell_type": "markdown",
      "source": [
        "13. Create a class Rectangle with methods set_dimensions() to set the dimensions and area() to calculate the area."
      ],
      "metadata": {
        "id": "kyulOsJLH2MP"
      }
    },
    {
      "cell_type": "code",
      "source": [
        "class Rectangle:\n",
        "    def __init__(self):\n",
        "\n",
        "        self.length = 0\n",
        "        self.width = 0\n",
        "\n",
        "\n",
        "    def set_dimensions(self, length, width):\n",
        "        self.length = length\n",
        "        self.width = width\n",
        "\n",
        "    def area(self):\n",
        "        return self.length * self.width\n",
        "\n",
        "rectangle = Rectangle()\n",
        "rectangle.set_dimensions(5, 3)\n",
        "\n",
        "print(f\"Area of the rectangle: {rectangle.area()}\")\n"
      ],
      "metadata": {
        "colab": {
          "base_uri": "https://localhost:8080/"
        },
        "id": "hVSbhzB2H85I",
        "outputId": "e1c9b277-4643-4742-bbd7-a6e434e37ca6"
      },
      "execution_count": null,
      "outputs": [
        {
          "output_type": "stream",
          "name": "stdout",
          "text": [
            "Area of the rectangle: 15\n"
          ]
        }
      ]
    },
    {
      "cell_type": "markdown",
      "source": [
        "14. Create a class Employee with a method calculate_salary() that computes the salary based on hours worked and hourly rate. Create a derived class Manager that adds a bonus to the salary."
      ],
      "metadata": {
        "id": "JET6rMpfPY1y"
      }
    },
    {
      "cell_type": "code",
      "source": [
        "class Employee:\n",
        "    def __init__(self, name, hours_worked, hourly_rate):\n",
        "        self.name = name\n",
        "        self.hours_worked = hours_worked\n",
        "        self.hourly_rate = hourly_rate\n",
        "\n",
        "    def calculate_salary(self):\n",
        "        salary = self.hours_worked * self.hourly_rate\n",
        "        return salary\n",
        "\n",
        "class Manager(Employee):\n",
        "    def __init__(self, name, hours_worked, hourly_rate, bonus):\n",
        "        super().__init__(name, hours_worked, hourly_rate)\n",
        "        self.bonus = bonus\n",
        "\n",
        "    def calculate_salary(self):\n",
        "        salary = super().calculate_salary()\n",
        "        total_salary = salary + self.bonus\n",
        "        return total_salary\n",
        "\n",
        "\n",
        "emp = Employee(\"John Doe\", 40, 20)\n",
        "print(f\"Employee Salary: ${emp.calculate_salary()}\")\n",
        "\n",
        "mgr = Manager(\"Jane Smith\", 40, 30, 500)\n",
        "print(f\"Manager Salary: ${mgr.calculate_salary()}\")\n"
      ],
      "metadata": {
        "colab": {
          "base_uri": "https://localhost:8080/"
        },
        "id": "BU51DWbDQHXM",
        "outputId": "024f9373-a22e-4788-ec56-ff9923b63223"
      },
      "execution_count": 32,
      "outputs": [
        {
          "output_type": "stream",
          "name": "stdout",
          "text": [
            "Employee Salary: $800\n",
            "Manager Salary: $1700\n"
          ]
        }
      ]
    },
    {
      "cell_type": "markdown",
      "source": [
        "15. Create a class Product with attributes name, price, and quantity. Implement a method total_price() that calculates the total price of the product."
      ],
      "metadata": {
        "id": "JRMUQhAZQPzO"
      }
    },
    {
      "cell_type": "code",
      "source": [
        "class Product:\n",
        "    def __init__(self, name, price, quantity):\n",
        "        self.name = name\n",
        "        self.price = price\n",
        "        self.quantity = quantity\n",
        "\n",
        "    def total_price(self):\n",
        "        return self.price * self.quantity\n",
        "\n",
        "product1 = Product(\"Laptop\", 800, 2)\n",
        "print(f\"Total price for {product1.name}: ${product1.total_price()}\")\n"
      ],
      "metadata": {
        "colab": {
          "base_uri": "https://localhost:8080/"
        },
        "id": "QyOErQ2bQs_u",
        "outputId": "d18b05cb-da28-42c1-f607-5799503d594c"
      },
      "execution_count": 33,
      "outputs": [
        {
          "output_type": "stream",
          "name": "stdout",
          "text": [
            "Total price for Laptop: $1600\n"
          ]
        }
      ]
    },
    {
      "cell_type": "markdown",
      "source": [
        "16.  Create a class Animal with an abstract method sound(). Create two derived classes Cow and Sheep that implement the sound() method."
      ],
      "metadata": {
        "id": "2ATlNpGnRPVV"
      }
    },
    {
      "cell_type": "code",
      "source": [
        "from abc import ABC, abstractmethod\n",
        "\n",
        "class Animal(ABC):\n",
        "    @abstractmethod\n",
        "    def sound(self):\n",
        "        pass\n",
        "\n",
        "class Cow(Animal):\n",
        "    def sound(self):\n",
        "        return \"Moo\"\n",
        "\n",
        "class Sheep(Animal):\n",
        "    def sound(self):\n",
        "        return \"Baa\"\n",
        "\n",
        "cow = Cow()\n",
        "print(f\"Cow sound: {cow.sound()}\")\n",
        "\n",
        "sheep = Sheep()\n",
        "print(f\"Sheep sound: {sheep.sound()}\")\n"
      ],
      "metadata": {
        "colab": {
          "base_uri": "https://localhost:8080/"
        },
        "id": "ry1NpZZLRV_0",
        "outputId": "24799731-94e2-4030-b174-50c6a195dcd2"
      },
      "execution_count": 34,
      "outputs": [
        {
          "output_type": "stream",
          "name": "stdout",
          "text": [
            "Cow sound: Moo\n",
            "Sheep sound: Baa\n"
          ]
        }
      ]
    },
    {
      "cell_type": "markdown",
      "source": [
        "17. Create a class Book with attributes title, author, and year_published. Add a method get_book_info() that returns a formatted string with the book's details.\n",
        "\n",
        "\n"
      ],
      "metadata": {
        "id": "ooPt39-BR4yF"
      }
    },
    {
      "cell_type": "code",
      "source": [
        "class Book:\n",
        "    def __init__(self, title, author, year_published):\n",
        "        self.title = title\n",
        "        self.author = author\n",
        "        self.year_published = year_published\n",
        "\n",
        "    def get_book_info(self):\n",
        "        return f\"'{self.title}' by {self.author}, published in {self.year_published}\"\n",
        "\n",
        "book1 = Book(\"To Kill a Mockingbird\", \"Harper Lee\", 1960)\n",
        "print(book1.get_book_info())\n"
      ],
      "metadata": {
        "colab": {
          "base_uri": "https://localhost:8080/"
        },
        "id": "QMj089PsR-fJ",
        "outputId": "0887ade4-2b92-4a64-84a8-d79ae672db95"
      },
      "execution_count": 36,
      "outputs": [
        {
          "output_type": "stream",
          "name": "stdout",
          "text": [
            "'To Kill a Mockingbird' by Harper Lee, published in 1960\n"
          ]
        }
      ]
    },
    {
      "cell_type": "markdown",
      "source": [
        "18.  Create a class House with attributes address and price. Create a derived class Mansion that adds an\n",
        "attribute number_of_rooms."
      ],
      "metadata": {
        "id": "50_3NBoASBcJ"
      }
    },
    {
      "cell_type": "code",
      "source": [
        "class House:\n",
        "    def __init__(self, address, price):\n",
        "        self.address = address\n",
        "        self.price = price\n",
        "\n",
        "class Mansion(House):\n",
        "    def __init__(self, address, price, number_of_rooms):\n",
        "        super().__init__(address, price)\n",
        "        self.number_of_rooms = number_of_rooms\n",
        "\n",
        "\n",
        "house = House(\"123 Maple Street\", 200000)\n",
        "print(f\"House Address: {house.address}, Price: ${house.price}\")\n",
        "\n",
        "mansion = Mansion(\"456 Oak Avenue\", 1500000, 10)\n",
        "print(f\"Mansion Address: {mansion.address}, Price: ${mansion.price}, Number of Rooms: {mansion.number_of_rooms}\")\n"
      ],
      "metadata": {
        "colab": {
          "base_uri": "https://localhost:8080/"
        },
        "id": "UO4eJ3X_TPNE",
        "outputId": "7375c89e-dc1c-4a50-8779-75311ee184d1"
      },
      "execution_count": 37,
      "outputs": [
        {
          "output_type": "stream",
          "name": "stdout",
          "text": [
            "House Address: 123 Maple Street, Price: $200000\n",
            "Mansion Address: 456 Oak Avenue, Price: $1500000, Number of Rooms: 10\n"
          ]
        }
      ]
    }
  ]
}