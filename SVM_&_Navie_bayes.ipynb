{
  "nbformat": 4,
  "nbformat_minor": 0,
  "metadata": {
    "colab": {
      "provenance": []
    },
    "kernelspec": {
      "name": "python3",
      "display_name": "Python 3"
    },
    "language_info": {
      "name": "python"
    }
  },
  "cells": [
    {
      "cell_type": "markdown",
      "source": [
        "#Assignment Questions"
      ],
      "metadata": {
        "id": "ciRmkXZJjxLx"
      }
    },
    {
      "cell_type": "markdown",
      "source": [
        "#Theoretical"
      ],
      "metadata": {
        "id": "pdA9opd1j1YL"
      }
    },
    {
      "cell_type": "markdown",
      "source": [
        "1. What is a Support Vector Machine (SVM)?\n",
        "    - A Support Vector Machine (SVM) is a supervised machine learning algorithm used for classification (and sometimes regression) tasks. SVM tries to find the best decision boundary (called a hyperplane) that separates data points of different classes."
      ],
      "metadata": {
        "id": "dd-1JTK3j5yd"
      }
    },
    {
      "cell_type": "markdown",
      "source": [
        "2. What is the difference between Hard Margin and Soft Margin SVM?\n",
        "   - In SVM, a hard margin means we assume the data is perfectly linearly separable — so the algorithm tries to find a hyperplane that separates the classes with the maximum margin and no misclassification. It works only when there’s no noise or overlap in the data, but it’s very sensitive to outliers.\n",
        "   - A soft margin, on the other hand, allows some misclassifications to make the model more flexible. This flexibility is controlled by a regularization parameter C, which balances between having a larger margin and minimizing classification errors. In practice, soft margin SVM is used more often because real-world data is rarely perfectly separable"
      ],
      "metadata": {
        "id": "iF6qiELJuIt2"
      }
    },
    {
      "cell_type": "markdown",
      "source": [
        "3. What is the mathematical intuition behind SVM?\n",
        "   - The core idea of SVM is to find the hyperplane that separates the classes with the maximum margin.Mathematically, the hyperplane is defined as:  w⋅x+b=0  , where w is the weight vector and b is the bias term."
      ],
      "metadata": {
        "id": "yw9roKhGunFJ"
      }
    },
    {
      "cell_type": "markdown",
      "source": [
        "4. What is the role of Lagrange Multipliers in SVM?\n",
        "    - Lagrange multipliers play a crucial role in solving the optimization problem within Support Vector Machines (SVMs) by converting the constrained optimization problem into a dual form. This allows SVMs to find the optimal hyperplane that maximizes the margin between classes, subject to constraints that ensure correct classification."
      ],
      "metadata": {
        "id": "SvJSvGcOvdNN"
      }
    },
    {
      "cell_type": "markdown",
      "source": [
        "5. What are Support Vectors in SVM?\n",
        "   - Support vectors are  the data points that are closest to the hyperplane (the decision boundary) that separates different classes."
      ],
      "metadata": {
        "id": "Jcgm8BVm8Tcu"
      }
    },
    {
      "cell_type": "markdown",
      "source": [
        "6. What is a Support Vector Classifier (SVC)?\n",
        "    - A SVC is a supervised learning model that classifies data by finding the optimal hyperplane that best separates data points of different classes."
      ],
      "metadata": {
        "id": "227geV1r8v-5"
      }
    },
    {
      "cell_type": "markdown",
      "source": [
        "7. What is a Support Vector Regressor (SVR)?\n",
        "   - Support Vector Regression (SVR) is a machine learning technique used for regression tasks, extending the principles of Support Vector Machines (SVMs) to handle continuous numerical outputs. Essentially, SVR aims to find a function that best fits the data while allowing for some error margin, making it robust to outliers and suitable for both linear and non-linear relationships."
      ],
      "metadata": {
        "id": "C12t4hrc9WfM"
      }
    },
    {
      "cell_type": "markdown",
      "source": [
        "8. What is the Kernel Trick in SVM?\n",
        "    - The kernel trick allows SVM to handle non-linear data by implicitly mapping it into a higher-dimensional space without actually computing the transformation. This lets us find a linear separating hyperplane in that space using kernel functions like linear, polynomial, or RBF, while keeping computation efficient."
      ],
      "metadata": {
        "id": "ai4BdVyl9nNH"
      }
    },
    {
      "cell_type": "markdown",
      "source": [
        "9.  Compare Linear Kernel, Polynomial Kernel, and RBF Kernel.\n",
        "    - Linear Kernel → No transformation; best for linearly separable data; fast and simple.\n",
        "    - Polynomial Kernel → Maps features into polynomial combinations; can model more complex relationships; slower for high degrees.\n",
        "    - RBF (Radial Basis Function) Kernel → Maps data into infinite-dimensional space using distance-based similarity; very flexible; risk of overfitting if parameters aren’t tuned."
      ],
      "metadata": {
        "id": "hqUh5olD915Q"
      }
    },
    {
      "cell_type": "markdown",
      "source": [
        "10. What is the effect of the C parameter in SVM?\n",
        "    - In SVM, the C parameter controls the trade-off between maximizing the margin and minimizing classification errors.\n",
        "      - High C → Less tolerance for misclassification, smaller margin, risk of overfitting.\n",
        "      - Low C → More tolerance for misclassification, larger margin, better generalization"
      ],
      "metadata": {
        "id": "HlO-vu3z-IWW"
      }
    },
    {
      "cell_type": "markdown",
      "source": [
        "11.  What is the role of the Gamma parameter in RBF Kernel SVM?\n",
        "     - In RBF Kernel SVM, gamma controls how far the influence of a single training example reaches.\n",
        "       - High gamma → Influence is small and localized, creating more complex boundaries (risk of overfitting).\n",
        "       - Low gamma → Influence is larger and more spread out, leading to smoother boundaries (risk of underfitting).\"\n",
        "\n"
      ],
      "metadata": {
        "id": "LhJ6tTQN-bSJ"
      }
    },
    {
      "cell_type": "markdown",
      "source": [
        "12.  What is the Naïve Bayes classifier, and why is it called \"Naïve\"?\n",
        "     - Naïve Bayes is a probabilistic classifier based on Bayes’ theorem, which predicts a class by calculating the probability of each class given the input features. It’s called naïve because it assumes all features are conditionally independent given the class — an assumption that’s rarely true in real data but works surprisingly well in practice."
      ],
      "metadata": {
        "id": "U6drIPyD-seH"
      }
    },
    {
      "cell_type": "markdown",
      "source": [
        "13. What is Bayes’ Theorem?\n",
        "    - Bayes’ Theorem gives the probability of an event based on prior knowledge of related conditions. It’s expressed as:\n",
        "\n",
        "\n",
        "P(A∣B)= ( P(B∣A)⋅P(A) )  / P(B)\n",
        "\n",
        "where:\n",
        "\n",
        "\n",
        "P(A∣B) is the posterior probability,\n",
        "P(B∣A) is the likelihood,\n",
        "P(A) is the prior probability,\n",
        "P(B) is the evidence."
      ],
      "metadata": {
        "id": "ZFdXr9e4-2aH"
      }
    },
    {
      "cell_type": "markdown",
      "source": [
        "14.  Explain the differences between Gaussian Naïve Bayes, Multinomial Naïve Bayes, and Bernoulli Naïve Bayes?\n",
        "     - Gaussian Naïve Bayes → Assumes continuous features follow a normal (Gaussian) distribution. Used for real-valued data like height, weight, or sensor readings.\n",
        "     - Multinomial Naïve Bayes → Works with discrete count data. Common in text classification where features are word counts or term frequencies.\n",
        "     - Bernoulli Naïve Bayes → Works with binary features (yes/no, 0/1). Useful for text classification when we care only about word presence, not frequency."
      ],
      "metadata": {
        "id": "cNT6y_3t_bSy"
      }
    },
    {
      "cell_type": "markdown",
      "source": [
        "15. When should you use Gaussian Naïve Bayes over other variants?\n",
        "    - Use Gaussian Naïve Bayes when your features are continuous and roughly follow a normal distribution, such as measurements like temperature, weight, height, or sensor readings. If the data is discrete or binary, Multinomial or Bernoulli Naïve Bayes would be more appropriate."
      ],
      "metadata": {
        "id": "cQQoEw6r_tNQ"
      }
    },
    {
      "cell_type": "markdown",
      "source": [
        "16. What are the key assumptions made by Naïve Bayes?\n",
        "    - Naïve Bayes makes two key assumptions:\n",
        "       - Feature Independence – All features are conditionally independent given the class label.\n",
        "       - Feature Contribution Equality – Each feature contributes equally and independently to the outcome, without interaction effects.\""
      ],
      "metadata": {
        "id": "mUAIdojH_8hS"
      }
    },
    {
      "cell_type": "markdown",
      "source": [
        "17. What are the advantages and disadvantages of Naïve Bayes?\n",
        "     - Advantages:\n",
        "       - Simple, fast, and efficient even on large datasets.\n",
        "       - Works well with high-dimensional data like text classification\n",
        "       - Performs surprisingly well even if the independence assumption is violated.\n",
        "\n",
        "    - Disadvantages:\n",
        "       - Assumes conditional independence, which is rarely true in real\n",
        "       data.\n",
        "       - Struggles with correlated features.\n",
        "       - Requires good probability estimates; poor estimates can hurt accuracy"
      ],
      "metadata": {
        "id": "MEQoOrNMAS-F"
      }
    },
    {
      "cell_type": "markdown",
      "source": [
        "18. Why is Naïve Bayes a good choice for text classification?\n",
        "    - Naïve Bayes is great for text classification because text data is typically high-dimensional and sparse, and Naïve Bayes handles such data efficiently. It works well with word frequencies or binary word presence, trains very fast, and performs surprisingly well even when the independence assumption is not fully true."
      ],
      "metadata": {
        "id": "-JjPHo7dA_yv"
      }
    },
    {
      "cell_type": "markdown",
      "source": [
        "19. Compare SVM and Naïve Bayes for classification tasks.\n",
        "    - SVM → Finds a decision boundary (hyperplane) that maximizes the margin between classes. Works well for both linear and non-linear data (with kernels), handles high-dimensional data well, but is slower on very large datasets.\n",
        "    - Naïve Bayes → A probabilistic model based on Bayes’ theorem with the independence assumption. Extremely fast, works well for high-dimensional text data, but less effective if features are highly correlated."
      ],
      "metadata": {
        "id": "NWnwwMzEE7e6"
      }
    },
    {
      "cell_type": "markdown",
      "source": [
        "20.  How does Laplace Smoothing help in Naïve Bayes?\n",
        "    - Laplace smoothing prevents zero probabilities in Naïve Bayes when a word or feature hasn’t appeared in the training data for a given class. It does this by adding 1 (or a small constant) to all feature counts, ensuring no probability becomes zero and improving generalization to unseen data."
      ],
      "metadata": {
        "id": "yG4TkRT2FKQU"
      }
    },
    {
      "cell_type": "markdown",
      "source": [
        "#Practical"
      ],
      "metadata": {
        "id": "smPDjmgCFVjq"
      }
    },
    {
      "cell_type": "markdown",
      "source": [
        "21. Write a Python program to train an SVM Classifier on the Iris dataset and evaluate accuracy."
      ],
      "metadata": {
        "id": "ds-5mDduFa9e"
      }
    },
    {
      "cell_type": "code",
      "execution_count": 1,
      "metadata": {
        "id": "sRWI3RPOjt5B",
        "colab": {
          "base_uri": "https://localhost:8080/"
        },
        "outputId": "6d158048-90ae-4585-f82e-94ccb1616aea"
      },
      "outputs": [
        {
          "output_type": "stream",
          "name": "stdout",
          "text": [
            "SVM Classifier Accuracy: 100.00%\n"
          ]
        }
      ],
      "source": [
        "# Import libraries\n",
        "from sklearn import datasets\n",
        "from sklearn.model_selection import train_test_split\n",
        "from sklearn.svm import SVC\n",
        "from sklearn.metrics import accuracy_score\n",
        "\n",
        "# Load the Iris dataset\n",
        "iris = datasets.load_iris()\n",
        "X = iris.data\n",
        "y = iris.target\n",
        "\n",
        "# Split into train and test sets (80% train, 20% test)\n",
        "X_train, X_test, y_train, y_test = train_test_split(\n",
        "    X, y, test_size=0.2, random_state=42)\n",
        "\n",
        "# Create and train the SVM model (using RBF kernel)\n",
        "svm_model = SVC(kernel='rbf', C=1.0, gamma='scale')\n",
        "svm_model.fit(X_train, y_train)\n",
        "\n",
        "# Make predictions\n",
        "y_pred = svm_model.predict(X_test)\n",
        "\n",
        "# Evaluate accuracy\n",
        "accuracy = accuracy_score(y_test, y_pred)\n",
        "print(f\"SVM Classifier Accuracy: {accuracy * 100:.2f}%\")\n"
      ]
    },
    {
      "cell_type": "markdown",
      "source": [
        "22. Write a Python program to train two SVM classifiers with Linear and RBF kernels on the Wine dataset, then compare their accuracies.\n"
      ],
      "metadata": {
        "id": "SNQaNA9tGiN_"
      }
    },
    {
      "cell_type": "code",
      "source": [
        "# Import libraries\n",
        "from sklearn import datasets\n",
        "from sklearn.model_selection import train_test_split\n",
        "from sklearn.svm import SVC\n",
        "from sklearn.metrics import accuracy_score\n",
        "\n",
        "# Load the Wine dataset\n",
        "wine = datasets.load_wine()\n",
        "X = wine.data\n",
        "y = wine.target\n",
        "\n",
        "# Split into train and test sets\n",
        "X_train, X_test, y_train, y_test = train_test_split(\n",
        "    X, y, test_size=0.2, random_state=42\n",
        ")\n",
        "\n",
        "# Create and train SVM with Linear Kernel\n",
        "svm_linear = SVC(kernel='linear', C=1.0)\n",
        "svm_linear.fit(X_train, y_train)\n",
        "y_pred_linear = svm_linear.predict(X_test)\n",
        "accuracy_linear = accuracy_score(y_test, y_pred_linear)\n",
        "\n",
        "# Create and train SVM with RBF Kernel\n",
        "svm_rbf = SVC(kernel='rbf', C=1.0, gamma='scale')\n",
        "svm_rbf.fit(X_train, y_train)\n",
        "y_pred_rbf = svm_rbf.predict(X_test)\n",
        "accuracy_rbf = accuracy_score(y_test, y_pred_rbf)\n",
        "\n",
        "# Print results\n",
        "print(f\"Linear Kernel Accuracy: {accuracy_linear * 100:.2f}%\")\n",
        "print(f\"RBF Kernel Accuracy: {accuracy_rbf * 100:.2f}%\")\n",
        "\n",
        "# Compare\n",
        "if accuracy_linear > accuracy_rbf:\n",
        "    print(\"Linear Kernel performed better.\")\n",
        "elif accuracy_rbf > accuracy_linear:\n",
        "    print(\"RBF Kernel performed better.\")\n",
        "else:\n",
        "    print(\"Both kernels performed equally well.\")\n"
      ],
      "metadata": {
        "colab": {
          "base_uri": "https://localhost:8080/"
        },
        "id": "jzG-cY7mGo9v",
        "outputId": "c15fa0a6-fd04-4316-f246-6e76985f5cf3"
      },
      "execution_count": 2,
      "outputs": [
        {
          "output_type": "stream",
          "name": "stdout",
          "text": [
            "Linear Kernel Accuracy: 100.00%\n",
            "RBF Kernel Accuracy: 80.56%\n",
            "Linear Kernel performed better.\n"
          ]
        }
      ]
    },
    {
      "cell_type": "markdown",
      "source": [
        "23. Write a Python program to train an SVM Regressor (SVR) on a housing dataset and evaluate it using Mean Squared Error (MSE)."
      ],
      "metadata": {
        "id": "xOOCaBHVG3Ei"
      }
    },
    {
      "cell_type": "code",
      "source": [
        "# Import libraries\n",
        "from sklearn.datasets import fetch_california_housing\n",
        "from sklearn.model_selection import train_test_split\n",
        "from sklearn.svm import SVR\n",
        "from sklearn.metrics import mean_squared_error\n",
        "from sklearn.preprocessing import StandardScaler\n",
        "\n",
        "# Load the California housing dataset\n",
        "housing = fetch_california_housing()\n",
        "X = housing.data\n",
        "y = housing.target\n",
        "\n",
        "# Feature scaling (important for SVR performance)\n",
        "scaler_X = StandardScaler()\n",
        "scaler_y = StandardScaler()\n",
        "\n",
        "X_scaled = scaler_X.fit_transform(X)\n",
        "y_scaled = scaler_y.fit_transform(y.reshape(-1, 1)).ravel()\n",
        "\n",
        "# Split into train and test sets\n",
        "X_train, X_test, y_train, y_test = train_test_split(\n",
        "    X_scaled, y_scaled, test_size=0.2, random_state=42\n",
        ")\n",
        "\n",
        "# Create and train the SVR model (RBF kernel)\n",
        "svr = SVR(kernel='rbf', C=100, gamma=0.1, epsilon=0.1, max_iter=1000)\n",
        "\n",
        "svr.fit(X_train, y_train)\n",
        "\n",
        "# Predict on the test set\n",
        "y_pred_scaled = svr.predict(X_test)\n",
        "\n",
        "# Reverse scaling to get predictions in original scale\n",
        "y_pred = scaler_y.inverse_transform(y_pred_scaled.reshape(-1, 1))\n",
        "y_test_original = scaler_y.inverse_transform(y_test.reshape(-1, 1))\n",
        "\n",
        "# Calculate Mean Squared Error\n",
        "mse = mean_squared_error(y_test_original, y_pred)\n",
        "print(f\"Mean Squared Error (MSE): {mse:.4f}\")\n"
      ],
      "metadata": {
        "colab": {
          "base_uri": "https://localhost:8080/"
        },
        "id": "7Cw4ICA2G2rM",
        "outputId": "ceddb9d5-3a7b-41c2-8244-d1a86db8d2f9"
      },
      "execution_count": 3,
      "outputs": [
        {
          "output_type": "stream",
          "name": "stderr",
          "text": [
            "/usr/local/lib/python3.11/dist-packages/sklearn/svm/_base.py:305: ConvergenceWarning: Solver terminated early (max_iter=1000).  Consider pre-processing your data with StandardScaler or MinMaxScaler.\n",
            "  warnings.warn(\n"
          ]
        },
        {
          "output_type": "stream",
          "name": "stdout",
          "text": [
            "Mean Squared Error (MSE): 4.5919\n"
          ]
        }
      ]
    },
    {
      "cell_type": "markdown",
      "source": [
        "24. Write a Python program to train an SVM Classifier with a Polynomial Kernel and visualize the decision boundary."
      ],
      "metadata": {
        "id": "LtDLJRVlJzK9"
      }
    },
    {
      "cell_type": "code",
      "source": [
        "import numpy as np\n",
        "import matplotlib.pyplot as plt\n",
        "from sklearn.datasets import make_moons\n",
        "from sklearn.svm import SVC\n",
        "from sklearn.preprocessing import StandardScaler\n",
        "from sklearn.pipeline import Pipeline\n",
        "\n",
        "# Generate synthetic dataset\n",
        "X, y = make_moons(n_samples=200, noise=0.2, random_state=42)\n",
        "\n",
        "# Create SVM model with Polynomial Kernel\n",
        "model = Pipeline([\n",
        "    ('scaler', StandardScaler()),\n",
        "    ('svm', SVC(kernel='poly', degree=3, C=5, coef0=1))\n",
        "])\n",
        "\n",
        "# Train model\n",
        "model.fit(X, y)\n",
        "\n",
        "# Create mesh grid for plotting decision boundary\n",
        "x_min, x_max = X[:, 0].min() - 0.5, X[:, 0].max() + 0.5\n",
        "y_min, y_max = X[:, 1].min() - 0.5, X[:, 1].max() + 0.5\n",
        "xx, yy = np.meshgrid(np.arange(x_min, x_max, 0.01),\n",
        "                     np.arange(y_min, y_max, 0.01))\n",
        "\n",
        "# Predict on grid points\n",
        "Z = model.predict(np.c_[xx.ravel(), yy.ravel()])\n",
        "Z = Z.reshape(xx.shape)\n",
        "\n",
        "# Plot decision boundary and data points\n",
        "plt.contourf(xx, yy, Z, cmap=plt.cm.coolwarm, alpha=0.3)\n",
        "plt.scatter(X[:, 0], X[:, 1], c=y, cmap=plt.cm.coolwarm, edgecolors='k')\n",
        "plt.title(\"SVM with Polynomial Kernel (degree=3)\")\n",
        "plt.xlabel(\"Feature 1\")\n",
        "plt.ylabel(\"Feature 2\")\n",
        "plt.show()\n"
      ],
      "metadata": {
        "colab": {
          "base_uri": "https://localhost:8080/",
          "height": 472
        },
        "id": "asfHH6GCKnwV",
        "outputId": "c1d7c01f-4860-4192-aa74-ee57ffff119a"
      },
      "execution_count": 4,
      "outputs": [
        {
          "output_type": "display_data",
          "data": {
            "text/plain": [
              "<Figure size 640x480 with 1 Axes>"
            ],
            "image/png": "[encoded data removed]"
          },
          "metadata": {}
        }
      ]
    },
    {
      "cell_type": "markdown",
      "source": [
        "25. Write a Python program to train a Gaussian Naïve Bayes classifier on the Breast Cancer dataset and evaluate accuracy."
      ],
      "metadata": {
        "id": "rFInBlHLNoAH"
      }
    },
    {
      "cell_type": "code",
      "source": [
        "from sklearn.datasets import load_breast_cancer\n",
        "from sklearn.model_selection import train_test_split\n",
        "from sklearn.naive_bayes import GaussianNB\n",
        "from sklearn.metrics import accuracy_score\n",
        "\n",
        "# Load the Breast Cancer dataset\n",
        "data = load_breast_cancer()\n",
        "X, y = data.data, data.target\n",
        "\n",
        "# Split dataset into training and testing sets\n",
        "X_train, X_test, y_train, y_test = train_test_split(\n",
        "    X, y, test_size=0.2, random_state=42\n",
        ")\n",
        "\n",
        "# Create Gaussian Naïve Bayes classifier\n",
        "model = GaussianNB()\n",
        "\n",
        "# Train the model\n",
        "model.fit(X_train, y_train)\n",
        "\n",
        "# Make predictions\n",
        "y_pred = model.predict(X_test)\n",
        "\n",
        "# Evaluate accuracy\n",
        "accuracy = accuracy_score(y_test, y_pred)\n",
        "print(f\"Accuracy: {accuracy:.4f}\")\n"
      ],
      "metadata": {
        "colab": {
          "base_uri": "https://localhost:8080/"
        },
        "id": "xS6764FNN2fs",
        "outputId": "28fc1c1f-1158-478d-be46-d297f9793ba7"
      },
      "execution_count": 5,
      "outputs": [
        {
          "output_type": "stream",
          "name": "stdout",
          "text": [
            "Accuracy: 0.9737\n"
          ]
        }
      ]
    },
    {
      "cell_type": "markdown",
      "source": [
        "26. Write a Python program to train a Multinomial Naïve Bayes classifier for text classification using the 20 Newsgroups dataset."
      ],
      "metadata": {
        "id": "GhPm--0gOU56"
      }
    },
    {
      "cell_type": "code",
      "source": [
        "from sklearn.datasets import fetch_20newsgroups\n",
        "from sklearn.feature_extraction.text import CountVectorizer\n",
        "from sklearn.naive_bayes import MultinomialNB\n",
        "from sklearn.metrics import accuracy_score\n",
        "\n",
        "# Load the 20 Newsgroups dataset (train & test)\n",
        "train_data = fetch_20newsgroups(subset='train')\n",
        "test_data = fetch_20newsgroups(subset='test')\n",
        "\n",
        "# Convert text to a bag-of-words representation\n",
        "vectorizer = CountVectorizer()\n",
        "X_train = vectorizer.fit_transform(train_data.data)\n",
        "X_test = vectorizer.transform(test_data.data)\n",
        "\n",
        "# Create and train Multinomial Naïve Bayes model\n",
        "model = MultinomialNB()\n",
        "model.fit(X_train, train_data.target)\n",
        "\n",
        "# Predict on test data\n",
        "y_pred = model.predict(X_test)\n",
        "\n",
        "# Calculate accuracy\n",
        "accuracy = accuracy_score(test_data.target, y_pred)\n",
        "print(f\"Accuracy: {accuracy:.4f}\")\n"
      ],
      "metadata": {
        "colab": {
          "base_uri": "https://localhost:8080/"
        },
        "id": "Aa9Ptys6OaG5",
        "outputId": "dc5c61fc-fd97-4359-aa79-5fbb9de3c00f"
      },
      "execution_count": 6,
      "outputs": [
        {
          "output_type": "stream",
          "name": "stdout",
          "text": [
            "Accuracy: 0.7728\n"
          ]
        }
      ]
    },
    {
      "cell_type": "markdown",
      "source": [
        "27. Write a Python program to train an SVM Classifier with different C values and compare the decision boundaries visually."
      ],
      "metadata": {
        "id": "gwmXgaTtO-iZ"
      }
    },
    {
      "cell_type": "code",
      "source": [
        "import numpy as np\n",
        "import matplotlib.pyplot as plt\n",
        "from sklearn import datasets\n",
        "from sklearn.svm import SVC\n",
        "\n",
        "# Generate a synthetic dataset\n",
        "X, y = datasets.make_classification(\n",
        "    n_features=2, n_redundant=0, n_informative=2,\n",
        "    n_clusters_per_class=1, n_samples=100, random_state=42)\n",
        "\n",
        "# Different C values to try\n",
        "C_values = [0.01, 0.1, 1, 10, 100]\n",
        "\n",
        "# Plot setup\n",
        "plt.figure(figsize=(15, 8))\n",
        "\n",
        "for i, C in enumerate(C_values, 1):\n",
        "    # Train SVM model\n",
        "    clf = SVC(kernel='linear', C=C)\n",
        "    clf.fit(X, y)\n",
        "\n",
        "    # Plot decision boundary\n",
        "    plt.subplot(2, 3, i)\n",
        "    plt.title(f\"SVM with C={C}\")\n",
        "\n",
        "    # Create mesh grid for plotting\n",
        "    x_min, x_max = X[:, 0].min() - 1, X[:, 0].max() + 1\n",
        "    y_min, y_max = X[:, 1].min() - 1, X[:, 1].max() + 1\n",
        "    xx, yy = np.meshgrid(np.linspace(x_min, x_max, 200),\n",
        "                         np.linspace(y_min, y_max, 200))\n",
        "\n",
        "    # Predict on grid points\n",
        "    Z = clf.predict(np.c_[xx.ravel(), yy.ravel()])\n",
        "    Z = Z.reshape(xx.shape)\n",
        "\n",
        "    # Plot contour and data points\n",
        "    plt.contourf(xx, yy, Z, alpha=0.3, cmap=plt.cm.coolwarm)\n",
        "    plt.scatter(X[:, 0], X[:, 1], c=y, edgecolors='k', cmap=plt.cm.coolwarm)\n",
        "\n",
        "plt.tight_layout()\n",
        "plt.show()\n"
      ],
      "metadata": {
        "colab": {
          "base_uri": "https://localhost:8080/",
          "height": 767
        },
        "id": "fFCkRGaYPGfz",
        "outputId": "17d19793-b174-4f71-b52a-d25ea1e402e9"
      },
      "execution_count": 7,
      "outputs": [
        {
          "output_type": "display_data",
          "data": {
            "text/plain": [
              "<Figure size 1500x800 with 5 Axes>"
            ],
            "image/png": "[encoded data removed]"
          },
          "metadata": {}
        }
      ]
    },
    {
      "cell_type": "markdown",
      "source": [
        "28. Write a Python program to train a Bernoulli Naïve Bayes classifier for binary classification on a dataset with binary features."
      ],
      "metadata": {
        "id": "YtVl-eERPRAl"
      }
    },
    {
      "cell_type": "code",
      "source": [
        "from sklearn.datasets import make_classification\n",
        "from sklearn.naive_bayes import BernoulliNB\n",
        "from sklearn.model_selection import train_test_split\n",
        "from sklearn.metrics import accuracy_score\n",
        "\n",
        "# Generate a synthetic dataset with binary features (0 or 1)\n",
        "X, y = make_classification(n_samples=1000, n_features=10, n_informative=5,\n",
        "                           n_redundant=0, n_classes=2, random_state=42)\n",
        "\n",
        "# Convert features to binary (threshold at 0)\n",
        "X_binary = (X > 0).astype(int)\n",
        "\n",
        "# Train-test split\n",
        "X_train, X_test, y_train, y_test = train_test_split(X_binary, y, test_size=0.2, random_state=42)\n",
        "\n",
        "# Create and train Bernoulli Naïve Bayes model\n",
        "bnb = BernoulliNB()\n",
        "bnb.fit(X_train, y_train)\n",
        "\n",
        "# Predictions\n",
        "y_pred = bnb.predict(X_test)\n",
        "\n",
        "# Accuracy\n",
        "accuracy = accuracy_score(y_test, y_pred)\n",
        "print(f\"Bernoulli Naïve Bayes Accuracy: {accuracy:.2f}\")\n"
      ],
      "metadata": {
        "colab": {
          "base_uri": "https://localhost:8080/"
        },
        "id": "xjcNxDnCPXw8",
        "outputId": "d7914ba5-3ce0-48fa-ec9c-0ef5cdb54000"
      },
      "execution_count": 8,
      "outputs": [
        {
          "output_type": "stream",
          "name": "stdout",
          "text": [
            "Bernoulli Naïve Bayes Accuracy: 0.67\n"
          ]
        }
      ]
    },
    {
      "cell_type": "markdown",
      "source": [
        "29. Write a Python program to apply feature scaling before training an SVM model and compare results with unscaled data."
      ],
      "metadata": {
        "id": "vyqvH8ziPgPJ"
      }
    },
    {
      "cell_type": "code",
      "source": [
        "from sklearn.datasets import load_wine\n",
        "from sklearn.model_selection import train_test_split\n",
        "from sklearn.svm import SVC\n",
        "from sklearn.preprocessing import StandardScaler\n",
        "from sklearn.metrics import accuracy_score\n",
        "\n",
        "# Load dataset\n",
        "data = load_wine()\n",
        "X, y = data.data, data.target\n",
        "\n",
        "# Split data into training and testing sets\n",
        "X_train, X_test, y_train, y_test = train_test_split(X, y, test_size=0.2, random_state=42)\n",
        "\n",
        "# --- Without Scaling ---\n",
        "svm_unscaled = SVC(kernel='rbf', C=1.0)\n",
        "svm_unscaled.fit(X_train, y_train)\n",
        "y_pred_unscaled = svm_unscaled.predict(X_test)\n",
        "acc_unscaled = accuracy_score(y_test, y_pred_unscaled)\n",
        "\n",
        "# --- With Scaling ---\n",
        "scaler = StandardScaler()\n",
        "X_train_scaled = scaler.fit_transform(X_train)\n",
        "X_test_scaled = scaler.transform(X_test)\n",
        "\n",
        "svm_scaled = SVC(kernel='rbf', C=1.0)\n",
        "svm_scaled.fit(X_train_scaled, y_train)\n",
        "y_pred_scaled = svm_scaled.predict(X_test_scaled)\n",
        "acc_scaled = accuracy_score(y_test, y_pred_scaled)\n",
        "\n",
        "# Results\n",
        "print(f\"Accuracy without scaling: {acc_unscaled:.4f}\")\n",
        "print(f\"Accuracy with scaling:    {acc_scaled:.4f}\")\n"
      ],
      "metadata": {
        "colab": {
          "base_uri": "https://localhost:8080/"
        },
        "id": "cbJX7nFOPllM",
        "outputId": "8a2a0841-9888-44b0-83b4-f70d4a918c56"
      },
      "execution_count": 9,
      "outputs": [
        {
          "output_type": "stream",
          "name": "stdout",
          "text": [
            "Accuracy without scaling: 0.8056\n",
            "Accuracy with scaling:    1.0000\n"
          ]
        }
      ]
    },
    {
      "cell_type": "markdown",
      "source": [
        "30. Write a Python program to train a Gaussian Naïve Bayes model and compare the predictions before and after Laplace Smoothing."
      ],
      "metadata": {
        "id": "WRQSlxcRP39z"
      }
    },
    {
      "cell_type": "code",
      "source": [
        "from sklearn.datasets import load_iris\n",
        "from sklearn.model_selection import train_test_split\n",
        "from sklearn.naive_bayes import GaussianNB\n",
        "from sklearn.metrics import accuracy_score\n",
        "\n",
        "# Load dataset\n",
        "data = load_iris()\n",
        "X, y = data.data, data.target\n",
        "\n",
        "# Train-Test Split\n",
        "X_train, X_test, y_train, y_test = train_test_split(X, y, test_size=0.2, random_state=42)\n",
        "\n",
        "# --- Gaussian Naïve Bayes without Laplace smoothing ---\n",
        "gnb_no_smooth = GaussianNB(var_smoothing=1e-9)  # default\n",
        "gnb_no_smooth.fit(X_train, y_train)\n",
        "y_pred_no_smooth = gnb_no_smooth.predict(X_test)\n",
        "acc_no_smooth = accuracy_score(y_test, y_pred_no_smooth)\n",
        "\n",
        "# --- Gaussian Naïve Bayes with Laplace smoothing (larger var_smoothing) ---\n",
        "gnb_smooth = GaussianNB(var_smoothing=1e-2)  # adding smoothing\n",
        "gnb_smooth.fit(X_train, y_train)\n",
        "y_pred_smooth = gnb_smooth.predict(X_test)\n",
        "acc_smooth = accuracy_score(y_test, y_pred_smooth)\n",
        "\n",
        "# --- Results ---\n",
        "print(\"Predictions without Laplace smoothing:\", y_pred_no_smooth)\n",
        "print(\"Predictions with Laplace smoothing:   \", y_pred_smooth)\n",
        "print(f\"Accuracy without smoothing: {acc_no_smooth:.4f}\")\n",
        "print(f\"Accuracy with smoothing:    {acc_smooth:.4f}\")\n"
      ],
      "metadata": {
        "colab": {
          "base_uri": "https://localhost:8080/"
        },
        "id": "SeQmsLG5P-0h",
        "outputId": "4fa1764d-b57e-44d4-aaa7-685a00a6b462"
      },
      "execution_count": 10,
      "outputs": [
        {
          "output_type": "stream",
          "name": "stdout",
          "text": [
            "Predictions without Laplace smoothing: [1 0 2 1 1 0 1 2 1 1 2 0 0 0 0 1 2 1 1 2 0 2 0 2 2 2 2 2 0 0]\n",
            "Predictions with Laplace smoothing:    [1 0 2 1 1 0 1 2 1 1 2 0 0 0 0 1 2 1 1 2 0 2 0 2 2 2 2 2 0 0]\n",
            "Accuracy without smoothing: 1.0000\n",
            "Accuracy with smoothing:    1.0000\n"
          ]
        }
      ]
    },
    {
      "cell_type": "markdown",
      "source": [
        "31. Write a Python program to train an SVM Classifier and use GridSearchCV to tune the hyperparameters (C,gamma, kernel)."
      ],
      "metadata": {
        "id": "RBF6EWZCQZWO"
      }
    },
    {
      "cell_type": "code",
      "source": [
        "from sklearn import datasets\n",
        "from sklearn.model_selection import train_test_split, GridSearchCV\n",
        "from sklearn.svm import SVC\n",
        "from sklearn.metrics import accuracy_score\n",
        "\n",
        "# Load dataset (Iris for example)\n",
        "iris = datasets.load_iris()\n",
        "X, y = iris.data, iris.target\n",
        "\n",
        "# Train-Test Split\n",
        "X_train, X_test, y_train, y_test = train_test_split(\n",
        "    X, y, test_size=0.2, random_state=42\n",
        ")\n",
        "\n",
        "# Define SVM model\n",
        "svm = SVC()\n",
        "\n",
        "# Define parameter grid\n",
        "param_grid = {\n",
        "    'C': [0.1, 1, 10, 100],           # Regularization\n",
        "    'gamma': [1, 0.1, 0.01, 0.001],   # Kernel coefficient\n",
        "    'kernel': ['linear', 'rbf', 'poly']  # Kernel types\n",
        "}\n",
        "\n",
        "# GridSearchCV\n",
        "grid = GridSearchCV(svm, param_grid, refit=True, cv=5, verbose=1)\n",
        "grid.fit(X_train, y_train)\n",
        "\n",
        "# Best parameters\n",
        "print(\"Best Parameters found:\", grid.best_params_)\n",
        "\n",
        "# Predictions\n",
        "y_pred = grid.predict(X_test)\n",
        "\n",
        "# Accuracy\n",
        "print(\"Test Accuracy:\", accuracy_score(y_test, y_pred))\n"
      ],
      "metadata": {
        "colab": {
          "base_uri": "https://localhost:8080/"
        },
        "id": "hAbXxjlQQfp4",
        "outputId": "bc9f854e-144f-4704-94c2-53f3b7417799"
      },
      "execution_count": 11,
      "outputs": [
        {
          "output_type": "stream",
          "name": "stdout",
          "text": [
            "Fitting 5 folds for each of 48 candidates, totalling 240 fits\n",
            "Best Parameters found: {'C': 0.1, 'gamma': 0.1, 'kernel': 'poly'}\n",
            "Test Accuracy: 1.0\n"
          ]
        }
      ]
    },
    {
      "cell_type": "markdown",
      "source": [
        "32. Write a Python program to train an SVM Classifier on an imbalanced dataset and apply class weighting and check it improve accuracy."
      ],
      "metadata": {
        "id": "AFC3-W8KQ7gN"
      }
    },
    {
      "cell_type": "code",
      "source": [
        "from sklearn.datasets import make_classification\n",
        "from sklearn.model_selection import train_test_split\n",
        "from sklearn.svm import SVC\n",
        "from sklearn.metrics import accuracy_score, classification_report\n",
        "\n",
        "# Create imbalanced dataset\n",
        "X, y = make_classification(\n",
        "    n_samples=1000, n_features=20, n_informative=2, n_redundant=10,\n",
        "    n_classes=2, weights=[0.9, 0.1], flip_y=0, random_state=42\n",
        ")\n",
        "\n",
        "# Train-test split\n",
        "X_train, X_test, y_train, y_test = train_test_split(\n",
        "    X, y, test_size=0.3, random_state=42\n",
        ")\n",
        "\n",
        "# SVM without class weighting\n",
        "svm_default = SVC()\n",
        "svm_default.fit(X_train, y_train)\n",
        "y_pred_default = svm_default.predict(X_test)\n",
        "\n",
        "print(\"Without Class Weighting:\")\n",
        "print(\"Accuracy:\", accuracy_score(y_test, y_pred_default))\n",
        "print(classification_report(y_test, y_pred_default))\n",
        "\n",
        "# SVM with class weighting\n",
        "svm_weighted = SVC(class_weight='balanced')\n",
        "svm_weighted.fit(X_train, y_train)\n",
        "y_pred_weighted = svm_weighted.predict(X_test)\n",
        "\n",
        "print(\"\\nWith Class Weighting:\")\n",
        "print(\"Accuracy:\", accuracy_score(y_test, y_pred_weighted))\n",
        "print(classification_report(y_test, y_pred_weighted))\n"
      ],
      "metadata": {
        "colab": {
          "base_uri": "https://localhost:8080/"
        },
        "id": "7sxPaMbARCyJ",
        "outputId": "a91aeb20-533d-4fb1-90ff-e57223824961"
      },
      "execution_count": 12,
      "outputs": [
        {
          "output_type": "stream",
          "name": "stdout",
          "text": [
            "Without Class Weighting:\n",
            "Accuracy: 0.94\n",
            "              precision    recall  f1-score   support\n",
            "\n",
            "           0       0.94      1.00      0.97       266\n",
            "           1       1.00      0.47      0.64        34\n",
            "\n",
            "    accuracy                           0.94       300\n",
            "   macro avg       0.97      0.74      0.80       300\n",
            "weighted avg       0.94      0.94      0.93       300\n",
            "\n",
            "\n",
            "With Class Weighting:\n",
            "Accuracy: 0.9233333333333333\n",
            "              precision    recall  f1-score   support\n",
            "\n",
            "           0       0.97      0.94      0.96       266\n",
            "           1       0.63      0.79      0.70        34\n",
            "\n",
            "    accuracy                           0.92       300\n",
            "   macro avg       0.80      0.87      0.83       300\n",
            "weighted avg       0.93      0.92      0.93       300\n",
            "\n"
          ]
        }
      ]
    },
    {
      "cell_type": "markdown",
      "source": [
        "33.  Write a Python program to implement a Naïve Bayes classifier for spam detection using email data."
      ],
      "metadata": {
        "id": "13tfsVp4RRug"
      }
    },
    {
      "cell_type": "code",
      "source": [
        "# Naïve Bayes Spam Detection\n",
        "\n",
        "from sklearn.model_selection import train_test_split\n",
        "from sklearn.feature_extraction.text import CountVectorizer\n",
        "from sklearn.naive_bayes import MultinomialNB\n",
        "from sklearn.metrics import accuracy_score, classification_report\n",
        "import pandas as pd\n",
        "\n",
        "# Load sample spam dataset (You can replace with your email data CSV)\n",
        "# Dataset format: columns = ['label', 'message']\n",
        "url = \"https://raw.githubusercontent.com/justmarkham/pycon-2016-tutorial/master/data/sms.tsv\"\n",
        "df = pd.read_csv(url, sep='\\t', header=None, names=['label', 'message'])\n",
        "\n",
        "# Convert labels to binary\n",
        "df['label'] = df['label'].map({'ham': 0, 'spam': 1})\n",
        "\n",
        "# Train-test split\n",
        "X_train, X_test, y_train, y_test = train_test_split(\n",
        "    df['message'], df['label'], test_size=0.2, random_state=42\n",
        ")\n",
        "\n",
        "# Convert text to feature vectors\n",
        "vectorizer = CountVectorizer()\n",
        "X_train_vec = vectorizer.fit_transform(X_train)\n",
        "X_test_vec = vectorizer.transform(X_test)\n",
        "\n",
        "# Train Naïve Bayes classifier\n",
        "nb = MultinomialNB()\n",
        "nb.fit(X_train_vec, y_train)\n",
        "\n",
        "# Predictions\n",
        "y_pred = nb.predict(X_test_vec)\n",
        "\n",
        "# Results\n",
        "print(\"Accuracy:\", accuracy_score(y_test, y_pred))\n",
        "print(\"\\nClassification Report:\\n\", classification_report(y_test, y_pred))\n"
      ],
      "metadata": {
        "colab": {
          "base_uri": "https://localhost:8080/"
        },
        "id": "jf-hlUa5RV2S",
        "outputId": "24e58607-aefe-4406-f361-47dac5abdb0e"
      },
      "execution_count": 13,
      "outputs": [
        {
          "output_type": "stream",
          "name": "stdout",
          "text": [
            "Accuracy: 0.9919282511210762\n",
            "\n",
            "Classification Report:\n",
            "               precision    recall  f1-score   support\n",
            "\n",
            "           0       0.99      1.00      1.00       966\n",
            "           1       1.00      0.94      0.97       149\n",
            "\n",
            "    accuracy                           0.99      1115\n",
            "   macro avg       1.00      0.97      0.98      1115\n",
            "weighted avg       0.99      0.99      0.99      1115\n",
            "\n"
          ]
        }
      ]
    },
    {
      "cell_type": "markdown",
      "source": [
        "34. Write a Python program to train an SVM Classifier and a Naïve Bayes Classifier on the same dataset and compare their accuracy."
      ],
      "metadata": {
        "id": "AK_tsGZTRvnM"
      }
    },
    {
      "cell_type": "code",
      "source": [
        "# Train SVM and Naïve Bayes on the same dataset and compare accuracy\n",
        "\n",
        "from sklearn import datasets\n",
        "from sklearn.model_selection import train_test_split\n",
        "from sklearn.svm import SVC\n",
        "from sklearn.naive_bayes import GaussianNB\n",
        "from sklearn.metrics import accuracy_score\n",
        "\n",
        "# Load dataset (Iris)\n",
        "iris = datasets.load_iris()\n",
        "X, y = iris.data, iris.target\n",
        "\n",
        "# Split into train and test sets\n",
        "X_train, X_test, y_train, y_test = train_test_split(X, y, test_size=0.3, random_state=42)\n",
        "\n",
        "# SVM Classifier\n",
        "svm_model = SVC(kernel='linear', random_state=42)\n",
        "svm_model.fit(X_train, y_train)\n",
        "svm_preds = svm_model.predict(X_test)\n",
        "svm_acc = accuracy_score(y_test, svm_preds)\n",
        "\n",
        "# Naïve Bayes Classifier\n",
        "nb_model = GaussianNB()\n",
        "nb_model.fit(X_train, y_train)\n",
        "nb_preds = nb_model.predict(X_test)\n",
        "nb_acc = accuracy_score(y_test, nb_preds)\n",
        "\n",
        "# Print results\n",
        "print(f\"SVM Accuracy: {svm_acc * 100:.2f}%\")\n",
        "print(f\"Naïve Bayes Accuracy: {nb_acc * 100:.2f}%\")\n",
        "\n",
        "# Compare\n",
        "if svm_acc > nb_acc:\n",
        "    print(\"SVM performed better.\")\n",
        "elif nb_acc > svm_acc:\n",
        "    print(\"Naïve Bayes performed better.\")\n",
        "else:\n",
        "    print(\"Both performed equally well.\")\n",
        "\n"
      ],
      "metadata": {
        "colab": {
          "base_uri": "https://localhost:8080/"
        },
        "id": "C0O36iiIR4QI",
        "outputId": "6a84ec5d-81dd-4e95-d1ac-38b6abea1f7a"
      },
      "execution_count": 14,
      "outputs": [
        {
          "output_type": "stream",
          "name": "stdout",
          "text": [
            "SVM Accuracy: 100.00%\n",
            "Naïve Bayes Accuracy: 97.78%\n",
            "SVM performed better.\n"
          ]
        }
      ]
    },
    {
      "cell_type": "markdown",
      "source": [
        "35. Write a Python program to perform feature selection before training a Naïve Bayes classifier and compare results."
      ],
      "metadata": {
        "id": "0O1nhiiWSD8X"
      }
    },
    {
      "cell_type": "code",
      "source": [
        "# Naïve Bayes with and without feature selection\n",
        "from sklearn import datasets\n",
        "from sklearn.model_selection import train_test_split\n",
        "from sklearn.naive_bayes import GaussianNB\n",
        "from sklearn.metrics import accuracy_score\n",
        "from sklearn.feature_selection import SelectKBest, chi2\n",
        "\n",
        "# Load dataset (Iris)\n",
        "iris = datasets.load_iris()\n",
        "X, y = iris.data, iris.target\n",
        "\n",
        "# Split data\n",
        "X_train, X_test, y_train, y_test = train_test_split(X, y, test_size=0.3, random_state=42)\n",
        "\n",
        "# ----- Without Feature Selection -----\n",
        "nb_all = GaussianNB()\n",
        "nb_all.fit(X_train, y_train)\n",
        "pred_all = nb_all.predict(X_test)\n",
        "acc_all = accuracy_score(y_test, pred_all)\n",
        "\n",
        "# ----- With Feature Selection -----\n",
        "# Select top 2 features based on Chi-squared test\n",
        "selector = SelectKBest(score_func=chi2, k=2)\n",
        "X_train_selected = selector.fit_transform(X_train, y_train)\n",
        "X_test_selected = selector.transform(X_test)\n",
        "\n",
        "nb_selected = GaussianNB()\n",
        "nb_selected.fit(X_train_selected, y_train)\n",
        "pred_selected = nb_selected.predict(X_test_selected)\n",
        "acc_selected = accuracy_score(y_test, pred_selected)\n",
        "\n",
        "# Results\n",
        "print(f\"Accuracy without feature selection: {acc_all * 100:.2f}%\")\n",
        "print(f\"Accuracy with feature selection:    {acc_selected * 100:.2f}%\")\n",
        "\n",
        "if acc_selected > acc_all:\n",
        "    print(\"Feature selection improved accuracy.\")\n",
        "elif acc_selected < acc_all:\n",
        "    print(\"Feature selection reduced accuracy.\")\n",
        "else:\n",
        "    print(\"Accuracy remained the same after feature selection.\")\n"
      ],
      "metadata": {
        "colab": {
          "base_uri": "https://localhost:8080/"
        },
        "id": "JxchtooVSI24",
        "outputId": "d4acdc11-3117-46c0-d6c1-7c60604375f6"
      },
      "execution_count": 15,
      "outputs": [
        {
          "output_type": "stream",
          "name": "stdout",
          "text": [
            "Accuracy without feature selection: 97.78%\n",
            "Accuracy with feature selection:    100.00%\n",
            "Feature selection improved accuracy.\n"
          ]
        }
      ]
    },
    {
      "cell_type": "markdown",
      "source": [
        "36. Write a Python program to train an SVM Classifier using One-vs-Rest (OvR) and One-vs-One (OvO) strategies on the Wine dataset and compare their accuracy"
      ],
      "metadata": {
        "id": "fSUwm_BlSaRQ"
      }
    },
    {
      "cell_type": "code",
      "source": [
        "from sklearn import datasets\n",
        "from sklearn.model_selection import train_test_split\n",
        "from sklearn.svm import SVC\n",
        "from sklearn.multiclass import OneVsRestClassifier, OneVsOneClassifier\n",
        "from sklearn.metrics import accuracy_score\n",
        "\n",
        "# Load the Wine dataset\n",
        "wine = datasets.load_wine()\n",
        "X, y = wine.data, wine.target\n",
        "\n",
        "# Split dataset into train and test sets\n",
        "X_train, X_test, y_train, y_test = train_test_split(X, y, test_size=0.3, random_state=42)\n",
        "\n",
        "# ----- One-vs-Rest (OvR) -----\n",
        "ovr_svm = OneVsRestClassifier(SVC(kernel='linear'))\n",
        "ovr_svm.fit(X_train, y_train)\n",
        "y_pred_ovr = ovr_svm.predict(X_test)\n",
        "acc_ovr = accuracy_score(y_test, y_pred_ovr)\n",
        "\n",
        "# ----- One-vs-One (OvO) -----\n",
        "ovo_svm = OneVsOneClassifier(SVC(kernel='linear'))\n",
        "ovo_svm.fit(X_train, y_train)\n",
        "y_pred_ovo = ovo_svm.predict(X_test)\n",
        "acc_ovo = accuracy_score(y_test, y_pred_ovo)\n",
        "\n",
        "# Print results\n",
        "print(f\"Accuracy using One-vs-Rest (OvR): {acc_ovr * 100:.2f}%\")\n",
        "print(f\"Accuracy using One-vs-One  (OvO): {acc_ovo * 100:.2f}%\")\n",
        "\n",
        "if acc_ovo > acc_ovr:\n",
        "    print(\"One-vs-One performed better.\")\n",
        "elif acc_ovo < acc_ovr:\n",
        "    print(\"One-vs-Rest performed better.\")\n",
        "else:\n",
        "    print(\"Both strategies performed equally well.\")\n"
      ],
      "metadata": {
        "colab": {
          "base_uri": "https://localhost:8080/"
        },
        "id": "ZlHfkPkxShEM",
        "outputId": "7ce4b84e-75e7-495c-edc0-40874304f315"
      },
      "execution_count": 16,
      "outputs": [
        {
          "output_type": "stream",
          "name": "stdout",
          "text": [
            "Accuracy using One-vs-Rest (OvR): 98.15%\n",
            "Accuracy using One-vs-One  (OvO): 98.15%\n",
            "Both strategies performed equally well.\n"
          ]
        }
      ]
    },
    {
      "cell_type": "markdown",
      "source": [
        "37. Write a Python program to train an SVM Classifier using Linear, Polynomial, and RBF kernels on the Breast Cancer dataset and compare their accuracy."
      ],
      "metadata": {
        "id": "tFKs70jTSwp5"
      }
    },
    {
      "cell_type": "code",
      "source": [
        "from sklearn import datasets\n",
        "from sklearn.model_selection import train_test_split\n",
        "from sklearn.svm import SVC\n",
        "from sklearn.multiclass import OneVsRestClassifier, OneVsOneClassifier\n",
        "from sklearn.metrics import accuracy_score\n",
        "\n",
        "# Load the Wine dataset\n",
        "wine = datasets.load_wine()\n",
        "X, y = wine.data, wine.target\n",
        "\n",
        "# Split dataset into train and test sets\n",
        "X_train, X_test, y_train, y_test = train_test_split(X, y, test_size=0.3, random_state=42)\n",
        "\n",
        "# ----- One-vs-Rest (OvR) -----\n",
        "ovr_svm = OneVsRestClassifier(SVC(kernel='linear'))\n",
        "ovr_svm.fit(X_train, y_train)\n",
        "y_pred_ovr = ovr_svm.predict(X_test)\n",
        "acc_ovr = accuracy_score(y_test, y_pred_ovr)\n",
        "\n",
        "# ----- One-vs-One (OvO) -----\n",
        "ovo_svm = OneVsOneClassifier(SVC(kernel='linear'))\n",
        "ovo_svm.fit(X_train, y_train)\n",
        "y_pred_ovo = ovo_svm.predict(X_test)\n",
        "acc_ovo = accuracy_score(y_test, y_pred_ovo)\n",
        "\n",
        "# Print results\n",
        "print(f\"Accuracy using One-vs-Rest (OvR): {acc_ovr * 100:.2f}%\")\n",
        "print(f\"Accuracy using One-vs-One  (OvO): {acc_ovo * 100:.2f}%\")\n",
        "\n",
        "if acc_ovo > acc_ovr:\n",
        "    print(\"One-vs-One performed better.\")\n",
        "elif acc_ovo < acc_ovr:\n",
        "    print(\"One-vs-Rest performed better.\")\n",
        "else:\n",
        "    print(\"Both strategies performed equally well.\")\n"
      ],
      "metadata": {
        "colab": {
          "base_uri": "https://localhost:8080/"
        },
        "id": "1X6XtcWZS2w7",
        "outputId": "f7943bea-07f7-42b6-a557-00917fe3e980"
      },
      "execution_count": 17,
      "outputs": [
        {
          "output_type": "stream",
          "name": "stdout",
          "text": [
            "Accuracy using One-vs-Rest (OvR): 98.15%\n",
            "Accuracy using One-vs-One  (OvO): 98.15%\n",
            "Both strategies performed equally well.\n"
          ]
        }
      ]
    },
    {
      "cell_type": "markdown",
      "source": [
        "38. Write a Python program to train an SVM Classifier using Stratified K-Fold Cross-Validation and compute the average accuracy."
      ],
      "metadata": {
        "id": "pOUwh50TTNE7"
      }
    },
    {
      "cell_type": "code",
      "source": [
        "from sklearn import datasets\n",
        "from sklearn.model_selection import StratifiedKFold\n",
        "from sklearn.svm import SVC\n",
        "from sklearn.metrics import accuracy_score\n",
        "import numpy as np\n",
        "\n",
        "# Load dataset (Wine dataset for example)\n",
        "wine = datasets.load_wine()\n",
        "X, y = wine.data, wine.target\n",
        "\n",
        "# Define Stratified K-Fold Cross-Validation\n",
        "skf = StratifiedKFold(n_splits=5, shuffle=True, random_state=42)\n",
        "\n",
        "accuracies = []\n",
        "\n",
        "# Loop through folds\n",
        "for train_index, test_index in skf.split(X, y):\n",
        "    X_train, X_test = X[train_index], X[test_index]\n",
        "    y_train, y_test = y[train_index], y[test_index]\n",
        "\n",
        "    # Create and train SVM classifier\n",
        "    clf = SVC(kernel='linear')  # You can change kernel to 'rbf', 'poly', etc.\n",
        "    clf.fit(X_train, y_train)\n",
        "\n",
        "    # Predict and calculate accuracy\n",
        "    y_pred = clf.predict(X_test)\n",
        "    acc = accuracy_score(y_test, y_pred)\n",
        "    accuracies.append(acc)\n",
        "\n",
        "# Compute average accuracy\n",
        "average_accuracy = np.mean(accuracies)\n",
        "\n",
        "# Print results\n",
        "print(f\"Accuracies for each fold: {['{:.2f}%'.format(a*100) for a in accuracies]}\")\n",
        "print(f\"Average Accuracy: {average_accuracy * 100:.2f}%\")\n"
      ],
      "metadata": {
        "colab": {
          "base_uri": "https://localhost:8080/"
        },
        "id": "JTFfPiG1UGAS",
        "outputId": "f2a8ecb4-7a27-480e-86be-16077675b5cf"
      },
      "execution_count": 18,
      "outputs": [
        {
          "output_type": "stream",
          "name": "stdout",
          "text": [
            "Accuracies for each fold: ['94.44%', '100.00%', '94.44%', '97.14%', '100.00%']\n",
            "Average Accuracy: 97.21%\n"
          ]
        }
      ]
    },
    {
      "cell_type": "markdown",
      "source": [
        "39. Write a Python program to train a Naïve Bayes classifier using different prior probabilities and compare performance."
      ],
      "metadata": {
        "id": "MQt0Gdp8U5BZ"
      }
    },
    {
      "cell_type": "code",
      "source": [
        "from sklearn import datasets\n",
        "from sklearn.model_selection import train_test_split\n",
        "from sklearn.naive_bayes import GaussianNB\n",
        "from sklearn.metrics import accuracy_score\n",
        "\n",
        "# Load dataset (Iris dataset for example)\n",
        "iris = datasets.load_iris()\n",
        "X, y = iris.data, iris.target\n",
        "\n",
        "# Train-Test Split\n",
        "X_train, X_test, y_train, y_test = train_test_split(\n",
        "    X, y, test_size=0.3, random_state=42, stratify=y\n",
        ")\n",
        "\n",
        "# Different prior probabilities to test\n",
        "priors_list = [\n",
        "    None,\n",
        "    [0.33, 0.33, 0.34],\n",
        "    [0.5, 0.3, 0.2],\n",
        "]\n",
        "\n",
        "# Train and compare performance\n",
        "for priors in priors_list:\n",
        "    nb = GaussianNB(priors=priors)\n",
        "    nb.fit(X_train, y_train)\n",
        "    y_pred = nb.predict(X_test)\n",
        "    acc = accuracy_score(y_test, y_pred)\n",
        "\n",
        "    print(f\"Priors: {priors} => Accuracy: {acc*100:.2f}%\")\n"
      ],
      "metadata": {
        "colab": {
          "base_uri": "https://localhost:8080/"
        },
        "id": "k_2EB0wsVErt",
        "outputId": "7cd2db50-9a39-41b9-a333-5dd1420f5dbc"
      },
      "execution_count": 19,
      "outputs": [
        {
          "output_type": "stream",
          "name": "stdout",
          "text": [
            "Priors: None => Accuracy: 91.11%\n",
            "Priors: [0.33, 0.33, 0.34] => Accuracy: 91.11%\n",
            "Priors: [0.5, 0.3, 0.2] => Accuracy: 91.11%\n"
          ]
        }
      ]
    },
    {
      "cell_type": "markdown",
      "source": [
        "40. Write a Python program to perform Recursive Feature Elimination (RFE) before training an SVM Classifier and compare accuracy."
      ],
      "metadata": {
        "id": "GstW1aJCWGmi"
      }
    },
    {
      "cell_type": "code",
      "source": [
        "from sklearn import datasets\n",
        "from sklearn.model_selection import train_test_split\n",
        "from sklearn.svm import SVC\n",
        "from sklearn.feature_selection import RFE\n",
        "from sklearn.metrics import accuracy_score\n",
        "\n",
        "# Load dataset (Breast Cancer dataset as example)\n",
        "data = datasets.load_breast_cancer()\n",
        "X, y = data.data, data.target\n",
        "\n",
        "# Train-test split\n",
        "X_train, X_test, y_train, y_test = train_test_split(\n",
        "    X, y, test_size=0.3, random_state=42, stratify=y\n",
        ")\n",
        "\n",
        "# ---- Without Feature Selection ----\n",
        "svm_clf = SVC(kernel=\"linear\", random_state=42)\n",
        "svm_clf.fit(X_train, y_train)\n",
        "y_pred_no_rfe = svm_clf.predict(X_test)\n",
        "acc_no_rfe = accuracy_score(y_test, y_pred_no_rfe)\n",
        "\n",
        "# ---- With RFE Feature Selection ----\n",
        "selector = RFE(svm_clf, n_features_to_select=10)  # Keep top 10 features\n",
        "selector.fit(X_train, y_train)\n",
        "\n",
        "X_train_rfe = selector.transform(X_train)\n",
        "X_test_rfe = selector.transform(X_test)\n",
        "\n",
        "svm_clf_rfe = SVC(kernel=\"linear\", random_state=42)\n",
        "svm_clf_rfe.fit(X_train_rfe, y_train)\n",
        "y_pred_rfe = svm_clf_rfe.predict(X_test_rfe)\n",
        "acc_rfe = accuracy_score(y_test, y_pred_rfe)\n",
        "\n",
        "# ---- Results ----\n",
        "print(f\"Accuracy without RFE: {acc_no_rfe*100:.2f}%\")\n",
        "print(f\"Accuracy with RFE: {acc_rfe*100:.2f}%\")\n",
        "\n"
      ],
      "metadata": {
        "colab": {
          "base_uri": "https://localhost:8080/"
        },
        "id": "IN-E3oXeWonD",
        "outputId": "ee67bb48-cb30-4ae0-e289-1b6ccaed5f4b"
      },
      "execution_count": 20,
      "outputs": [
        {
          "output_type": "stream",
          "name": "stdout",
          "text": [
            "Accuracy without RFE: 95.32%\n",
            "Accuracy with RFE: 95.91%\n"
          ]
        }
      ]
    },
    {
      "cell_type": "markdown",
      "source": [
        "41. Write a Python program to train an SVM Classifier and evaluate its performance using Precision, Recall, and F1-Score instead of accuracy."
      ],
      "metadata": {
        "id": "YoAMoChMXE9T"
      }
    },
    {
      "cell_type": "code",
      "source": [
        "from sklearn import datasets\n",
        "from sklearn.model_selection import train_test_split\n",
        "from sklearn.svm import SVC\n",
        "from sklearn.metrics import precision_score, recall_score, f1_score, classification_report\n",
        "\n",
        "# Load dataset (Breast Cancer dataset as example)\n",
        "data = datasets.load_breast_cancer()\n",
        "X, y = data.data, data.target\n",
        "\n",
        "# Train-test split\n",
        "X_train, X_test, y_train, y_test = train_test_split(\n",
        "    X, y, test_size=0.3, random_state=42, stratify=y\n",
        ")\n",
        "\n",
        "# Train SVM Classifier\n",
        "svm_clf = SVC(kernel=\"linear\", random_state=42)\n",
        "svm_clf.fit(X_train, y_train)\n",
        "\n",
        "# Predictions\n",
        "y_pred = svm_clf.predict(X_test)\n",
        "\n",
        "# Evaluate Precision, Recall, F1-Score\n",
        "precision = precision_score(y_test, y_pred)\n",
        "recall = recall_score(y_test, y_pred)\n",
        "f1 = f1_score(y_test, y_pred)\n",
        "\n",
        "print(f\"Precision: {precision:.4f}\")\n",
        "print(f\"Recall: {recall:.4f}\")\n",
        "print(f\"F1-Score: {f1:.4f}\")\n",
        "\n",
        "# Detailed classification report\n",
        "print(\"\\nClassification Report:\\n\", classification_report(y_test, y_pred))\n"
      ],
      "metadata": {
        "colab": {
          "base_uri": "https://localhost:8080/"
        },
        "id": "5E_KvlcpXRnS",
        "outputId": "d54e80bc-c69e-4cd4-e832-67657215cf63"
      },
      "execution_count": 21,
      "outputs": [
        {
          "output_type": "stream",
          "name": "stdout",
          "text": [
            "Precision: 0.9381\n",
            "Recall: 0.9907\n",
            "F1-Score: 0.9636\n",
            "\n",
            "Classification Report:\n",
            "               precision    recall  f1-score   support\n",
            "\n",
            "           0       0.98      0.89      0.93        64\n",
            "           1       0.94      0.99      0.96       107\n",
            "\n",
            "    accuracy                           0.95       171\n",
            "   macro avg       0.96      0.94      0.95       171\n",
            "weighted avg       0.95      0.95      0.95       171\n",
            "\n"
          ]
        }
      ]
    },
    {
      "cell_type": "markdown",
      "source": [
        "42.  Write a Python program to train a Naïve Bayes Classifier and evaluate its performance using Log Loss\n",
        "(Cross-Entropy Loss)."
      ],
      "metadata": {
        "id": "kASHhkk4XZeN"
      }
    },
    {
      "cell_type": "code",
      "source": [
        "from sklearn import datasets\n",
        "from sklearn.model_selection import train_test_split\n",
        "from sklearn.naive_bayes import GaussianNB\n",
        "from sklearn.metrics import log_loss\n",
        "\n",
        "# Load dataset (Iris dataset for multi-class example)\n",
        "data = datasets.load_iris()\n",
        "X, y = data.data, data.target\n",
        "\n",
        "# Train-test split\n",
        "X_train, X_test, y_train, y_test = train_test_split(\n",
        "    X, y, test_size=0.3, random_state=42, stratify=y\n",
        ")\n",
        "\n",
        "# Train Naïve Bayes Classifier\n",
        "nb_clf = GaussianNB()\n",
        "nb_clf.fit(X_train, y_train)\n",
        "\n",
        "# Predict probabilities for Log Loss calculation\n",
        "y_prob = nb_clf.predict_proba(X_test)\n",
        "\n",
        "# Compute Log Loss (Cross-Entropy Loss)\n",
        "loss = log_loss(y_test, y_prob)\n",
        "\n",
        "print(f\"Log Loss (Cross-Entropy Loss): {loss:.4f}\")\n"
      ],
      "metadata": {
        "colab": {
          "base_uri": "https://localhost:8080/"
        },
        "id": "ogjP3L1iXdng",
        "outputId": "73120dbd-87cf-4b65-d984-dc52d6a66a95"
      },
      "execution_count": 22,
      "outputs": [
        {
          "output_type": "stream",
          "name": "stdout",
          "text": [
            "Log Loss (Cross-Entropy Loss): 0.2348\n"
          ]
        }
      ]
    },
    {
      "cell_type": "markdown",
      "source": [
        "43. Write a Python program to train an SVM Classifier and visualize the Confusion Matrix using seaborn."
      ],
      "metadata": {
        "id": "sqAdah7HXk_j"
      }
    },
    {
      "cell_type": "code",
      "source": [
        "import seaborn as sns\n",
        "import matplotlib.pyplot as plt\n",
        "from sklearn import datasets\n",
        "from sklearn.model_selection import train_test_split\n",
        "from sklearn.svm import SVC\n",
        "from sklearn.metrics import confusion_matrix, classification_report\n",
        "\n",
        "# Load dataset (Iris dataset)\n",
        "iris = datasets.load_iris()\n",
        "X, y = iris.data, iris.target\n",
        "\n",
        "# Train-test split\n",
        "X_train, X_test, y_train, y_test = train_test_split(\n",
        "    X, y, test_size=0.3, random_state=42, stratify=y\n",
        ")\n",
        "\n",
        "# Train SVM Classifier\n",
        "svm_clf = SVC(kernel='linear', random_state=42)\n",
        "svm_clf.fit(X_train, y_train)\n",
        "\n",
        "# Predictions\n",
        "y_pred = svm_clf.predict(X_test)\n",
        "\n",
        "# Confusion Matrix\n",
        "cm = confusion_matrix(y_test, y_pred)\n",
        "\n",
        "# Visualization using seaborn heatmap\n",
        "plt.figure(figsize=(6, 4))\n",
        "sns.heatmap(cm, annot=True, fmt=\"d\", cmap=\"Blues\",\n",
        "            xticklabels=iris.target_names,\n",
        "            yticklabels=iris.target_names)\n",
        "\n",
        "plt.title(\"Confusion Matrix - SVM Classifier\")\n",
        "plt.xlabel(\"Predicted Label\")\n",
        "plt.ylabel(\"True Label\")\n",
        "plt.show()\n",
        "\n",
        "# Optional: print classification report\n",
        "print(classification_report(y_test, y_pred, target_names=iris.target_names))\n"
      ],
      "metadata": {
        "colab": {
          "base_uri": "https://localhost:8080/",
          "height": 584
        },
        "id": "9Ev7T2oLXpeE",
        "outputId": "1afef5db-0c57-486d-b46f-1051acc54045"
      },
      "execution_count": 23,
      "outputs": [
        {
          "output_type": "display_data",
          "data": {
            "text/plain": [
              "<Figure size 600x400 with 2 Axes>"
            ],
            "image/png": "[encoded data removed]"
          },
          "metadata": {}
        },
        {
          "output_type": "stream",
          "name": "stdout",
          "text": [
            "              precision    recall  f1-score   support\n",
            "\n",
            "      setosa       1.00      1.00      1.00        15\n",
            "  versicolor       1.00      1.00      1.00        15\n",
            "   virginica       1.00      1.00      1.00        15\n",
            "\n",
            "    accuracy                           1.00        45\n",
            "   macro avg       1.00      1.00      1.00        45\n",
            "weighted avg       1.00      1.00      1.00        45\n",
            "\n"
          ]
        }
      ]
    },
    {
      "cell_type": "markdown",
      "source": [
        "44.  Write a Python program to train an SVM Regressor (SVR) and evaluate its performance using Mean Absolute\n",
        "Error (MAE) instead of MSE."
      ],
      "metadata": {
        "id": "WKFguTcuXwp0"
      }
    },
    {
      "cell_type": "code",
      "source": [
        "from sklearn import datasets\n",
        "from sklearn.model_selection import train_test_split\n",
        "from sklearn.svm import SVR\n",
        "from sklearn.metrics import mean_absolute_error\n",
        "\n",
        "# Load dataset (Boston Housing dataset)\n",
        "# Note: sklearn removed load_boston, so we will use California housing instead\n",
        "from sklearn.datasets import fetch_california_housing\n",
        "data = fetch_california_housing()\n",
        "X, y = data.data, data.target\n",
        "\n",
        "# Train-test split\n",
        "X_train, X_test, y_train, y_test = train_test_split(\n",
        "    X, y, test_size=0.2, random_state=42\n",
        ")\n",
        "\n",
        "# Train SVM Regressor\n",
        "svr_model = SVR(kernel='rbf', C=100, gamma=0.1, epsilon=0.1)\n",
        "svr_model.fit(X_train, y_train)\n",
        "\n",
        "\n",
        "# Predictions\n",
        "y_pred = svr_model.predict(X_test)\n",
        "\n",
        "# Evaluate with Mean Absolute Error (MAE)\n",
        "mae = mean_absolute_error(y_test, y_pred)\n",
        "print(f\"Mean Absolute Error (MAE): {mae:.4f}\")\n",
        "\n",
        ""
      ],
      "metadata": {
        "colab": {
          "base_uri": "https://localhost:8080/"
        },
        "id": "nbI6u44nX3bX",
        "outputId": "11850313-ec6b-4906-c259-929921581407"
      },
      "execution_count": 24,
      "outputs": [
        {
          "output_type": "stream",
          "name": "stdout",
          "text": [
            "Mean Absolute Error (MAE): 0.8181\n"
          ]
        }
      ]
    },
    {
      "cell_type": "markdown",
      "source": [
        "45. Write a Python program to train a Naïve Bayes classifier and evaluate its performance using the ROC-AUC\n",
        "score."
      ],
      "metadata": {
        "id": "FwwxBj-JYL_F"
      }
    },
    {
      "cell_type": "code",
      "source": [
        "from sklearn.datasets import load_breast_cancer\n",
        "from sklearn.model_selection import train_test_split\n",
        "from sklearn.naive_bayes import GaussianNB\n",
        "from sklearn.metrics import roc_auc_score\n",
        "\n",
        "# Load dataset (Binary classification)\n",
        "data = load_breast_cancer()\n",
        "X, y = data.data, data.target\n",
        "\n",
        "# Train-test split\n",
        "X_train, X_test, y_train, y_test = train_test_split(\n",
        "    X, y, test_size=0.2, random_state=42\n",
        ")\n",
        "\n",
        "# Train Naïve Bayes Classifier\n",
        "nb_model = GaussianNB()\n",
        "nb_model.fit(X_train, y_train)\n",
        "\n",
        "# Predict probabilities for ROC-AUC\n",
        "y_proba = nb_model.predict_proba(X_test)[:, 1]  # Probabilities for the positive class\n",
        "\n",
        "# Calculate ROC-AUC score\n",
        "roc_auc = roc_auc_score(y_test, y_proba)\n",
        "print(f\"ROC-AUC Score: {roc_auc:.4f}\")\n"
      ],
      "metadata": {
        "colab": {
          "base_uri": "https://localhost:8080/"
        },
        "id": "3aUjvs0PYPfV",
        "outputId": "df387ae0-b42b-46bd-bad4-6f71dace3435"
      },
      "execution_count": 25,
      "outputs": [
        {
          "output_type": "stream",
          "name": "stdout",
          "text": [
            "ROC-AUC Score: 0.9984\n"
          ]
        }
      ]
    },
    {
      "cell_type": "markdown",
      "source": [
        "46. Write a Python program to train an SVM Classifier and visualize the Precision-Recall Curve."
      ],
      "metadata": {
        "id": "J4ej2BeMYYDA"
      }
    },
    {
      "cell_type": "code",
      "source": [
        "import matplotlib.pyplot as plt\n",
        "from sklearn.datasets import load_breast_cancer\n",
        "from sklearn.model_selection import train_test_split\n",
        "from sklearn.svm import SVC\n",
        "from sklearn.metrics import precision_recall_curve, average_precision_score\n",
        "\n",
        "# Load dataset (binary classification)\n",
        "data = load_breast_cancer()\n",
        "X, y = data.data, data.target\n",
        "\n",
        "# Train-test split\n",
        "X_train, X_test, y_train, y_test = train_test_split(\n",
        "    X, y, test_size=0.2, random_state=42\n",
        ")\n",
        "\n",
        "# Train SVM Classifier with probability estimates\n",
        "svm_model = SVC(kernel='linear', probability=True, random_state=42)\n",
        "svm_model.fit(X_train, y_train)\n",
        "\n",
        "# Predict probabilities for the positive class\n",
        "y_scores = svm_model.predict_proba(X_test)[:, 1]\n",
        "\n",
        "# Compute precision, recall, and thresholds\n",
        "precision, recall, thresholds = precision_recall_curve(y_test, y_scores)\n",
        "avg_precision = average_precision_score(y_test, y_scores)\n",
        "\n",
        "# Plot Precision-Recall Curve\n",
        "plt.figure(figsize=(8, 6))\n",
        "plt.plot(recall, precision, label=f'Avg Precision = {avg_precision:.4f}')\n",
        "plt.xlabel('Recall')\n",
        "plt.ylabel('Precision')\n",
        "plt.title('Precision-Recall Curve (SVM Classifier)')\n",
        "plt.legend()\n",
        "plt.grid(True)\n",
        "plt.show()\n"
      ],
      "metadata": {
        "colab": {
          "base_uri": "https://localhost:8080/",
          "height": 564
        },
        "id": "jwdixX-6YdRK",
        "outputId": "8bd151c0-6132-49c1-e573-1096b53f78df"
      },
      "execution_count": 26,
      "outputs": [
        {
          "output_type": "display_data",
          "data": {
            "text/plain": [
              "<Figure size 800x600 with 1 Axes>"
            ],
            "image/png": "[encoded data removed]"
          },
          "metadata": {}
        }
      ]
    }
  ]
}