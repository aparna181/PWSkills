{
  "nbformat": 4,
  "nbformat_minor": 0,
  "metadata": {
    "colab": {
      "provenance": []
    },
    "kernelspec": {
      "name": "python3",
      "display_name": "Python 3"
    },
    "language_info": {
      "name": "python"
    }
  },
  "cells": [
    {
      "cell_type": "markdown",
      "source": [
        "#Files & Exceptional handling"
      ],
      "metadata": {
        "id": "pJKy8qaEWh1o"
      }
    },
    {
      "cell_type": "markdown",
      "source": [
        "#Theory question"
      ],
      "metadata": {
        "id": "mflwMrzsWnOn"
      }
    },
    {
      "cell_type": "markdown",
      "source": [
        "1. What is the difference between interpreted and compiled languages?\n",
        "    - In compiled languages, the entire source code is translated into machine code by a compiler before the program is run. This results in an executable file that can be directly executed by the computer, leading to faster performance. Errors in the code are typically caught at compile-time, which means they must be fixed before the program can run. Examples of compiled languages include C, C++, and Go.\n",
        "\n",
        "     In contrast, interpreted languages do not require a separate compilation step. Instead, an interpreter reads and executes the code line-by-line at runtime. This allows for more flexibility and easier debugging since errors are encountered as the code is being run. However, this also leads to slower execution compared to compiled languages. Interpreted languages are often more portable across systems and are commonly used in scripting and web development; examples include Python, JavaScript, and Ruby."
      ],
      "metadata": {
        "id": "h2mlQwEJW1Mv"
      }
    },
    {
      "cell_type": "markdown",
      "source": [
        "2. What is exception handling in Python?\n",
        "    - Exception handling in Python is a mechanism that allows a program to gracefully respond to runtime errors or unexpected situations without crashing. It uses specific keywords like try, except, else, and finally to detect and manage exceptions (errors) that occur during program execution."
      ],
      "metadata": {
        "id": "c4GfMhnGYZbw"
      }
    },
    {
      "cell_type": "markdown",
      "source": [
        "3. What is the purpose of the finally block in exception handling?\n",
        "    - This block is optional. It always runs whether an exceptional occurred or not .It's commonaly used for cleanup activities like closing files or releasing resources."
      ],
      "metadata": {
        "id": "WuV9Cx0wY9X8"
      }
    },
    {
      "cell_type": "markdown",
      "source": [
        "4. What is logging in Python?\n",
        "   - Logging in Python is the process of recording events or messages that happen when a program runs, using Python’s built-in logging module. It is used to help developers understand the flow of a program and identify problems by capturing useful information like errors, warnings, and execution details. Unlike print() statements, logging can be controlled with levels of severity and directed to different outputs, such as the console, files, or external systems."
      ],
      "metadata": {
        "id": "0jpWRUU7b_1p"
      }
    },
    {
      "cell_type": "markdown",
      "source": [
        "5. What is the significance of the __del__ method in Python?\n",
        "   - The __del__ method in Python is known as a destructor. It is a special method that is automatically invoked when an object is about to be destroyed or deleted. Its main purpose is to release resources that the object may have acquired during its lifetime, such as closing files, network connections, or freeing up memory. It can help track object lifecycle events during debugging by logging when an object is destroyed."
      ],
      "metadata": {
        "id": "0ZBEWjwKwElV"
      }
    },
    {
      "cell_type": "markdown",
      "source": [
        "6. What is the difference between import and from ... import in Python?\n",
        "    - The import statement imports the entire module, and any function or variable from the module must be accessed using the module name as a prefix. For example, import math allows you to use math.sqrt(16). On the other hand, from ... import is used to import specific functions, classes, or variables from a module directly into the current namespace. For instance, from math import sqrt lets you use sqrt(16) without the math. prefix. While import helps avoid name conflicts and keeps the namespace clean, from ... import makes the code shorter and more readable when only a few components are needed."
      ],
      "metadata": {
        "id": "2YCcQinjzPRw"
      }
    },
    {
      "cell_type": "markdown",
      "source": [
        "7. How can you handle multiple exceptions in Python?\n",
        "   - In Python, multiple exceptions can be handled by using either multiple except blocks or a single except block that handles a tuple of exceptions. When different types of exceptions require different handling, separate except blocks can be used, each targeting a specific exception type. For example, you can catch a ValueError in one block and a ZeroDivisionError in another. Alternatively, if the same response is appropriate for several exceptions, you can combine them using a tuple in a single except block. This makes the code cleaner and reduces redundancy. Using these techniques ensures that your program can manage different errors gracefully without crashing."
      ],
      "metadata": {
        "id": "joJXGgyX0J7J"
      }
    },
    {
      "cell_type": "markdown",
      "source": [
        "8. What is the purpose of the with statement when handling files in Python/\n",
        "   - The with statement in Python is used to simplify the management of resources like file handling. Its main purpose is to ensure that a file is properly opened and automatically closed after its block of code is executed, even if an error occurs during processing. This helps prevent resource leaks and makes the code cleaner and more readable. By using with, there is no need to explicitly call the close() method, as it is handled automatically. For example, with open('file.txt', 'r') as f: ensures that the file is safely opened and closed once the reading operations are completed."
      ],
      "metadata": {
        "id": "rwLyWFlSUDiQ"
      }
    },
    {
      "cell_type": "markdown",
      "source": [
        "9. What is the difference between multithreading and multiprocessing?\n",
        "   - Multithreading and multiprocessing are two approaches used in Python to achieve concurrent execution, but they differ in how they operate. Multithreading involves running multiple threads within the same process, sharing the same memory space. It is useful for I/O-bound tasks like reading files or handling network requests, but due to the Global Interpreter Lock (GIL) in Python, threads do not run in true parallel for CPU-bound tasks. In contrast, multiprocessing runs multiple processes, each with its own memory space and Python interpreter, allowing true parallelism. This makes multiprocessing more suitable for CPU-bound tasks that require heavy computation. However, multiprocessing consumes more memory and is generally slower to start than threads. Choosing between them depends on the nature of the task and the desired performance."
      ],
      "metadata": {
        "id": "zLxVnHXGYyGd"
      }
    },
    {
      "cell_type": "markdown",
      "source": [
        "10. What are the advantages of using logging in a program?\n",
        "    -  Logging allows developers to track the flow of execution, identify bugs, and monitor the behavior of the application without interrupting its functionality.Logs can be written to files, displayed on the console, or even sent to remote servers for centralized monitoring. Unlike print statements, logging can be easily enabled or disabled and configured to show messages based on severity, making it a powerful tool for debugging, maintenance, and auditing in both development and production environments."
      ],
      "metadata": {
        "id": "uADvydJ5sRKh"
      }
    },
    {
      "cell_type": "markdown",
      "source": [
        "11. What is memory management in Python?\n",
        "    -  Memory management in Python means how Python takes care of using and freeing memory while a program runs. It automatically keeps track of which data is still being used and which is not. When something is no longer needed, Python clears it from memory to make space for new things. This helps the program run smoothly without using too much memory or crashing."
      ],
      "metadata": {
        "id": "19r9yFIJtlNc"
      }
    },
    {
      "cell_type": "markdown",
      "source": [
        "12. What are the basic steps involved in exception handling in Python?\n",
        "   - In Python, exception handling is used to manage errors that may happen while a program is running. The basic steps include using the try block to write the code that might cause an error. If an error occurs, the except block will catch and handle it without stopping the program. You can also use multiple except blocks to handle different types of errors. Optionally, a finally block can be added, which will run no matter what—whether an error occurred or not. This helps make programs more reliable and prevents crashes due to unexpected issues."
      ],
      "metadata": {
        "id": "Qbut9mzsuMBM"
      }
    },
    {
      "cell_type": "markdown",
      "source": [
        "13. Why is memory management important in Python?\n",
        "    - Memory management is important in Python because it helps the program run efficiently without using more memory than needed. When memory is not managed properly, it can slow down the program or even cause it to crash. Python handles memory automatically, freeing up space that is no longer in use. This makes sure the system stays fast and stable, especially when working with large data or long-running programs. Good memory management also helps avoid bugs like memory leaks, which can be hard to find."
      ],
      "metadata": {
        "id": "BHdgwNVQucoV"
      }
    },
    {
      "cell_type": "markdown",
      "source": [
        "14. What is the role of try and except in exception handling?\n",
        "    - The try and except blocks in Python are used to handle errors during program execution. The try block contains the code that might cause an error. If an error occurs, Python immediately stops running the code inside the try block and jumps to the except block. The except block then runs code to handle the error, such as showing a message or taking a different action. This helps prevent the program from crashing and allows it to continue running smoothly."
      ],
      "metadata": {
        "id": "oQcZ6y0buoAF"
      }
    },
    {
      "cell_type": "markdown",
      "source": [
        "15. How does Python's garbage collection system work?\n",
        "   - Python’s garbage collection system is responsible for automatically cleaning up memory by removing objects that are no longer needed. It mainly uses a method called reference counting, which means Python keeps track of how many times an object is being used. When an object’s reference count becomes zero—meaning nothing is using it anymore—Python deletes it to free up memory. In addition to this, Python also has a garbage collector that looks for groups of unused objects that reference each other and clears them as well. This system helps keep the program efficient and prevents memory waste."
      ],
      "metadata": {
        "id": "vKzp40KYuzcR"
      }
    },
    {
      "cell_type": "markdown",
      "source": [
        "16. What is the purpose of the else block in exception handling?\n",
        "  - The else block in Python exception handling is used to write code that should run only if no exceptions occur in the try block. It comes after the except block and helps separate normal code from error-handling code. If the try block runs without any error, the else block will be executed. But if an exception is raised, the else block will be skipped, and the except block will handle the error instead. This makes the code cleaner and easier to understand."
      ],
      "metadata": {
        "id": "XV3aeTZWvUKQ"
      }
    },
    {
      "cell_type": "markdown",
      "source": [
        "17. What are the common logging levels in Python?\n",
        "    - In Python, logging levels are used to show the importance or seriousness of a message. The common logging levels are:\n",
        "\n",
        "     DEBUG - used for detailed information useful during development\n",
        "\n",
        "     INFO - for general messages that confirm things are working as expected\n",
        "\n",
        "     WARNING - to show something unexpected happened or might cause a problem later\n",
        "\n",
        "     ERROR - for serious problems where the program failed to do something\n",
        "    \n",
        "     CRITICAL - for very serious errors that may cause the program to stop\n",
        "     \n",
        "     These levels help organize log messages and make it easier to understand what's going on in the program."
      ],
      "metadata": {
        "id": "7qU0Cd9uvwJJ"
      }
    },
    {
      "cell_type": "markdown",
      "source": [
        "18. What is the difference between os.fork() and multiprocessing in Python?\n",
        "    - os.fork() is a low-level function that creates a child process by duplicating the current process. It is only available on Unix-like systems (Linux, macOS) and is used to create a new process that starts executing at the point where the fork() was called. However, it doesn't handle the complexities of inter-process communication (IPC) or process management.\n",
        "    \n",
        "     Multiprocessing is a higher-level module that provides a more robust way to create and manage processes. It works on both Unix and Windows systems, handles IPC automatically, and provides tools like Pool, Queue, and Pipe to manage parallel tasks efficiently. While os.fork() is more lightweight and low-level, multiprocessing is easier to use and more feature-rich for parallel programming."
      ],
      "metadata": {
        "id": "N6lwB-ToxSOK"
      }
    },
    {
      "cell_type": "markdown",
      "source": [
        "19. What is the importance of closing a file in Python?\n",
        "    - Closing a file in Python is important because it ensures that any changes made to the file are saved properly and that system resources are released. When a file is opened, the operating system allocates resources such as memory and file handles. If the file is not closed, these resources may not be freed, potentially leading to memory leaks or reaching the limit on the number of open files. Closing a file also prevents data corruption, as any buffered data is written to the file before it's closed. Using the with statement is an efficient way to automatically close a file once it's no longer needed."
      ],
      "metadata": {
        "id": "w9qgOs7VySpy"
      }
    },
    {
      "cell_type": "markdown",
      "source": [
        "20. What is the difference between file.read() and file.readline() in Python?\n",
        "    - file.read() reads the entire content of the file as a single string. It’s useful when you need to work with the whole file at once.\n",
        "\n",
        "     file.readline() reads the file line by line, returning one line at a time as a string. This is helpful when you want to process large files or read through them incrementally without loading the entire file into memory. You can call readline() multiple times to read each line in sequence."
      ],
      "metadata": {
        "id": "lfy6zX1zytVG"
      }
    },
    {
      "cell_type": "markdown",
      "source": [
        "21. What is the logging module in Python used for?\n",
        "  - The logging module in Python is used to record events, errors, and other important information during the execution of a program. It provides a flexible framework for tracking and displaying messages at different severity levels (such as DEBUG, INFO, WARNING, ERROR, and CRITICAL). Instead of using print() statements, which can clutter the code, the logging module helps keep track of application behavior, making it easier to debug and maintain code. It also allows logs to be saved to files, displayed on the console, or even sent to remote servers for monitoring, helping developers understand what is happening in their applications."
      ],
      "metadata": {
        "id": "ZFgNJnjPzNuP"
      }
    },
    {
      "cell_type": "markdown",
      "source": [
        "22. What is the os module in Python used for in file handling?\n",
        "    - The os module in Python is used for interacting with the operating system, and it provides several functions to handle files and directories. In file handling, the os module allows you to perform tasks like creating, removing, and renaming files or directories. It also lets you check if a file or directory exists, get file properties, and change the current working directory. Key functions include os.remove() for deleting files, os.rename() for renaming files, os.mkdir() for creating directories, and os.path for working with file paths."
      ],
      "metadata": {
        "id": "4ujwF7Whzqbi"
      }
    },
    {
      "cell_type": "markdown",
      "source": [
        "23. What are the challenges associated with memory management in Python?\n",
        "    - Memory management in Python can present several challenges. One of the main challenges is garbage collection, where Python automatically frees memory used by objects that are no longer referenced. However, in some cases, it can be inefficient, leading to memory leaks when circular references prevent the garbage collector from reclaiming memory. Another issue is memory fragmentation, where the allocation and deallocation of memory blocks can lead to inefficient use of available memory. Additionally, large data structures can cause high memory usage, and managing memory across large-scale applications may require more manual optimization to prevent performance issues.\n",
        "\n"
      ],
      "metadata": {
        "id": "wryTvZwNz6Y9"
      }
    },
    {
      "cell_type": "markdown",
      "source": [
        "24. How do you raise an exception manually in Python?\n",
        "  - In Python, you can raise an exception manually using the raise keyword followed by the exception type. For example, to raise a ValueError, you can write raise ValueError(\"Invalid input\"). This interrupts the normal flow of the program and triggers the handling of the exception, either with a try/except block or causing the program to stop if unhandled.\n",
        "  "
      ],
      "metadata": {
        "id": "nUg5dFDBz6_x"
      }
    },
    {
      "cell_type": "code",
      "execution_count": null,
      "metadata": {
        "id": "JbTns5MKWZi1",
        "colab": {
          "base_uri": "https://localhost:8080/"
        },
        "outputId": "4d5a7a9d-315e-40d2-ab09-2394a8c592ee"
      },
      "outputs": [
        {
          "output_type": "stream",
          "name": "stdout",
          "text": [
            "Error: Age must be 18 or older\n"
          ]
        }
      ],
      "source": [
        "def check_age(age):\n",
        "    if age < 18:\n",
        "        raise ValueError(\"Age must be 18 or older\")\n",
        "    else:\n",
        "        print(\"Age is valid\")\n",
        "\n",
        "try:\n",
        "    check_age(16)\n",
        "except ValueError as e:\n",
        "    print(f\"Error: {e}\")\n"
      ]
    },
    {
      "cell_type": "markdown",
      "source": [
        "In this example, if the age is less than 18, a ValueError is raised with a custom message. The exception is caught in the try/except block, and the error message is printed."
      ],
      "metadata": {
        "id": "IHh01ScH0gHA"
      }
    },
    {
      "cell_type": "markdown",
      "source": [
        "25. Why is it important to use multithreading in certain applications?\n",
        "    - Multithreading is important in certain applications because it allows multiple tasks to run simultaneously, improving performance and responsiveness. In applications that involve I/O operations (like reading files, network requests, or user input), multithreading can keep the program responsive while waiting for these tasks to complete. It is especially useful for tasks that can be performed in parallel, such as handling multiple client requests in a server or processing large amounts of data. By using multiple threads, an application can make better use of system resources, like CPU cores, leading to faster execution and better overall efficiency."
      ],
      "metadata": {
        "id": "yHaePl6_0kFX"
      }
    },
    {
      "cell_type": "markdown",
      "source": [
        "#Practical Questions"
      ],
      "metadata": {
        "id": "aqNdC9kt04FH"
      }
    },
    {
      "cell_type": "markdown",
      "source": [
        "1. How can you open a file for writing in Python and write a string to it?"
      ],
      "metadata": {
        "id": "MFdw7SDP1A5o"
      }
    },
    {
      "cell_type": "code",
      "source": [
        "# Open the file in write mode ('w')\n",
        "with open('example.txt', 'w') as file:\n",
        "    file.write(\"Hello, this is a string written to the file.\")\n",
        "\n",
        "print(\"String written to file successfully.\")\n"
      ],
      "metadata": {
        "colab": {
          "base_uri": "https://localhost:8080/"
        },
        "id": "8N42alp_1HOi",
        "outputId": "7f4685f7-e6f2-4c8e-db18-80929c5d0e26"
      },
      "execution_count": null,
      "outputs": [
        {
          "output_type": "stream",
          "name": "stdout",
          "text": [
            "String written to file successfully.\n"
          ]
        }
      ]
    },
    {
      "cell_type": "markdown",
      "source": [
        "2.  Write a Python program to read the contents of a file and print each line."
      ],
      "metadata": {
        "id": "MnG2r1qJ11jt"
      }
    },
    {
      "cell_type": "code",
      "source": [
        "with open('example.txt', 'r') as file:\n",
        "\n",
        "    lines = file.readlines()\n",
        "\n",
        "    for line in lines:\n",
        "        print(line.strip())\n"
      ],
      "metadata": {
        "colab": {
          "base_uri": "https://localhost:8080/"
        },
        "id": "4bl3i9kJ10Q7",
        "outputId": "6e2afacd-b7fb-46db-9f44-cff8ca56f70c"
      },
      "execution_count": null,
      "outputs": [
        {
          "output_type": "stream",
          "name": "stdout",
          "text": [
            "Hello, this is a string written to the file.\n"
          ]
        }
      ]
    },
    {
      "cell_type": "markdown",
      "source": [
        "3. How would you handle a case where the file doesn't exist while trying to open it for reading?"
      ],
      "metadata": {
        "id": "NCZgRu422F0N"
      }
    },
    {
      "cell_type": "code",
      "source": [
        "import os\n",
        "\n",
        "if os.path.exists('example.txt'):\n",
        "    with open('example.txt', 'r') as file:\n",
        "        for line in file:\n",
        "            print(line.strip())\n",
        "else:\n",
        "    print(\"Error: The file 'example.txt' does not exist.\")\n"
      ],
      "metadata": {
        "colab": {
          "base_uri": "https://localhost:8080/"
        },
        "id": "mype8Vex2pdq",
        "outputId": "e02a6e7c-bc3d-4f80-b912-a5181cf53f6f"
      },
      "execution_count": null,
      "outputs": [
        {
          "output_type": "stream",
          "name": "stdout",
          "text": [
            "Hello, this is a string written to the file.\n"
          ]
        }
      ]
    },
    {
      "cell_type": "markdown",
      "source": [
        "4. Write a Python script that reads from one file and writes its content to another file."
      ],
      "metadata": {
        "id": "i4HX5mVV3jzh"
      }
    },
    {
      "cell_type": "code",
      "source": [
        "import shutil\n",
        "\n",
        "with open('source.txt', 'w') as source_file:\n",
        "    source_file.write(\"This is a test content in source.txt.\")\n",
        "\n",
        "print(\"source.txt created with content.\")\n",
        "\n",
        "\n",
        "shutil.copy('source.txt', 'destination.txt')\n",
        "\n",
        "print(\"Content has been copied from source.txt to destination.txt using shutil.\")\n"
      ],
      "metadata": {
        "colab": {
          "base_uri": "https://localhost:8080/"
        },
        "id": "97Q9S6FZ3jT-",
        "outputId": "81b60d56-7e54-49d1-a6da-1968a70429b7"
      },
      "execution_count": null,
      "outputs": [
        {
          "output_type": "stream",
          "name": "stdout",
          "text": [
            "source.txt created with content.\n",
            "Content has been copied from source.txt to destination.txt using shutil.\n"
          ]
        }
      ]
    },
    {
      "cell_type": "markdown",
      "source": [
        "5. How would you catch and handle division by zero error in Python?"
      ],
      "metadata": {
        "id": "M4fhd22q21IK"
      }
    },
    {
      "cell_type": "code",
      "source": [
        "def divide_numbers(a, b):\n",
        "    try:\n",
        "        result = a / b\n",
        "    except ZeroDivisionError:\n",
        "        print(\"Error: Cannot divide by zero.\")\n",
        "        return None\n",
        "    else:\n",
        "        return result\n",
        "\n",
        "num1 = 10\n",
        "num2 = 0\n",
        "\n",
        "result = divide_numbers(num1, num2)\n",
        "if result is not None:\n",
        "    print(f\"Result: {result}\")\n",
        "else:\n",
        "    print(\"Division failed.\")\n"
      ],
      "metadata": {
        "id": "345DDBc83DM2"
      },
      "execution_count": null,
      "outputs": []
    },
    {
      "cell_type": "markdown",
      "source": [
        "6. Write a Python program that logs an error message to a log file when a division by zero exception occurs."
      ],
      "metadata": {
        "id": "vrhXBRqP3TnN"
      }
    },
    {
      "cell_type": "code",
      "source": [
        "import logging\n",
        "\n",
        "logging.basicConfig(filename='source.txt',\n",
        "                    level=logging.ERROR,\n",
        "                    format='%(asctime)s - %(levelname)s - %(message)s')\n",
        "\n",
        "def divide(a, b):\n",
        "    try:\n",
        "        result = a / b\n",
        "        print(f\"Result: {result}\")\n",
        "    except ZeroDivisionError as e:\n",
        "        logging.error(\"Division by zero attempted. a=%s, b=%s\", a, b)\n",
        "        print(\"Error: Cannot divide by zero.\")\n",
        "\n",
        "num1 = 10\n",
        "num2 = 0\n",
        "divide(num1, num2)\n"
      ],
      "metadata": {
        "colab": {
          "base_uri": "https://localhost:8080/"
        },
        "id": "nQf_zmuw3TBs",
        "outputId": "2046f293-96a1-4f4e-9584-b480289a4461"
      },
      "execution_count": null,
      "outputs": [
        {
          "output_type": "stream",
          "name": "stderr",
          "text": [
            "ERROR:root:Division by zero attempted. a=10, b=0\n"
          ]
        },
        {
          "output_type": "stream",
          "name": "stdout",
          "text": [
            "Error: Cannot divide by zero.\n"
          ]
        }
      ]
    },
    {
      "cell_type": "markdown",
      "source": [
        "7.  How do you log information at different levels (INFO, ERROR, WARNING) in Python using the logging module?"
      ],
      "metadata": {
        "id": "hlURVo0B5xYg"
      }
    },
    {
      "cell_type": "code",
      "source": [
        "import logging\n",
        "\n",
        "logging.basicConfig(filename='app_log.txt',\n",
        "                    level=logging.DEBUG,\n",
        "                    filemode='w',\n",
        "                    format='%(asctime)s - %(levelname)s - %(message)s')\n",
        "\n",
        "\n",
        "logging.debug(\"This is a DEBUG message.\")\n",
        "logging.info(\"This is an INFO message.\")\n",
        "logging.warning(\"This is a WARNING message.\")\n",
        "logging.error(\"This is an ERROR message.\")\n",
        "logging.critical(\"This is a CRITICAL message.\")\n"
      ],
      "metadata": {
        "colab": {
          "base_uri": "https://localhost:8080/"
        },
        "id": "-ycajWGW6TWb",
        "outputId": "e4eec367-b5b3-424e-bcc0-a23a3344a050"
      },
      "execution_count": 9,
      "outputs": [
        {
          "output_type": "stream",
          "name": "stderr",
          "text": [
            "WARNING:root:This is a WARNING message.\n",
            "ERROR:root:This is an ERROR message.\n",
            "CRITICAL:root:This is a CRITICAL message.\n"
          ]
        }
      ]
    },
    {
      "cell_type": "markdown",
      "source": [
        "8. Write a program to handle a file opening error using exception handling."
      ],
      "metadata": {
        "id": "JQ9rKsK-7k2F"
      }
    },
    {
      "cell_type": "code",
      "source": [
        "try:\n",
        "    file = open('myfile.txt', 'r')\n",
        "    content = file.read()\n",
        "    print(\"File content:\\n\", content)\n",
        "    file.close()\n",
        "except FileNotFoundError:\n",
        "    print(\"Error: The file 'myfile.txt' was not found.\")\n",
        "except IOError:\n",
        "    print(\"Error: An I/O error occurred while trying to read the file.\")\n"
      ],
      "metadata": {
        "colab": {
          "base_uri": "https://localhost:8080/"
        },
        "id": "6440v0rk7q2r",
        "outputId": "44562e91-74b6-41cd-e4b2-d2fe4443d433"
      },
      "execution_count": 10,
      "outputs": [
        {
          "output_type": "stream",
          "name": "stdout",
          "text": [
            "Error: The file 'myfile.txt' was not found.\n"
          ]
        }
      ]
    },
    {
      "cell_type": "markdown",
      "source": [
        "9. How can you read a file line by line and store its content in a list in Python?"
      ],
      "metadata": {
        "id": "LB4HcCXa8nAY"
      }
    },
    {
      "cell_type": "code",
      "source": [
        "try:\n",
        "    with open('example.txt', 'r') as file:\n",
        "        lines = file.readlines()\n",
        "        print(\"Lines in file as list:\")\n",
        "        print(lines)\n",
        "except FileNotFoundError:\n",
        "    print(\"The file was not found.\")\n"
      ],
      "metadata": {
        "colab": {
          "base_uri": "https://localhost:8080/"
        },
        "id": "mCSn6N5z8r_4",
        "outputId": "ea9ff33c-4f59-40c3-9b65-49443e45b905"
      },
      "execution_count": 11,
      "outputs": [
        {
          "output_type": "stream",
          "name": "stdout",
          "text": [
            "Lines in file as list:\n",
            "['Hello, this is a string written to the file.']\n"
          ]
        }
      ]
    },
    {
      "cell_type": "markdown",
      "source": [
        "10. How can you append data to an existing file in Python?"
      ],
      "metadata": {
        "id": "lwAyhMIf9JvS"
      }
    },
    {
      "cell_type": "code",
      "source": [
        "try:\n",
        "\n",
        "    with open('example.txt', 'a') as file:\n",
        "        file.write(\"This is a new line added to the file.\\n\")\n",
        "\n",
        "\n",
        "    with open('example.txt', 'r') as file:\n",
        "        print(\"Updated file content:\")\n",
        "        for line in file:\n",
        "            print(line.strip())\n",
        "except IOError:\n",
        "    print(\"An error occurred while accessing the file.\")\n",
        "\n"
      ],
      "metadata": {
        "colab": {
          "base_uri": "https://localhost:8080/"
        },
        "id": "pD1fBw0r9V15",
        "outputId": "f6af3aab-6142-4a0e-fd8b-62133835cfcd"
      },
      "execution_count": 13,
      "outputs": [
        {
          "output_type": "stream",
          "name": "stdout",
          "text": [
            "Updated file content:\n",
            "Hello, this is a string written to the file.This is a new line added to the file.\n",
            "This is a new line added to the file.\n"
          ]
        }
      ]
    },
    {
      "cell_type": "markdown",
      "source": [
        "11. Write a Python program that uses a try-except block to handle an error when attempting to access a\n",
        "dictionary key that doesn't exist.\n"
      ],
      "metadata": {
        "id": "tuCkFJZ39vOz"
      }
    },
    {
      "cell_type": "code",
      "source": [
        "student = {\n",
        "    'name': 'Aparna',\n",
        "    'age': 22\n",
        "}\n",
        "\n",
        "try:\n",
        "\n",
        "    grade = student['grade']\n",
        "    print(\"Grade:\", grade)\n",
        "except KeyError:\n",
        "    print(\"Error: The key 'grade' does not exist in the dictionary.\")\n"
      ],
      "metadata": {
        "colab": {
          "base_uri": "https://localhost:8080/"
        },
        "id": "uCGHEvgM9x5l",
        "outputId": "41934493-42fd-4b85-cbed-f6df56e9c1da"
      },
      "execution_count": 14,
      "outputs": [
        {
          "output_type": "stream",
          "name": "stdout",
          "text": [
            "Error: The key 'grade' does not exist in the dictionary.\n"
          ]
        }
      ]
    },
    {
      "cell_type": "markdown",
      "source": [
        "12. Write a program that demonstrates using multiple except blocks to handle different types of exceptions."
      ],
      "metadata": {
        "id": "2O7r05Lb96KT"
      }
    },
    {
      "cell_type": "code",
      "source": [
        "try:\n",
        "    num1 = int(input(\"Enter a number: \"))\n",
        "    num2 = int(input(\"Enter another number: \"))\n",
        "    result = num1 / num2\n",
        "    print(\"Result:\", result)\n",
        "\n",
        "except ZeroDivisionError:\n",
        "    print(\"Error: Cannot divide by zero.\")\n",
        "\n",
        "except ValueError:\n",
        "    print(\"Error: Please enter only numbers.\")\n",
        "\n",
        "except Exception as e:\n",
        "    print(\"An unexpected error occurred:\", e)\n",
        "\n"
      ],
      "metadata": {
        "colab": {
          "base_uri": "https://localhost:8080/"
        },
        "id": "jdR83FDB-ASt",
        "outputId": "265e787f-a5e5-49a3-b9f8-5665f36d2adf"
      },
      "execution_count": 16,
      "outputs": [
        {
          "output_type": "stream",
          "name": "stdout",
          "text": [
            "Enter a number: 34\n",
            "Enter another number: 76\n",
            "Result: 0.4473684210526316\n"
          ]
        }
      ]
    },
    {
      "cell_type": "markdown",
      "source": [
        "13. How would you check if a file exists before attempting to read it in Python?"
      ],
      "metadata": {
        "id": "xP1Bd3Bb-Od3"
      }
    },
    {
      "cell_type": "code",
      "source": [
        "import os\n",
        "\n",
        "file_path = 'example.txt'\n",
        "\n",
        "if os.path.exists(file_path):\n",
        "    try:\n",
        "        with open(file_path, 'r') as file:\n",
        "            content = file.read()\n",
        "            print(content)\n",
        "    except IOError:\n",
        "        print(\"Error reading the file.\")\n",
        "else:\n",
        "    print(f\"The file '{file_path}' does not exist.\")\n"
      ],
      "metadata": {
        "colab": {
          "base_uri": "https://localhost:8080/"
        },
        "id": "zHQpXecU-VTk",
        "outputId": "c29aebbe-6c95-4efe-fefd-80c014009f6f"
      },
      "execution_count": 17,
      "outputs": [
        {
          "output_type": "stream",
          "name": "stdout",
          "text": [
            "Hello, this is a string written to the file.This is a new line added to the file.\n",
            "This is a new line added to the file.\n",
            "\n"
          ]
        }
      ]
    },
    {
      "cell_type": "markdown",
      "source": [
        "14. Write a program that uses the logging module to log both informational and error messages."
      ],
      "metadata": {
        "id": "M78Vy_eX-dlL"
      }
    },
    {
      "cell_type": "code",
      "source": [
        "import logging\n",
        "import os\n",
        "\n",
        "\n",
        "log_file = 'app_log.txt'\n",
        "if not os.path.exists(log_file):\n",
        "    with open(log_file, 'w'):\n",
        "        pass\n",
        "\n",
        "logging.basicConfig(filename=log_file,\n",
        "                    level=logging.DEBUG,\n",
        "                    format='%(asctime)s - %(levelname)s - %(message)s')\n",
        "\n",
        "try:\n",
        "\n",
        "    logging.info(\"Program started successfully.\")\n",
        "\n",
        "    num1 = 10\n",
        "    num2 = 0\n",
        "    result = num1 / num2\n",
        "    logging.info(f\"Result: {result}\")\n",
        "\n",
        "except ZeroDivisionError as e:\n",
        "    logging.error(f\"Error: Division by zero occurred. Details: {e}\")\n",
        "\n",
        "\n",
        "logging.info(\"Program execution completed.\")\n"
      ],
      "metadata": {
        "colab": {
          "base_uri": "https://localhost:8080/"
        },
        "id": "C1ha8smn-h7z",
        "outputId": "ff018132-e91e-4af9-b12e-3b7af43746f9"
      },
      "execution_count": 18,
      "outputs": [
        {
          "output_type": "stream",
          "name": "stderr",
          "text": [
            "ERROR:root:Error: Division by zero occurred. Details: division by zero\n"
          ]
        }
      ]
    },
    {
      "cell_type": "markdown",
      "source": [
        "15. Write a Python program that prints the content of a file and handles the case when the file is empty."
      ],
      "metadata": {
        "id": "q8myiOu2_Srq"
      }
    },
    {
      "cell_type": "code",
      "source": [
        "try:\n",
        "\n",
        "    with open('example.txt', 'r') as file:\n",
        "        content = file.read()\n",
        "\n",
        "        if not content:\n",
        "            print(\"The file is empty.\")\n",
        "        else:\n",
        "            print(\"File content:\")\n",
        "            print(content)\n",
        "\n",
        "except FileNotFoundError:\n",
        "    print(\"Error: The file does not exist.\")\n",
        "except IOError:\n",
        "    print(\"Error: An error occurred while reading the file.\")\n"
      ],
      "metadata": {
        "colab": {
          "base_uri": "https://localhost:8080/"
        },
        "id": "6-gvop0h_ZT8",
        "outputId": "7fcf87af-2c20-4f9f-b989-1a9fc83bddf8"
      },
      "execution_count": 19,
      "outputs": [
        {
          "output_type": "stream",
          "name": "stdout",
          "text": [
            "File content:\n",
            "Hello, this is a string written to the file.This is a new line added to the file.\n",
            "This is a new line added to the file.\n",
            "\n"
          ]
        }
      ]
    },
    {
      "cell_type": "markdown",
      "source": [
        "16. Demonstrate how to use memory profiling to check the memory usage of a small program."
      ],
      "metadata": {
        "id": "RDa0V3Uw_u_Z"
      }
    },
    {
      "cell_type": "code",
      "source": [],
      "metadata": {
        "id": "rxX-Opza_xoH"
      },
      "execution_count": null,
      "outputs": []
    },
    {
      "cell_type": "markdown",
      "source": [
        "17. Write a Python program to create and write a list of numbers to a file, one number per line."
      ],
      "metadata": {
        "id": "vbsFCI44_-qz"
      }
    },
    {
      "cell_type": "code",
      "source": [
        "numbers = [1, 2, 3, 4, 5, 6, 7, 8, 9, 10]\n",
        "with open('numbers.txt', 'w') as file:\n",
        "\n",
        "    for number in numbers:\n",
        "        file.write(f\"{number}\\n\")\n",
        "\n",
        "print(\"Numbers have been written to the file successfully.\")\n"
      ],
      "metadata": {
        "colab": {
          "base_uri": "https://localhost:8080/"
        },
        "id": "s8SBrhBfACG6",
        "outputId": "8e5e1862-24a4-40e9-f277-cf5a907fa282"
      },
      "execution_count": 20,
      "outputs": [
        {
          "output_type": "stream",
          "name": "stdout",
          "text": [
            "Numbers have been written to the file successfully.\n"
          ]
        }
      ]
    },
    {
      "cell_type": "markdown",
      "source": [
        "18. How would you implement a basic logging setup that logs to a file with rotation after 1MB?"
      ],
      "metadata": {
        "id": "jQbouKOeAQjB"
      }
    },
    {
      "cell_type": "code",
      "source": [
        "import logging\n",
        "from logging.handlers import RotatingFileHandler\n",
        "\n",
        "# Configure the logging settings\n",
        "log_file = 'app.log'  # Log file name\n",
        "\n",
        "# Create a RotatingFileHandler that rotates after the file size reaches 1MB\n",
        "handler = RotatingFileHandler(log_file, maxBytes=1e6, backupCount=3)  # maxBytes=1e6 means 1MB, backupCount keeps 3 old log files\n",
        "\n",
        "# Set the log level and format\n",
        "formatter = logging.Formatter('%(asctime)s - %(levelname)s - %(message)s')\n",
        "handler.setFormatter(formatter)\n",
        "\n",
        "# Create a logger and add the handler\n",
        "logger = logging.getLogger('my_logger')\n",
        "logger.setLevel(logging.DEBUG)  # Set the log level to DEBUG to capture all messages\n",
        "logger.addHandler(handler)\n",
        "\n",
        "# Logging some test messages\n",
        "logger.debug(\"This is a DEBUG message.\")\n",
        "logger.info(\"This is an INFO message.\")\n",
        "logger.warning(\"This is a WARNING message.\")\n",
        "logger.error(\"This is an ERROR message.\")\n",
        "logger.critical(\"This is a CRITICAL message.\")\n"
      ],
      "metadata": {
        "colab": {
          "base_uri": "https://localhost:8080/"
        },
        "id": "q5xxXvimDw3W",
        "outputId": "72ae20b2-3a2a-47ab-b60b-c9b7bcf2d8f4"
      },
      "execution_count": 26,
      "outputs": [
        {
          "output_type": "stream",
          "name": "stderr",
          "text": [
            "DEBUG:my_logger:This is a DEBUG message.\n",
            "INFO:my_logger:This is an INFO message.\n",
            "WARNING:my_logger:This is a WARNING message.\n",
            "ERROR:my_logger:This is an ERROR message.\n",
            "CRITICAL:my_logger:This is a CRITICAL message.\n"
          ]
        }
      ]
    },
    {
      "cell_type": "markdown",
      "source": [
        "19. Write a program that handles both IndexError and KeyError using a try-except block."
      ],
      "metadata": {
        "id": "JBhW-cquAigE"
      }
    },
    {
      "cell_type": "code",
      "source": [
        "def handle_errors():\n",
        "    my_list = [1, 2, 3]\n",
        "    my_dict = {'a': 1, 'b': 2, 'c': 3}\n",
        "\n",
        "    try:\n",
        "\n",
        "        index_value = my_list[5]\n",
        "        print(f\"List value: {index_value}\")\n",
        "\n",
        "        key_value = my_dict['d']\n",
        "        print(f\"Dictionary value: {key_value}\")\n",
        "\n",
        "    except IndexError as ie:\n",
        "        print(f\"IndexError occurred: {ie}\")\n",
        "\n",
        "    except KeyError as ke:\n",
        "        print(f\"KeyError occurred: {ke}\")\n",
        "\n",
        "handle_errors()\n"
      ],
      "metadata": {
        "colab": {
          "base_uri": "https://localhost:8080/"
        },
        "id": "5D4JIf1rAI3J",
        "outputId": "f92d559a-6c31-4992-a6ab-4b1e694f7afe"
      },
      "execution_count": 21,
      "outputs": [
        {
          "output_type": "stream",
          "name": "stdout",
          "text": [
            "IndexError occurred: list index out of range\n"
          ]
        }
      ]
    },
    {
      "cell_type": "markdown",
      "source": [
        "20. How would you open a file and read its contents using a context manager in Python?"
      ],
      "metadata": {
        "id": "1NzBIl2AA89k"
      }
    },
    {
      "cell_type": "code",
      "source": [
        "\"\"\"open a file and read its contents using a context manager with the with\n",
        "statement. This ensures that the file is properly closed after its contents\n",
        "have been read, even if an exception occurs\"\"\"\n",
        "with open('example.txt', 'r') as file:\n",
        "    content = file.read()\n",
        "    print(content)\n"
      ],
      "metadata": {
        "colab": {
          "base_uri": "https://localhost:8080/"
        },
        "id": "On8_BAeuBDUC",
        "outputId": "372e937c-aa27-4741-df73-9d0a5af6637c"
      },
      "execution_count": 22,
      "outputs": [
        {
          "output_type": "stream",
          "name": "stdout",
          "text": [
            "Hello, this is a string written to the file.This is a new line added to the file.\n",
            "This is a new line added to the file.\n",
            "\n"
          ]
        }
      ]
    },
    {
      "cell_type": "markdown",
      "source": [
        "21. Write a Python program that reads a file and prints the number of occurrences of a specific word."
      ],
      "metadata": {
        "id": "K19n-DT8BhoI"
      }
    },
    {
      "cell_type": "code",
      "source": [
        "def count_word_occurrences(filename, word_to_count):\n",
        "    try:\n",
        "        with open(filename, 'r') as file:\n",
        "           content = file.read()\n",
        "\n",
        "        word_count = content.lower().split().count(word_to_count.lower())\n",
        "\n",
        "        return word_count\n",
        "\n",
        "    except FileNotFoundError:\n",
        "        return f\"The file '{filename}' was not found.\"\n",
        "    except Exception as e:\n",
        "        return f\"An error occurred: {e}\"\n",
        "\n",
        "filename = 'example.txt'\n",
        "word_to_count = 'python'\n",
        "\n",
        "word_count = count_word_occurrences(filename, word_to_count)\n",
        "print(f\"The word '{word_to_count}' appears {word_count} times in the file.\")\n"
      ],
      "metadata": {
        "colab": {
          "base_uri": "https://localhost:8080/"
        },
        "id": "PM_dvih1A8HJ",
        "outputId": "5f2eb224-c993-4385-ab88-6c9b2ddcb05e"
      },
      "execution_count": 23,
      "outputs": [
        {
          "output_type": "stream",
          "name": "stdout",
          "text": [
            "The word 'python' appears 0 times in the file.\n"
          ]
        }
      ]
    },
    {
      "cell_type": "markdown",
      "source": [
        "22. How can you check if a file is empty before attempting to read its contents?"
      ],
      "metadata": {
        "id": "YYCwDu3BB7g7"
      }
    },
    {
      "cell_type": "code",
      "source": [
        "import os\n",
        "\n",
        "def read_file_if_not_empty(filename):\n",
        "\n",
        "    if os.path.exists(filename) and os.path.getsize(filename) > 0:\n",
        "        try:\n",
        "            with open(filename, 'r') as file:\n",
        "                content = file.read()\n",
        "                print(\"File Content:\")\n",
        "                print(content)\n",
        "        except Exception as e:\n",
        "            print(f\"An error occurred while reading the file: {e}\")\n",
        "    else:\n",
        "        print(f\"The file '{filename}' is empty or does not exist.\")\n",
        "\n",
        "filename = 'example.txt'\n",
        "\n",
        "read_file_if_not_empty(filename)\n"
      ],
      "metadata": {
        "colab": {
          "base_uri": "https://localhost:8080/"
        },
        "id": "Cnpy11ntCZE2",
        "outputId": "1ee46dec-0d5d-40e8-c85b-183852cc69d0"
      },
      "execution_count": 24,
      "outputs": [
        {
          "output_type": "stream",
          "name": "stdout",
          "text": [
            "File Content:\n",
            "Hello, this is a string written to the file.This is a new line added to the file.\n",
            "This is a new line added to the file.\n",
            "\n"
          ]
        }
      ]
    },
    {
      "cell_type": "markdown",
      "source": [
        "23. Write a Python program that writes to a log file when an error occurs during file handling."
      ],
      "metadata": {
        "id": "tIQ66Tw7CQE5"
      }
    },
    {
      "cell_type": "code",
      "source": [
        "import logging\n",
        "\n",
        "logging.basicConfig(filename='error_log.txt',\n",
        "                    level=logging.ERROR,\n",
        "                    format='%(asctime)s - %(levelname)s - %(message)s')\n",
        "\n",
        "def read_file(filename):\n",
        "    try:\n",
        "\n",
        "        with open(filename, 'r') as file:\n",
        "            content = file.read()\n",
        "            print(content)\n",
        "    except Exception as e:\n",
        "\n",
        "        logging.error(f\"Error occurred while handling the file '{filename}': {e}\")\n",
        "        print(f\"An error occurred. Check 'error_log.txt' for details.\")\n",
        "\n",
        "\n",
        "filename = 'non_existent_file.txt'\n",
        "\n",
        "\n",
        "read_file(filename)\n"
      ],
      "metadata": {
        "colab": {
          "base_uri": "https://localhost:8080/"
        },
        "id": "H37q9CAWCab0",
        "outputId": "e4a19392-b0e9-458e-c80a-087f7e461945"
      },
      "execution_count": 25,
      "outputs": [
        {
          "output_type": "stream",
          "name": "stderr",
          "text": [
            "ERROR:root:Error occurred while handling the file 'non_existent_file.txt': [Errno 2] No such file or directory: 'non_existent_file.txt'\n"
          ]
        },
        {
          "output_type": "stream",
          "name": "stdout",
          "text": [
            "An error occurred. Check 'error_log.txt' for details.\n"
          ]
        }
      ]
    }
  ]
}