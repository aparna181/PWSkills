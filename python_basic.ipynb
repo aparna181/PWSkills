{
  "nbformat": 4,
  "nbformat_minor": 0,
  "metadata": {
    "colab": {
      "provenance": []
    },
    "kernelspec": {
      "name": "python3",
      "display_name": "Python 3"
    },
    "language_info": {
      "name": "python"
    }
  },
  "cells": [
    {
      "cell_type": "markdown",
      "source": [
        "#Python Basics Questions"
      ],
      "metadata": {
        "id": "1DLX2O2Dru0M"
      }
    },
    {
      "cell_type": "markdown",
      "source": [
        "1. What is Python, and why is it popular ?\n",
        "   - python is a high-level, interpreted programming language known for its simplicity and versatility. It emphasizes code readability with a clean syntax that resembles natural language, making it easier to learn and write compared to many other languages.\n",
        "Python is popular because:\n",
        "It has simple, easy to learn and write. It supports multiple fields like web development, data science, and AI. It offers a large number of powerful libraries and frameworks.It has strong community support and resources. It enables rapid development and prototyping. It is platform-independent and integrates well with other technologies.\n",
        "       "
      ],
      "metadata": {
        "id": "0d3zPkfFr0c0"
      }
    },
    {
      "cell_type": "markdown",
      "source": [
        "2. What is an interpreter in Python ?\n",
        "    -  An interpreter in Python is a program that reads and executes Python code line by line. It takes your Python source code, converts it into intermediate bytecode, and then executes it using the Python virtual machine (PVM)."
      ],
      "metadata": {
        "id": "2k2PkTFfvtuU"
      }
    },
    {
      "cell_type": "markdown",
      "source": [
        "3. What are pre-defined keywords in Python ?\n",
        "    -  Pre-defined keywords in Python are reserved words that have special meanings and specific purposes in the Python programming language. You cannot use them as variable names, function names, or identifiers because they are part of the syntax and structure of the language. These keywords are False, True, None, and, or, not, if, elif, else, while, for, break, continue, pass, def, return, class, try, except, finally, with, as, import, from, global, nonlocal, lambda, is, in, del\n",
        "  "
      ],
      "metadata": {
        "id": "GcJMcX1CvXeS"
      }
    },
    {
      "cell_type": "markdown",
      "source": [
        "4. Can keywords be used as variable names ?\n",
        "    - No, keywords cannot be used as variable names in Python. Because keywords have predefined meanings in Python's syntax using them as variable names would confuse the interpreter and lead to errors."
      ],
      "metadata": {
        "id": "ZhI5DN_8dxMh"
      }
    },
    {
      "cell_type": "markdown",
      "source": [
        "5. What is mutability in Python ?\n",
        "    - Mutability in Python refers to the ability of an object to be changed after it is created. If an object is mutable, like lists or dictionaries, we can modify its content without changing its identity."
      ],
      "metadata": {
        "id": "RtL-mvyHelxy"
      }
    },
    {
      "cell_type": "markdown",
      "source": [
        "6. Why are lists mutable, but tuples are immutable ?\n",
        "   - Lists are mutable in Python because they are designed to allow modifications like adding, removing, or changing elements after the list is created. Tuples are immutable to provide a fixed and unchangeable data structure, which can improve performance and make the code more reliable, especially when the data should not be modified."
      ],
      "metadata": {
        "id": "FMk4gFd6e1zD"
      }
    },
    {
      "cell_type": "markdown",
      "source": [
        "7.  What is the difference between “==” and “is” operators in Python ?\n",
        "     - In Python the ' == ' operator is used to compare values of two objects, meaning it checks whether the contents are the same. On the other hand, the ' is 'operator checks whether two variables refer to the same object in memory."
      ],
      "metadata": {
        "id": "-5c1hx1IfT62"
      }
    },
    {
      "cell_type": "markdown",
      "source": [
        "8. What are logical operators in Python ?\n",
        "   - There are three main logical operators: and, or, and not. The 'and' operator returns True only if both conditions are true, 'or' returns True if at least one condition is true, and 'not' is used to reverse the logical state of its operand."
      ],
      "metadata": {
        "id": "CaNldcfRgkie"
      }
    },
    {
      "cell_type": "markdown",
      "source": [
        "9. What is type casting in Python ?\n",
        "   - Type casting in Python refers to the process of converting a value from one data type to another. This is useful when you need to perform operations that require specific data types."
      ],
      "metadata": {
        "id": "QEQEcPhBiM63"
      }
    },
    {
      "cell_type": "markdown",
      "source": [
        "10. What is the difference between implicit and explicit type casting ?\n",
        "     - Implicit type casting happens automatically when Python converts one data type to another without the programmer's intervention. e.g. 5 + 2.0 results in 7.0 because the integer 5 is automatically converted to a float.\n",
        "     Explicit type casting requires the programmer to specify the conversion, using functions like int(), float(), or str()e.g.to convert a float 3.14 to an integer, you would use int(3.14) to explicitly cast it to 3."
      ],
      "metadata": {
        "id": "L6ZJ82PCji3-"
      }
    },
    {
      "cell_type": "markdown",
      "source": [
        "11. What is the purpose of conditional statements in Python ?\n",
        "     - The purpose of conditional statements in Python is to allow the program to make decisions based on certain conditions, enabling it to execute different blocks of code depending on whether the condition is true or false. The main conditional statements in Python are if, elif, and else. The ' if ' statement checks a condition and, if it’s true, executes a block of code. The ' elif 'allows you to check multiple conditions, and the 'else' block provides a fallback when no condition is true."
      ],
      "metadata": {
        "id": "ZqVYTYEnkyWb"
      }
    },
    {
      "cell_type": "markdown",
      "source": [
        "12. How does the elif statement work?\n",
        "    - The 'elif'statement in Python is used to check multiple conditions in sequence, offering an alternative to using multiple if statements. It allows you to evaluate a series of conditions, and once one of them is true, its corresponding block of code is executed, and the rest of the conditions are ignored."
      ],
      "metadata": {
        "id": "l11FlpvprPBd"
      }
    },
    {
      "cell_type": "markdown",
      "source": [
        "13. What is the difference between for and while loops ?\n",
        "    - The for and while loops in Python are both used for repeating a block of code, but they differ in how they control the repetition. A for loop is typically used when the number of iterations is known beforehand, or when iterating over a sequence like a list, tuple, or range. It automatically handles the iteration process by cycling through the elements in the sequence. On the other hand, a while loop is used when the number of iterations is not known in advance and depends on a condition that is evaluated before each iteration. The loop continues as long as the condition is true, and it can potentially run indefinitely if the condition never becomes false."
      ],
      "metadata": {
        "id": "5GQCiYIvsUbb"
      }
    },
    {
      "cell_type": "markdown",
      "source": [
        "14. Describe a scenario where a while loop is more suitable than a for loop.\n",
        "    - A while loop is more suitable than a for loop when the number of iterations is not predetermined and depends on a dynamic condition. For example, consider a scenario where you want to monitor the status of a machine until it stops working. In this case, you don't know exactly how many iterations  it will take before the machine stops, so a while loop would be ideal. The loop would continuously check the machine's status, and once the condition becomes false, the loop would stop. Using a for loop here wouldn't be appropriate because you can't specify the exact number of iterations in advance, as the condition is determined by external factors."
      ],
      "metadata": {
        "id": "G-z45VmmtOLu"
      }
    },
    {
      "cell_type": "markdown",
      "source": [
        "#Practical Questions"
      ],
      "metadata": {
        "id": "Ew18Plijt0q1"
      }
    },
    {
      "cell_type": "markdown",
      "source": [
        "1. Write a Python program to print \"Hello, World!\""
      ],
      "metadata": {
        "id": "wQj2BgwkuJk9"
      }
    },
    {
      "cell_type": "code",
      "source": [
        "print(\"Hello, World!\")\n"
      ],
      "metadata": {
        "id": "MdFEYNDsrOR1",
        "colab": {
          "base_uri": "https://localhost:8080/"
        },
        "outputId": "3813598c-5348-49e7-9cf1-8acfde412ab1"
      },
      "execution_count": 1,
      "outputs": [
        {
          "output_type": "stream",
          "name": "stdout",
          "text": [
            "Hello, World!\n"
          ]
        }
      ]
    },
    {
      "cell_type": "markdown",
      "source": [
        "2. Write a Python program that displays your name and age."
      ],
      "metadata": {
        "id": "_q41RU5YqJom"
      }
    },
    {
      "cell_type": "code",
      "source": [
        "name = \"Aparna Swain\"\n",
        "age = 23\n",
        "\n",
        "print(\"Name:\", name)\n",
        "print(\"Age:\", age)\n"
      ],
      "metadata": {
        "id": "7YtrGtOxeIRg",
        "colab": {
          "base_uri": "https://localhost:8080/"
        },
        "outputId": "f5d2f936-4666-4d01-9896-c8ea8431b4bb"
      },
      "execution_count": 2,
      "outputs": [
        {
          "output_type": "stream",
          "name": "stdout",
          "text": [
            "Name: Aparna Swain\n",
            "Age: 23\n"
          ]
        }
      ]
    },
    {
      "cell_type": "markdown",
      "source": [
        "3. Write code to print all the pre-defined keywords in Python using the keyword library."
      ],
      "metadata": {
        "id": "HdkWOX2xXCZP"
      }
    },
    {
      "cell_type": "code",
      "execution_count": 3,
      "metadata": {
        "id": "UusUS3h_rXXw",
        "colab": {
          "base_uri": "https://localhost:8080/"
        },
        "outputId": "c2e0c048-e6c8-40a4-95e9-24f3f0d7c464"
      },
      "outputs": [
        {
          "output_type": "stream",
          "name": "stdout",
          "text": [
            "List of all Python keywords:\n",
            "['False', 'None', 'True', 'and', 'as', 'assert', 'async', 'await', 'break', 'class', 'continue', 'def', 'del', 'elif', 'else', 'except', 'finally', 'for', 'from', 'global', 'if', 'import', 'in', 'is', 'lambda', 'nonlocal', 'not', 'or', 'pass', 'raise', 'return', 'try', 'while', 'with', 'yield']\n"
          ]
        }
      ],
      "source": [
        "import keyword\n",
        "\n",
        "print(\"List of all Python keywords:\")\n",
        "print(keyword.kwlist)\n"
      ]
    },
    {
      "cell_type": "markdown",
      "source": [
        "4. Write a program that checks if a given word is a Python keyword."
      ],
      "metadata": {
        "id": "4ofgHWQIrr6j"
      }
    },
    {
      "cell_type": "code",
      "source": [
        "import keyword\n",
        "\n",
        "word = input(\"Enter a word: \")\n",
        "if keyword.iskeyword(word):\n",
        "    print(f\"'{word}' is a Python keyword.\")\n",
        "else:\n",
        "    print(f\"'{word}' is not a Python keyword.\")\n"
      ],
      "metadata": {
        "colab": {
          "base_uri": "https://localhost:8080/"
        },
        "id": "tIL5YuzyXdLl",
        "outputId": "fcd67286-8a13-4f05-a6e7-4c96254df679"
      },
      "execution_count": 6,
      "outputs": [
        {
          "output_type": "stream",
          "name": "stdout",
          "text": [
            "Enter a word: for\n",
            "'for' is a Python keyword.\n"
          ]
        }
      ]
    },
    {
      "cell_type": "markdown",
      "source": [
        "5. Create a list and tuple in Python, and demonstrate how attempting to change an element works differently\n",
        "for each."
      ],
      "metadata": {
        "id": "dl2cXW2uYO5z"
      }
    },
    {
      "cell_type": "code",
      "source": [
        "# Creating a list and a tuple\n",
        "my_list = [5, 2, 7, 9, 10]\n",
        "my_tuple = (15, 22, 32, 45,78)\n",
        "\n",
        "# Displaying original list and tuple\n",
        "print(\"Original List:\", my_list)\n",
        "print(\"Original Tuple:\", my_tuple)\n",
        "\n",
        "# Modifying the second element of the list\n",
        "my_list[1] = 99\n",
        "print(\"Modified List:\", my_list)\n",
        "\n",
        "# Trying to modify the second element of the tuple\n",
        "print(\"\\nAttempting to modify the tuple:\")\n",
        "try:\n",
        "    my_tuple[1] = 99  # Tuples are immutable, this will raise an error\n",
        "except TypeError as error:\n",
        "    print(\"Error:\", error)\n"
      ],
      "metadata": {
        "colab": {
          "base_uri": "https://localhost:8080/"
        },
        "id": "7T0rmaIpYdTK",
        "outputId": "348a585d-c89b-49e3-e551-c394b701e2a8"
      },
      "execution_count": 7,
      "outputs": [
        {
          "output_type": "stream",
          "name": "stdout",
          "text": [
            "Original List: [5, 2, 7, 9, 10]\n",
            "Original Tuple: (15, 22, 32, 45, 78)\n",
            "Modified List: [5, 99, 7, 9, 10]\n",
            "\n",
            "Attempting to modify the tuple:\n",
            "Error: 'tuple' object does not support item assignment\n"
          ]
        }
      ]
    },
    {
      "cell_type": "markdown",
      "source": [
        "6. Write a function to demonstrate the behavior of mutable and immutable arguments."
      ],
      "metadata": {
        "id": "W6po_hHgZsw6"
      }
    },
    {
      "cell_type": "code",
      "source": [
        "# Function to modify arguments\n",
        "def modify_arguments(num, num_list):\n",
        "    print(\"\\nInside function before modification:\")\n",
        "    print(\"num =\", num)\n",
        "    print(\"num_list =\", num_list)\n",
        "\n",
        "    # Modify the integer (immutable)\n",
        "    num += 10\n",
        "\n",
        "    # Modify the list (mutable)\n",
        "    num_list.append(100)\n",
        "\n",
        "    print(\"\\nInside function after modification:\")\n",
        "    print(\"num =\", num)\n",
        "    print(\"num_list =\", num_list)\n",
        "\n",
        "\n",
        "# Immutable variable (integer)\n",
        "x = 5\n",
        "\n",
        "# Mutable variable (list)\n",
        "my_list = [1, 2, 3]\n",
        "\n",
        "print(\"Before function call:\")\n",
        "print(\"x =\", x)\n",
        "print(\"my_list =\", my_list)\n",
        "\n",
        "# Call the function\n",
        "modify_arguments(x, my_list)\n",
        "\n",
        "print(\"\\nAfter function call:\")\n",
        "print(\"x =\", x)              # unchanged\n",
        "print(\"my_list =\", my_list)  # changed\n"
      ],
      "metadata": {
        "colab": {
          "base_uri": "https://localhost:8080/"
        },
        "id": "fuK-jnRcaNFr",
        "outputId": "07b46d1d-134c-4d75-be8d-2e5207ca4341"
      },
      "execution_count": 8,
      "outputs": [
        {
          "output_type": "stream",
          "name": "stdout",
          "text": [
            "Before function call:\n",
            "x = 5\n",
            "my_list = [1, 2, 3]\n",
            "\n",
            "Inside function before modification:\n",
            "num = 5\n",
            "num_list = [1, 2, 3]\n",
            "\n",
            "Inside function after modification:\n",
            "num = 15\n",
            "num_list = [1, 2, 3, 100]\n",
            "\n",
            "After function call:\n",
            "x = 5\n",
            "my_list = [1, 2, 3, 100]\n"
          ]
        }
      ]
    },
    {
      "cell_type": "markdown",
      "source": [
        "7. Write a program that performs basic arithmetic operations on two user-input numbers."
      ],
      "metadata": {
        "id": "CO6KkXQQfTjX"
      }
    },
    {
      "cell_type": "code",
      "source": [
        "num_1 = float(input(\"Please enter the first number: \"))\n",
        "num_2 = float(input(\"Please enter the second number: \"))\n",
        "\n",
        "# Performing addition\n",
        "sum = num_1 + num_2\n",
        "# Performing subtraction\n",
        "difference = num_1 - num_2\n",
        "# Performing multiplication\n",
        "product = num_1 * num_2\n",
        "# Performing division, with error handling for division by zero\n",
        "if num_2 != 0:\n",
        "    quotient = num_1 / num_2\n",
        "else:\n",
        "    quotient = \"undefined (cannot divide by zero)\"\n",
        "\n",
        "# Results\n",
        "print(f\"\\nResults of operations on {num_1} and {num_2}:\")\n",
        "print(f\"Sum: {sum}\")\n",
        "print(f\"Difference: {difference}\")\n",
        "print(f\"Product: {product}\")\n",
        "print(f\"Quotient: {quotient}\")\n"
      ],
      "metadata": {
        "colab": {
          "base_uri": "https://localhost:8080/"
        },
        "id": "77Tg9FJCfTDn",
        "outputId": "192f713e-be81-45e4-d254-03c51c8920ac"
      },
      "execution_count": 9,
      "outputs": [
        {
          "output_type": "stream",
          "name": "stdout",
          "text": [
            "Please enter the first number: 8\n",
            "Please enter the second number: 4\n",
            "\n",
            "Results of operations on 8.0 and 4.0:\n",
            "Sum: 12.0\n",
            "Difference: 4.0\n",
            "Product: 32.0\n",
            "Quotient: 2.0\n"
          ]
        }
      ]
    },
    {
      "cell_type": "markdown",
      "source": [
        "8. Write a program to demonstrate the use of logical operators."
      ],
      "metadata": {
        "id": "ZhjNP37wgyP_"
      }
    },
    {
      "cell_type": "code",
      "source": [
        "age = int(input(\"Enter your age: \"))\n",
        "is_student = input(\"Are you a student? (yes/no): \").lower() == \"yes\"\n",
        "\n",
        "# Using the 'and' logical operator\n",
        "if age >= 18 and is_student:\n",
        "    print(\"You are an adult and a student.\")\n",
        "else:\n",
        "    print(\"You don't meet the criteria of being an adult and a student at the same time.\")\n",
        "\n",
        "# Using the 'or' logical operator\n",
        "if age < 18 or not is_student:\n",
        "    print(\"Either you are not an adult or you are not a student.\")\n",
        "\n",
        "# Using the 'not' logical operator\n",
        "if not is_student:\n",
        "    print(\"You are not a student.\")\n",
        "else:\n",
        "    print(\"You are a student.\")\n"
      ],
      "metadata": {
        "colab": {
          "base_uri": "https://localhost:8080/"
        },
        "id": "vL31_nMYhDwZ",
        "outputId": "0ee18ea5-8233-4a05-b2e7-4a0136700952"
      },
      "execution_count": 11,
      "outputs": [
        {
          "output_type": "stream",
          "name": "stdout",
          "text": [
            "Enter your age: 24\n",
            "Are you a student? (yes/no): yes\n",
            "You are an adult and a student.\n",
            "You are a student.\n"
          ]
        }
      ]
    },
    {
      "cell_type": "markdown",
      "source": [
        "9. Write a Python program to convert user input from string to integer, float, and boolean types."
      ],
      "metadata": {
        "id": "mG-mN9pFiIIn"
      }
    },
    {
      "cell_type": "code",
      "source": [
        "user_input = input(\"Enter a value: \")\n",
        "\n",
        "# Convert the input to an integer\n",
        "integer_value = int(user_input)\n",
        "print(\"Integer:\", integer_value)\n",
        "\n",
        "# Convert the input to a float\n",
        "float_value = float(user_input)\n",
        "print(\"Float:\", float_value)\n",
        "\n",
        "# Convert the input to a boolean\n",
        "boolean_value = bool(user_input)\n",
        "print(\"Boolean:\", boolean_value)\n"
      ],
      "metadata": {
        "colab": {
          "base_uri": "https://localhost:8080/"
        },
        "id": "X-KY5U_uibL-",
        "outputId": "66ba8124-dca7-4b13-9dea-cb3c463b14b2"
      },
      "execution_count": 12,
      "outputs": [
        {
          "output_type": "stream",
          "name": "stdout",
          "text": [
            "Enter a value: 24\n",
            "Integer: 24\n",
            "Float: 24.0\n",
            "Boolean: True\n"
          ]
        }
      ]
    },
    {
      "cell_type": "markdown",
      "source": [
        "10. Write code to demonstrate type casting with list elements"
      ],
      "metadata": {
        "id": "SB0vKw5Wi0iK"
      }
    },
    {
      "cell_type": "code",
      "source": [
        "# List containing string representations of numbers\n",
        "str_list = [\"10\", \"20\", \"30.5\", \"40\"]\n",
        "\n",
        "# Type casting elements in the list to integer and float\n",
        "int_list = [int(float(item)) for item in str_list]\n",
        "float_list = [float(item) for item in str_list]\n",
        "\n",
        "# Display the results\n",
        "print(\"Original list:\", str_list)\n",
        "print(\"List converted to integers:\", int_list)\n",
        "print(\"List converted to floats:\", float_list)\n"
      ],
      "metadata": {
        "colab": {
          "base_uri": "https://localhost:8080/"
        },
        "id": "QbcYkjU1i4Se",
        "outputId": "62089f6e-5629-4537-c96b-9ce3a6abb457"
      },
      "execution_count": 15,
      "outputs": [
        {
          "output_type": "stream",
          "name": "stdout",
          "text": [
            "Original list: ['10', '20', '30.5', '40']\n",
            "List converted to integers: [10, 20, 30, 40]\n",
            "List converted to floats: [10.0, 20.0, 30.5, 40.0]\n"
          ]
        }
      ]
    },
    {
      "cell_type": "markdown",
      "source": [
        "11. Write a program that checks if a number is positive, negative, or zero.\n"
      ],
      "metadata": {
        "id": "P_Ijq8o3jvsF"
      }
    },
    {
      "cell_type": "code",
      "source": [
        "num = float(input(\"Enter a number: \"))\n",
        "\n",
        "# Check the condition\n",
        "if num > 0:\n",
        "    print(\"The number is positive.\")\n",
        "elif num < 0:\n",
        "    print(\"The number is negative.\")\n",
        "else:\n",
        "    print(\"The number is zero.\")"
      ],
      "metadata": {
        "colab": {
          "base_uri": "https://localhost:8080/"
        },
        "id": "LxdFEOrKkCK_",
        "outputId": "27f8ab9e-c157-4076-bbb8-87e2cfe40d54"
      },
      "execution_count": 16,
      "outputs": [
        {
          "output_type": "stream",
          "name": "stdout",
          "text": [
            "Enter a number: 8\n",
            "The number is positive.\n"
          ]
        }
      ]
    },
    {
      "cell_type": "markdown",
      "source": [
        "12. Write a for loop to print numbers from 1 to 10."
      ],
      "metadata": {
        "id": "7vpCYZmikLj9"
      }
    },
    {
      "cell_type": "code",
      "source": [
        "# Program to print numbers from 1 to 10 using a for loop\n",
        "\n",
        "for i in range(1, 11):\n",
        "    print(i)\n"
      ],
      "metadata": {
        "colab": {
          "base_uri": "https://localhost:8080/"
        },
        "id": "AmInRiPOkYag",
        "outputId": "26416d74-6da8-4efe-e2cd-cb4fadb13c40"
      },
      "execution_count": 17,
      "outputs": [
        {
          "output_type": "stream",
          "name": "stdout",
          "text": [
            "1\n",
            "2\n",
            "3\n",
            "4\n",
            "5\n",
            "6\n",
            "7\n",
            "8\n",
            "9\n",
            "10\n"
          ]
        }
      ]
    },
    {
      "cell_type": "markdown",
      "source": [
        "13. Write a Python program to find the sum of all even numbers between 1 and 50."
      ],
      "metadata": {
        "id": "WzmaM3wukgLC"
      }
    },
    {
      "cell_type": "code",
      "source": [
        "total = 0\n",
        "\n",
        "for i in range(2, 51, 2):\n",
        "    total += i\n",
        "\n",
        "print(\"Sum of even numbers from 1 to 50 is:\", total)"
      ],
      "metadata": {
        "colab": {
          "base_uri": "https://localhost:8080/"
        },
        "id": "NqByaKEPkoAS",
        "outputId": "0cf70681-3a80-4eb8-bb6a-5e954d9c2b8f"
      },
      "execution_count": 18,
      "outputs": [
        {
          "output_type": "stream",
          "name": "stdout",
          "text": [
            "Sum of even numbers from 1 to 50 is: 650\n"
          ]
        }
      ]
    },
    {
      "cell_type": "markdown",
      "source": [
        "14. Write a program to reverse a string using a while loop."
      ],
      "metadata": {
        "id": "s-HyjqsIk2F-"
      }
    },
    {
      "cell_type": "code",
      "source": [
        "text = input(\"Enter a string: \")\n",
        "\n",
        "# Initialize variables\n",
        "reversed_text = \"\"\n",
        "index = len(text) - 1\n",
        "\n",
        "# Reverse the string using while loop\n",
        "while index >= 0:\n",
        "    reversed_text += text[index]\n",
        "    index -= 1\n",
        "\n",
        "# Print the reversed string\n",
        "print(\"Reversed string:\", reversed_text)"
      ],
      "metadata": {
        "colab": {
          "base_uri": "https://localhost:8080/"
        },
        "id": "A8kECpkplDd2",
        "outputId": "5af29ad1-23e2-4236-b488-921104d9ccef"
      },
      "execution_count": 19,
      "outputs": [
        {
          "output_type": "stream",
          "name": "stdout",
          "text": [
            "Enter a string: python\n",
            "Reversed string: nohtyp\n"
          ]
        }
      ]
    },
    {
      "cell_type": "markdown",
      "source": [
        "15. Write a Python program to calculate the factorial of a number provided by the user using a while loop."
      ],
      "metadata": {
        "id": "7BYYel5_lQDv"
      }
    },
    {
      "cell_type": "code",
      "source": [
        "num = int(input(\"Enter a number: \"))\n",
        "\n",
        "# Initialize variables\n",
        "factorial = 1\n",
        "i = 1\n",
        "\n",
        "# Use while loop to calculate factorial\n",
        "while i <= num:\n",
        "    factorial *= i\n",
        "    i += 1\n",
        "\n",
        "# Display the result\n",
        "print(\"Factorial of\", num, \"is:\", factorial)"
      ],
      "metadata": {
        "colab": {
          "base_uri": "https://localhost:8080/"
        },
        "id": "drd7jO5flWcB",
        "outputId": "ec21c612-8556-456e-e042-2a386849e49d"
      },
      "execution_count": 20,
      "outputs": [
        {
          "output_type": "stream",
          "name": "stdout",
          "text": [
            "Enter a number: 7\n",
            "Factorial of 7 is: 5040\n"
          ]
        }
      ]
    }
  ]
}