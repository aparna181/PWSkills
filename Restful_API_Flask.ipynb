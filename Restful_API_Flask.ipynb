{
  "nbformat": 4,
  "nbformat_minor": 0,
  "metadata": {
    "colab": {
      "provenance": []
    },
    "kernelspec": {
      "name": "python3",
      "display_name": "Python 3"
    },
    "language_info": {
      "name": "python"
    }
  },
  "cells": [
    {
      "cell_type": "markdown",
      "source": [
        "# Restful API & Flask Assignment"
      ],
      "metadata": {
        "id": "D8zErBR5q5Y7"
      }
    },
    {
      "cell_type": "markdown",
      "source": [
        "#Theory Question"
      ],
      "metadata": {
        "id": "fWVqhby7q99w"
      }
    },
    {
      "cell_type": "markdown",
      "source": [
        "1. What is a RESTful API?\n",
        "   - A RESTful API (Representational State Transfer Application Programming Interface) is a web service that follows REST architecture principles to allow communication between client and server over HTTP."
      ],
      "metadata": {
        "id": "TEyZX3qMrCMC"
      }
    },
    {
      "cell_type": "markdown",
      "source": [
        "2. Explain the concept of API specification.\n",
        "   - An API specification is a formal document that defines how an API works and how it should be used. It acts as a contract between the API provider and the users (developers), detailing the structure, functionality, and behavior of the API. It outlines the structure, available endpoints, request and response formats, methods (like GET, POST), data types, and authentication rules.\n",
        "   A good API specification includes the following key elements:\n",
        "\n",
        "    Endpoints – The URI paths to access specific resources.\n",
        "\n",
        "    HTTP Methods – Operations like GET, POST, PUT, DELETE.\n",
        "\n",
        "    Request Parameters – Includes path, query, headers, and body data.\n",
        "\n",
        "    Response Format – Structure and format of returned data (e.g., JSON) and status codes.\n",
        "\n",
        "    Authentication – Methods for secure access (e.g., API key, OAuth).\n",
        "\n",
        "    The importance of an API specification lies in ensuring consistency, reliability, and clear communication between teams. It helps developers understand how to integrate with the API effectively and enables tools to automate documentation, testing, and validation.\n",
        "\n",
        ""
      ],
      "metadata": {
        "id": "VtQ5PP1ar_fN"
      }
    },
    {
      "cell_type": "markdown",
      "source": [
        "3. What is Flask, and why is it popular for building APIs?\n",
        "  -Flask is a lightweight and flexible web framework written in Python, used for developing web applications and APIs. It is based on the Werkzeug WSGI toolkit and Jinja2 templating engine.\n",
        "  It is popular because -\n",
        "  \n",
        "  Ideal for small to medium-sized projects or prototypes.\n",
        "  \n",
        "  Easy to learn python developers\n",
        "  \n",
        "  popular for building RESTful APIs, microservices or simple web apps.Flask makes it easy to define routes and handle HTTP methods like GET, POST, PUT, and DELETE, which are essential for RESTful APIs"
      ],
      "metadata": {
        "id": "Q9SrAlCXt8NK"
      }
    },
    {
      "cell_type": "markdown",
      "source": [
        "4. What is routing in Flask?\n",
        "   -  Routing in Flask is the process of associating URLs with specific functions in a Flask application. These functions are called view functions, and they define what response should be returned when a particular URL is accessed.In Flask, you use the @app.route() decorator to define routes. Each route corresponds to a specific URL and HTTP method (GET, POST, etc.)"
      ],
      "metadata": {
        "id": "K6_WZe-Ruvd9"
      }
    },
    {
      "cell_type": "markdown",
      "source": [
        "5. How do you create a simple Flask application?\n",
        "   - To create a simple Flask app:\n",
        "\n",
        "     Install Flask using pip.\n",
        "\n",
        "     Write Python code to define the app and route.\n",
        "\n",
        "     Run the app and test it in a web browser."
      ],
      "metadata": {
        "id": "K4YVqIcAvjQn"
      }
    },
    {
      "cell_type": "code",
      "source": [
        "!pip install Flask\n"
      ],
      "metadata": {
        "colab": {
          "base_uri": "https://localhost:8080/"
        },
        "id": "vrswmBDGr-5L",
        "outputId": "36649837-5cc4-4543-9f3a-a46c0b864984"
      },
      "execution_count": 1,
      "outputs": [
        {
          "output_type": "stream",
          "name": "stdout",
          "text": [
            "Requirement already satisfied: Flask in /usr/local/lib/python3.11/dist-packages (3.1.1)\n",
            "Requirement already satisfied: blinker>=1.9.0 in /usr/local/lib/python3.11/dist-packages (from Flask) (1.9.0)\n",
            "Requirement already satisfied: click>=8.1.3 in /usr/local/lib/python3.11/dist-packages (from Flask) (8.2.1)\n",
            "Requirement already satisfied: itsdangerous>=2.2.0 in /usr/local/lib/python3.11/dist-packages (from Flask) (2.2.0)\n",
            "Requirement already satisfied: jinja2>=3.1.2 in /usr/local/lib/python3.11/dist-packages (from Flask) (3.1.6)\n",
            "Requirement already satisfied: markupsafe>=2.1.1 in /usr/local/lib/python3.11/dist-packages (from Flask) (3.0.2)\n",
            "Requirement already satisfied: werkzeug>=3.1.0 in /usr/local/lib/python3.11/dist-packages (from Flask) (3.1.3)\n"
          ]
        }
      ]
    },
    {
      "cell_type": "code",
      "execution_count": 2,
      "metadata": {
        "colab": {
          "base_uri": "https://localhost:8080/"
        },
        "id": "qV_gvoueqyjp",
        "outputId": "9887d0c3-a3a1-43ea-d700-55f18ece588a"
      },
      "outputs": [
        {
          "output_type": "stream",
          "name": "stdout",
          "text": [
            " * Serving Flask app '__main__'\n",
            " * Debug mode: on\n"
          ]
        },
        {
          "output_type": "stream",
          "name": "stderr",
          "text": [
            "INFO:werkzeug:\u001b[31m\u001b[1mWARNING: This is a development server. Do not use it in a production deployment. Use a production WSGI server instead.\u001b[0m\n",
            " * Running on http://127.0.0.1:5000\n",
            "INFO:werkzeug:\u001b[33mPress CTRL+C to quit\u001b[0m\n",
            "INFO:werkzeug: * Restarting with stat\n"
          ]
        }
      ],
      "source": [
        "from flask import Flask\n",
        "\n",
        "app = Flask(__name__)  # Create a Flask app instance\n",
        "\n",
        "@app.route('/')  # Define a route for the homepage\n",
        "def home():\n",
        "    return \"Hello, World!\"  # Response for the home route\n",
        "\n",
        "if __name__ == '__main__':\n",
        "    app.run(debug=True)  # Run the app in debug mode\n"
      ]
    },
    {
      "cell_type": "markdown",
      "source": [
        "6. What are HTTP methods used in RESTful API?\n",
        "   - GET: Retrieve data from the server.\n",
        "     \n",
        "     POST: Send data to the server to create a new resource.\n",
        "\n",
        "     PUT: Update an existing resource completely.\n",
        "\n",
        "     PATCH: Partially update an existing resource.\n",
        "\n",
        "      DELETE: Delete a resource from the server.\n",
        "\n",
        "     OPTIONS: Describes the communication options for the target resource.\n",
        "\n"
      ],
      "metadata": {
        "id": "bfoJInmFxS2W"
      }
    },
    {
      "cell_type": "markdown",
      "source": [
        "7. What is the purpose of the @app.route() decorator in Flask?\n",
        "  - It is a route decorator.\n",
        "    It tells Flask: when someone goes to the root URL/,call the home() fuction.Routes are URL paths that maps the python function called view function.\n",
        "    "
      ],
      "metadata": {
        "id": "LrmcMTskyUiu"
      }
    },
    {
      "cell_type": "markdown",
      "source": [
        "8. What is the difference between GET and POST HTTP methods?\n",
        "   - GET Method:  The GET method is used to request data from a specified resource. Data is sent through the URL as query parameters and is visible to everyone. GET requests are idempotent, meaning multiple identical requests will have the same effect. Responses from GET requests can be cached by browsers. Typically used for retrieving or reading data without making changes on the server.\n",
        "\n",
        "    POST Method: The POST method is used to send data to the server to create or update a resource. Data is sent inside the request body, making it more secure than GET. POST requests are not necessarily idempotent; repeated requests may result in multiple resource changes. Responses to POST requests are usually not cached.\n",
        "\n"
      ],
      "metadata": {
        "id": "eyXLeRMi0buJ"
      }
    },
    {
      "cell_type": "markdown",
      "source": [
        "9. How do you handle errors in Flask APIs?\n",
        "   - In Flask APIs, errors can be handled using error handlers that catch specific HTTP errors or exceptions and return appropriate responses. You can define custom functions to handle specific error codes (like 404, 500) using the @app.errorhandler() decorator."
      ],
      "metadata": {
        "id": "MpPr9kaU07OA"
      }
    },
    {
      "cell_type": "code",
      "source": [
        "from flask import Flask, jsonify\n",
        "\n",
        "app = Flask(__name__)\n",
        "\n",
        "@app.errorhandler(404)\n",
        "def not_found(error):\n",
        "    return jsonify({'error': 'Resource not found'}), 404\n",
        "\n",
        "@app.errorhandler(500)\n",
        "def server_error(error):\n",
        "    return jsonify({'error': 'Internal server error'}), 500\n"
      ],
      "metadata": {
        "id": "fMVuSHdV1bT2"
      },
      "execution_count": null,
      "outputs": []
    },
    {
      "cell_type": "markdown",
      "source": [
        "10. How do you connect Flask to a SQL database?\n",
        "    - To connect Flask to a SQL database, you typically use an ORM (Object-Relational Mapping) library like SQLAlchemy, or use a database driver directly.\n",
        "      Use Flask-SQLAlchemy extension for easy integration.\n",
        "\n",
        "      Set the database connection URI via app.config.\n",
        "\n",
        "      Define data models as Python classes.\n",
        "\n",
        "      Use db.create_all() to create tables.\n",
        "\n",
        "      Use session methods to add, query, and modify data."
      ],
      "metadata": {
        "id": "iLbsuJpu05CK"
      }
    },
    {
      "cell_type": "markdown",
      "source": [
        "11. What is the role of Flask-SQLAlchemy?\n",
        "   - Flask-SQLAlchemy is an extension for the Flask framework that integrates the powerful SQLAlchemy ORM (Object Relational Mapper) with Flask applications. Its main role is to simplify database operations by allowing developers to work with databases using Python classes and objects instead of writing complex SQL queries. Flask-SQLAlchemy manages database connections and sessions automatically, making it easier to perform common tasks such as creating, reading, updating, and deleting records. It supports multiple SQL databases like SQLite, MySQL, and PostgreSQL through a unified API, and it works seamlessly within Flask’s application context. Overall, Flask-SQLAlchemy provides a convenient and efficient way to interact with relational databases in Flask applications, improving code readability and maintainability."
      ],
      "metadata": {
        "id": "grEW6lvm1_9Z"
      }
    },
    {
      "cell_type": "markdown",
      "source": [
        "12. What are Flask blueprints, and how are they useful?\n",
        "   - Flask Blueprints are a powerful feature in the Flask framework that allows developers to organize their application into smaller, modular components. Each blueprint can represent a part of the application, such as authentication, admin panel, or user management, and can include its own routes, templates, static files, and error handlers. Blueprints make it easier to manage large applications by dividing them into manageable sections, promoting cleaner and more maintainable code. They also help in reusing code across different projects and simplify collaboration in team environments. By registering blueprints to the main application object, Flask combines all the components into a single, functional web application."
      ],
      "metadata": {
        "id": "i91DrNuy25Ra"
      }
    },
    {
      "cell_type": "markdown",
      "source": [
        "13. What is the purpose of Flask's request object?\n",
        "    - The purpose of Flask's request object is to provide access to all the data sent by the client in an HTTP request. It allows developers to retrieve form data, JSON data, URL parameters, cookies, headers, and file uploads. The request object is essential for handling input from users, such as form submissions or API calls, enabling dynamic and interactive web applications."
      ],
      "metadata": {
        "id": "di49hXBUKDmd"
      }
    },
    {
      "cell_type": "markdown",
      "source": [
        "14.  How do you create a RESTful API endpoint using Flask?\n",
        "    - To create a RESTful API endpoint using Flask, you first import the Flask module and create a Flask application instance. Then, you define a route using the @app.route() decorator, specifying the URL path and the HTTP methods (such as GET or POST) it should handle. Inside the route function, you write the logic to process the request and return a response, usually in JSON format using jsonify(). This setup allows the endpoint to be accessed by clients through HTTP requests, enabling interaction with the API in a RESTful manner"
      ],
      "metadata": {
        "id": "SCV4PnZlKXEY"
      }
    },
    {
      "cell_type": "code",
      "source": [
        "from flask import Flask, jsonify\n",
        "\n",
        "app = Flask(__name__)\n",
        "\n",
        "@app.route('/api/hello', methods=['GET'])\n",
        "def hello():\n",
        "    return jsonify({'message': 'Hello, world!'})\n"
      ],
      "metadata": {
        "id": "I1YU1Pt6KydD"
      },
      "execution_count": null,
      "outputs": []
    },
    {
      "cell_type": "markdown",
      "source": [
        "15. What is the purpose of Flask's jsonify() function?\n",
        "   - The purpose of Flask's jsonify() function is to convert Python data structures, such as dictionaries or lists, into a JSON-formatted HTTP response. It automatically sets the correct Content-Type header to application/json, making it easier and more reliable to return JSON data from your API endpoints. This function is commonly used in RESTful APIs to send structured data back to the client in a format that is widely supported and easy to parse."
      ],
      "metadata": {
        "id": "H-7Y7RK2K19u"
      }
    },
    {
      "cell_type": "markdown",
      "source": [
        "16. Explain Flask’s url_for() function.\n",
        "    -  The url_for() function in Flask is used to dynamically generate URLs for a given function name that is associated with a specific route. Instead of hardcoding URLs in templates or Python code, url_for() ensures that the correct path is generated even if the route changes later. This helps in maintaining the application and avoiding broken links.\n",
        "\n",
        "    It is especially useful when linking to other routes, redirecting users, or generating URLs in HTML templates.\n",
        "\n",
        "     syntax : url_for('function_name', **parameters)\n"
      ],
      "metadata": {
        "id": "tR5Mt18JL4Y9"
      }
    },
    {
      "cell_type": "markdown",
      "source": [
        "17. How does Flask handle static files (CSS, JavaScript, etc.)?\n",
        "    - Flask handles static files like CSS, JavaScript, and images using a special folder named static in the project directory. By default, Flask serves files from this static folder and makes them accessible using the URL path /static/filename.\n",
        "\n",
        "     To use static files in your HTML templates, you should reference them using Flask's url_for() function. This ensures that the correct path is generated even if the application is moved or rename.\n",
        "\n",
        "\n",
        "     project/\n",
        "     │\n",
        "     ├── app.py\n",
        "     ├── static/\n",
        "     │   └── style.css\n",
        "     ├── templates/\n",
        "         └── index.html\n"
      ],
      "metadata": {
        "id": "FGLqmgfIMYIO"
      }
    },
    {
      "cell_type": "markdown",
      "source": [
        "18. What is an API specification, and how does it help in building a Flask API?\n",
        "    - An API specification is a detailed document that defines how an API works. It outlines the structure, available endpoints, HTTP methods (like GET, POST, PUT, DELETE), request and response formats, authentication methods, and error codes. Popular formats for API specifications include OpenAPI (Swagger) and RAML.\n",
        "\n",
        "      In the context of building a Flask API, an API specification acts as a blueprint that helps developers clearly understand what the API should do and how it should behave. It ensures consistency, allows for easier collaboration among team members, and simplifies the process of testing and maintaining the API. It also helps in generating documentation and client SDKs automatically."
      ],
      "metadata": {
        "id": "EoKy7Lf7NBre"
      }
    },
    {
      "cell_type": "markdown",
      "source": [
        "19. What are HTTP status codes, and why are they important in a Flask API?\n",
        "    - HTTP status codes are standardized three-digit numbers returned by a server in response to a client's request. They indicate the outcome of the request, such as success, client error, or server error. Each code belongs to a specific category:\n",
        "\n",
        "     2xx for success (e.g., 200 OK)\n",
        "\n",
        "     4xx for client errors (e.g., 404 Not Found)\n",
        "\n",
        "     5xx for server errors (e.g., 500 Internal Server Error)\n",
        "\n",
        "       In a Flask API, these codes are important because they help clients understand the result of their request. For example, returning 200 OK confirms a successful operation, while 400 Bad Request tells the client that the input was invalid. Clear and correct use of status codes improves communication, debugging, and error handling between the client and server, leading to a more robust and user-friendly API."
      ],
      "metadata": {
        "id": "uz8nFoeyNjb4"
      }
    },
    {
      "cell_type": "markdown",
      "source": [
        "20. How do you handle POST requests in Flask?\n",
        "   - In Flask, POST requests are handled by defining a route with the methods=['POST'] parameter and using the request object to access the data sent by the client. POST requests are typically used to submit form data or JSON data to the server for processing, such as creating a new record."
      ],
      "metadata": {
        "id": "EOe3k_BrN6PT"
      }
    },
    {
      "cell_type": "markdown",
      "source": [
        "21. How would you secure a Flask API?\n",
        "    -  One common method is using authentication and authorization, such as API keys, JWT (JSON Web Tokens), or OAuth, to ensure only authorized users can access the API. Another important step is to use HTTPS instead of HTTP to encrypt data during transmission. Input validation and sanitization are also essential to prevent injection attacks like SQL injection or cross-site scripting (XSS). Additionally, enabling rate limiting helps protect the API from abuse or denial-of-service attacks by limiting the number of requests a user can make in a certain time frame."
      ],
      "metadata": {
        "id": "z4c3VegBOMK9"
      }
    },
    {
      "cell_type": "markdown",
      "source": [
        "22. What is the significance of the Flask-RESTful extension?\n",
        "    - Flask-RESTful is an extension for Flask that simplifies the process of building RESTful APIs by providing useful tools and abstractions. It helps structure API endpoints using resource classes, making the code more organized and easier to maintain. Flask-RESTful automatically handles common tasks such as parsing request data, formatting responses, and managing HTTP methods (GET, POST, PUT, DELETE) through class-based views.This extension also supports built-in error handling, input validation, and integrates smoothly with Flask’s routing system. By reducing boilerplate code, Flask-RESTful allows developers to focus more on the application logic and less on repetitive tasks, speeding up API development and improving code clarity."
      ],
      "metadata": {
        "id": "RZRiYx_IOrIC"
      }
    },
    {
      "cell_type": "markdown",
      "source": [
        "23. What is the role of Flask’s session object?\n",
        "    - Flask’s session object is used to store information specific to a user’s session between requests. It allows web applications to remember data about a user, such as login status, preferences, or shopping cart contents, across multiple requests without requiring the user to send the data each time.\n",
        "\n",
        "     The session data is stored securely on the client side in a cookie that is signed to prevent tampering, ensuring data integrity. Flask’s session object provides a simple way to manage user-specific data in a stateless HTTP environment, making it essential for implementing features like user authentication and personalized experiences in Flask application"
      ],
      "metadata": {
        "id": "SBDSc-8WO70C"
      }
    },
    {
      "cell_type": "markdown",
      "source": [
        "#Practical Questions"
      ],
      "metadata": {
        "id": "CLpLVbGCPKCH"
      }
    },
    {
      "cell_type": "markdown",
      "source": [
        "1. How do you create a basic Flask application?"
      ],
      "metadata": {
        "id": "KOdlAwvvPNSs"
      }
    },
    {
      "cell_type": "code",
      "source": [
        "from flask import Flask\n",
        "\n",
        "app = Flask(__name__)\n",
        "\n",
        "@app.route('/')\n",
        "def home():\n",
        "    return \"Hello, World!\"\n",
        "\n",
        "if __name__ == '__main__':\n",
        "    app.run(debug=True)\n"
      ],
      "metadata": {
        "colab": {
          "base_uri": "https://localhost:8080/"
        },
        "id": "-M4pbzbdL3Cj",
        "outputId": "ee9648dd-2d7a-4c31-c9dd-deb2c74e9a0d"
      },
      "execution_count": 2,
      "outputs": [
        {
          "output_type": "stream",
          "name": "stdout",
          "text": [
            " * Serving Flask app '__main__'\n",
            " * Debug mode: on\n"
          ]
        },
        {
          "output_type": "stream",
          "name": "stderr",
          "text": [
            "INFO:werkzeug:\u001b[31m\u001b[1mWARNING: This is a development server. Do not use it in a production deployment. Use a production WSGI server instead.\u001b[0m\n",
            " * Running on http://127.0.0.1:5000\n",
            "INFO:werkzeug:\u001b[33mPress CTRL+C to quit\u001b[0m\n",
            "INFO:werkzeug: * Restarting with stat\n"
          ]
        }
      ]
    },
    {
      "cell_type": "markdown",
      "source": [
        "2. How do you serve static files like images or CSS in Flask?\n",
        "   - Flask automatically serves static files from a folder named static in your project directory. To use static files like images or CSS:\n",
        "\n",
        "    Create a folder named static in your Flask project directory.\n",
        "\n",
        "    Put your static files (CSS, images, JS) inside the static folder.\n",
        "\n",
        "    Reference these files in your HTML templates using url_for('static', filename='path/to/file')\n",
        "\n",
        "     \n",
        "     project/\n",
        "     │\n",
        "     ├── app.py\n",
        "     ├── static/\n",
        "     │   ├── style.css\n",
        "     │   └── logo.png\n",
        "     └── templates/\n",
        "          └── index.html\n"
      ],
      "metadata": {
        "id": "n3EInJpIPkjw"
      }
    },
    {
      "cell_type": "code",
      "source": [
        "<!DOCTYPE html>\n",
        "<html>\n",
        "<head>\n",
        "    <link rel=\"stylesheet\" href=\"{{ url_for('static', filename='style.css') }}\">\n",
        "</head>\n",
        "<body>\n",
        "    <h1>Welcome to Flask</h1>\n",
        "    <img src=\"{{ url_for('static', filename='logo.png') }}\" alt=\"Logo\">\n",
        "</body>\n",
        "</html>\n"
      ],
      "metadata": {
        "id": "8KJwcDGLP3gN"
      },
      "execution_count": null,
      "outputs": []
    },
    {
      "cell_type": "code",
      "source": [
        "from flask import Flask, render_template\n",
        "\n",
        "app = Flask(__name__)\n",
        "\n",
        "@app.route('/')\n",
        "def home():\n",
        "    return render_template('index.html')\n",
        "\n",
        "if __name__ == '__main__':\n",
        "    app.run(debug=True)\n"
      ],
      "metadata": {
        "id": "6dZU5pHlaFFV"
      },
      "execution_count": null,
      "outputs": []
    },
    {
      "cell_type": "markdown",
      "source": [
        "3. How do you define different routes with different HTTP methods in Flask?"
      ],
      "metadata": {
        "id": "uG5w6_zYao7k"
      }
    },
    {
      "cell_type": "code",
      "source": [
        "from flask import Flask, request, jsonify\n",
        "\n",
        "app = Flask(__name__)\n",
        "\n",
        "# Route that handles GET method\n",
        "@app.route('/get-example', methods=['GET'])\n",
        "def get_example():\n",
        "    return jsonify({\"message\": \"GET request received\"})\n",
        "\n",
        "# Route that handles POST method\n",
        "@app.route('/post-example', methods=['POST'])\n",
        "def post_example():\n",
        "    data = request.get_json()\n",
        "    return jsonify({\"message\": \"POST request received\", \"data\": data})\n",
        "\n",
        "# Route that handles both GET and POST\n",
        "@app.route('/both-example', methods=['GET', 'POST'])\n",
        "def both_example():\n",
        "    if request.method == 'GET':\n",
        "        return jsonify({\"message\": \"GET on /both-example\"})\n",
        "    elif request.method == 'POST':\n",
        "        data = request.get_json()\n",
        "        return jsonify({\"message\": \"POST on /both-example\", \"data\": data})\n",
        "\n",
        "if __name__ == '__main__':\n",
        "    app.run(debug=True)\n"
      ],
      "metadata": {
        "id": "PSI8oUrGbf-a"
      },
      "execution_count": null,
      "outputs": []
    },
    {
      "cell_type": "markdown",
      "source": [
        "4. How do you render HTML templates in Flask?\n",
        "    - Create a folder named templates.\n",
        "\n",
        "      Add your HTML file inside the templates folder.\n",
        "\n",
        "      Use render_template('filename.html') in your Flask route."
      ],
      "metadata": {
        "id": "yFHAWB6nbpMB"
      }
    },
    {
      "cell_type": "code",
      "source": [
        "#app.py file\n",
        "from flask import Flask, render_template\n",
        "\n",
        "app = Flask(__name__)\n",
        "\n",
        "@app.route('/')\n",
        "def home():\n",
        "    return render_template('index.html')\n",
        "\n",
        "if __name__ == '__main__':\n",
        "    app.run(debug=True)\n"
      ],
      "metadata": {
        "id": "bEM931i0b6IA"
      },
      "execution_count": null,
      "outputs": []
    },
    {
      "cell_type": "code",
      "source": [
        "#index.html file\n",
        "<!DOCTYPE html>\n",
        "<html>\n",
        "<head>\n",
        "    <title>Flask Template</title>\n",
        "</head>\n",
        "<body>\n",
        "    <h1>Hello from Flask Template!</h1>\n",
        "</body>\n",
        "</html>\n"
      ],
      "metadata": {
        "id": "YSPE-diXcyp_"
      },
      "execution_count": null,
      "outputs": []
    },
    {
      "cell_type": "markdown",
      "source": [
        "5. How can you generate URLs for routes in Flask using url_for?\n",
        "   - In Flask, the url_for() function is used to dynamically build URLs for specific routes by referencing the function name instead of hardcoding the URL. This makes your application more maintainable and flexible, especially when the route paths change."
      ],
      "metadata": {
        "id": "qmsGEtbcbo62"
      }
    },
    {
      "cell_type": "code",
      "source": [
        "from flask import Flask, url_for, redirect\n",
        "\n",
        "app = Flask(__name__)\n",
        "\n",
        "@app.route('/')\n",
        "def home():\n",
        "    return 'Welcome to the Home Page!'\n",
        "\n",
        "@app.route('/about')\n",
        "def about():\n",
        "    return 'This is the About Page'\n",
        "\n",
        "@app.route('/go-to-about')\n",
        "def go_to_about():\n",
        "    # Redirects to the 'about' route using url_for\n",
        "    return redirect(url_for('about'))\n",
        "\n",
        "if __name__ == '__main__':\n",
        "    app.run(debug=True)\n"
      ],
      "metadata": {
        "id": "eL2uxIAPdZLh"
      },
      "execution_count": null,
      "outputs": []
    },
    {
      "cell_type": "markdown",
      "source": [
        "6.  How do you handle forms in Flask?\n",
        "     - Create an HTML form in a template with method=\"POST\".\n",
        "\n",
        "     Define a Flask route that accepts both GET and POST methods.\n",
        "\n",
        "     Use request.form to access submitted form data."
      ],
      "metadata": {
        "id": "gHVCFiGYexpy"
      }
    },
    {
      "cell_type": "code",
      "source": [
        "#app.py file\n",
        "from flask import Flask, request, render_template\n",
        "\n",
        "app = Flask(__name__)\n",
        "\n",
        "@app.route('/form', methods=['GET', 'POST'])\n",
        "def handle_form():\n",
        "    if request.method == 'POST':\n",
        "        name = request.form['username']\n",
        "        return f\"Hello, {name}!\"\n",
        "    return render_template('form.html')\n",
        "\n",
        "if __name__ == '__main__':\n",
        "    app.run(debug=True)\n"
      ],
      "metadata": {
        "id": "cyGeH8YnPwdo"
      },
      "execution_count": null,
      "outputs": []
    },
    {
      "cell_type": "code",
      "source": [
        "#templates/form.html\n",
        "<!DOCTYPE html>\n",
        "<html>\n",
        "<head>\n",
        "    <title>Flask Form</title>\n",
        "</head>\n",
        "<body>\n",
        "    <form method=\"POST\">\n",
        "        <label for=\"username\">Name:</label>\n",
        "        <input type=\"text\" name=\"username\" required>\n",
        "        <input type=\"submit\" value=\"Submit\">\n",
        "    </form>\n",
        "</body>\n",
        "</html>\n"
      ],
      "metadata": {
        "id": "G4KxMy3Nf2oh"
      },
      "execution_count": null,
      "outputs": []
    },
    {
      "cell_type": "markdown",
      "source": [
        "7. How can you validate form data in Flask?\n",
        "   - In Flask, form data can be validated manually using Python conditions or automatically using extensions like Flask-WTF (WTForms)."
      ],
      "metadata": {
        "id": "zUhcnJm1gL88"
      }
    },
    {
      "cell_type": "code",
      "source": [
        "from flask import Flask, request, render_template\n",
        "\n",
        "app = Flask(__name__)\n",
        "\n",
        "@app.route('/form', methods=['GET', 'POST'])\n",
        "def validate_form():\n",
        "    error = None\n",
        "    if request.method == 'POST':\n",
        "        name = request.form['username']\n",
        "        if not name:\n",
        "            error = \"Name is required.\"\n",
        "        elif len(name) < 3:\n",
        "            error = \"Name must be at least 3 characters.\"\n",
        "        else:\n",
        "            return f\"Hello, {name}!\"\n",
        "    return render_template('form.html', error=error)\n",
        "\n",
        "if __name__ == '__main__':\n",
        "    app.run(debug=True)\n"
      ],
      "metadata": {
        "id": "kw_8zI24gPHO"
      },
      "execution_count": null,
      "outputs": []
    },
    {
      "cell_type": "code",
      "source": [
        "#form.html\n",
        "<form method=\"POST\">\n",
        "    <input type=\"text\" name=\"username\" placeholder=\"Enter your name\">\n",
        "    <input type=\"submit\" value=\"Submit\">\n",
        "    {% if error %}\n",
        "        <p style=\"color:red;\">{{ error }}</p>\n",
        "    {% endif %}\n",
        "</form>\n"
      ],
      "metadata": {
        "id": "kYBlKTh3hGxx"
      },
      "execution_count": null,
      "outputs": []
    },
    {
      "cell_type": "markdown",
      "source": [
        "8.  How do you manage sessions in Flask?\n",
        "    - Import the session object from flask.\n",
        "\n",
        "     Set a secret key in the app for security.\n",
        "\n",
        "     Store or retrieve session data using session['key']."
      ],
      "metadata": {
        "id": "XHrugC6bhKXZ"
      }
    },
    {
      "cell_type": "code",
      "source": [
        "from flask import Flask, session, redirect, url_for, request\n",
        "\n",
        "app = Flask(__name__)\n",
        "app.secret_key = 'mysecretkey'  # Required for session security\n",
        "\n",
        "@app.route('/')\n",
        "def index():\n",
        "    if 'username' in session:\n",
        "        return f\"Logged in as {session['username']}\"\n",
        "    return 'You are not logged in'\n",
        "\n",
        "@app.route('/login', methods=['POST', 'GET'])\n",
        "def login():\n",
        "    if request.method == 'POST':\n",
        "        session['username'] = request.form['username']\n",
        "        return redirect(url_for('index'))\n",
        "    return '''\n",
        "        <form method=\"post\">\n",
        "            <input type=\"text\" name=\"username\" placeholder=\"Enter username\">\n",
        "            <input type=\"submit\" value=\"Login\">\n",
        "        </form>\n",
        "    '''\n",
        "\n",
        "@app.route('/logout')\n",
        "def logout():\n",
        "    session.pop('username', None)  # Remove session data\n",
        "    return redirect(url_for('index'))\n",
        "\n",
        "if __name__ == '__main__':\n",
        "    app.run(debug=True)\n"
      ],
      "metadata": {
        "id": "Dfxrayfyhqqm"
      },
      "execution_count": null,
      "outputs": []
    },
    {
      "cell_type": "markdown",
      "source": [
        "9. How do you redirect to a different route in Flask?\n",
        "   - In Flask, you can redirect the user from one route to another using the redirect() and url_for() functions. This is commonly used after actions like form submission or login to navigate to a new page. redirect(): Sends a response to the browser to redirect to a new URL. url_for(): Dynamically generates the URL for a given route function name."
      ],
      "metadata": {
        "id": "7v-fp8hvhs7n"
      }
    },
    {
      "cell_type": "code",
      "source": [
        "from flask import Flask, redirect, url_for\n",
        "\n",
        "app = Flask(__name__)\n",
        "\n",
        "@app.route('/')\n",
        "def home():\n",
        "    return 'Welcome to the Home Page'\n",
        "\n",
        "@app.route('/login')\n",
        "def login():\n",
        "    return redirect(url_for('dashboard'))\n",
        "\n",
        "@app.route('/dashboard')\n",
        "def dashboard():\n",
        "    return 'This is the Dashboard Page'\n",
        "\n",
        "if __name__ == '__main__':\n",
        "    app.run(debug=True)\n"
      ],
      "metadata": {
        "id": "t5e8AlsbiHqY"
      },
      "execution_count": null,
      "outputs": []
    },
    {
      "cell_type": "markdown",
      "source": [
        "10. How do you handle errors in Flask (e.g., 404)?"
      ],
      "metadata": {
        "id": "8mZZI_DLi0Pm"
      }
    },
    {
      "cell_type": "code",
      "source": [
        "from flask import Flask, jsonify\n",
        "\n",
        "app = Flask(__name__)\n",
        "\n",
        "@app.route('/')\n",
        "def home():\n",
        "    return 'Welcome to the Home Page'\n",
        "\n",
        "@app.errorhandler(404)\n",
        "def page_not_found(error):\n",
        "    return jsonify({'error': 'Page not found'}), 404\n",
        "\n",
        "if __name__ == '__main__':\n",
        "    app.run(debug=True)\n"
      ],
      "metadata": {
        "id": "2BiH4VNnjBGt"
      },
      "execution_count": null,
      "outputs": []
    },
    {
      "cell_type": "markdown",
      "source": [
        "11. How do you structure a Flask app using Blueprints?\n",
        "     -  In Flask, Blueprints provide a way to organize your application into reusable and modular components. This is especially useful for larger applications, where keeping all routes and logic in a single file would be difficult to manage.\n",
        "\n",
        "     purpose: Organize routes, views, and templates by functionality.Promote modular and maintainable code. Allow code reuse across different projects.\n",
        "\n",
        "\n",
        "     myapp/\n",
        "     │\n",
        "     ├── app.py\n",
        "     ├── home/\n",
        "     │   ├── __init__.py\n",
        "     │   └── routes.py\n",
        "     └── templates/\n",
        "         └── home.html\n"
      ],
      "metadata": {
        "id": "ts1GlmHYjRuC"
      }
    },
    {
      "cell_type": "code",
      "source": [
        "#routes.py file\n",
        "from flask import Blueprint, render_template\n",
        "\n",
        "home = Blueprint('home', __name__)\n",
        "\n",
        "@home.route('/')\n",
        "def index():\n",
        "    return render_template('home.html')\n"
      ],
      "metadata": {
        "id": "YzuKpV-qjbyR"
      },
      "execution_count": null,
      "outputs": []
    },
    {
      "cell_type": "code",
      "source": [
        "#init.py file\n",
        "from .routes import home\n"
      ],
      "metadata": {
        "id": "YvAffndmkrh_"
      },
      "execution_count": null,
      "outputs": []
    },
    {
      "cell_type": "code",
      "source": [
        "#main.py(main Flask app)\n",
        "from flask import Flask\n",
        "from home import home\n",
        "\n",
        "app = Flask(__name__)\n",
        "app.register_blueprint(home)\n",
        "\n",
        "if __name__ == '__main__':\n",
        "    app.run(debug=True)\n"
      ],
      "metadata": {
        "id": "_pbkulMrlIFz"
      },
      "execution_count": null,
      "outputs": []
    },
    {
      "cell_type": "markdown",
      "source": [
        "12. How do you define a custom Jinja filter in Flask?\n",
        "   "
      ],
      "metadata": {
        "id": "eBTUH7V6l6xc"
      }
    },
    {
      "cell_type": "code",
      "source": [
        "from flask import Flask, render_template\n",
        "\n",
        "app = Flask(__name__)\n",
        "\n",
        "# Step 1 & 2: Define and register custom filter\n",
        "@app.template_filter('reverse')\n",
        "def reverse_string(s):\n",
        "    return s[::-1]\n",
        "\n",
        "@app.route('/')\n",
        "def home():\n",
        "    return render_template('index.html', name=\"Flask\")\n",
        "\n",
        "if __name__ == '__main__':\n",
        "    app.run(debug=True)\n"
      ],
      "metadata": {
        "id": "fcp_bz4JmBwM"
      },
      "execution_count": null,
      "outputs": []
    },
    {
      "cell_type": "code",
      "source": [
        "<!DOCTYPE html>\n",
        "<html>\n",
        "<head>\n",
        "    <title>Custom Filter Example</title>\n",
        "</head>\n",
        "<body>\n",
        "    Original: {{ name }} <br>\n",
        "    Reversed: {{ name | reverse }}\n",
        "</body>\n",
        "</html>\n"
      ],
      "metadata": {
        "id": "6Lf_3stVmVDt"
      },
      "execution_count": null,
      "outputs": []
    },
    {
      "cell_type": "markdown",
      "source": [
        "13.  How can you redirect with query parameters in Flask?"
      ],
      "metadata": {
        "id": "u6qQte2ImWM2"
      }
    },
    {
      "cell_type": "code",
      "source": [
        "from flask import Flask, redirect, url_for, request\n",
        "\n",
        "app = Flask(__name__)\n",
        "\n",
        "@app.route('/')\n",
        "def home():\n",
        "    return 'Home Page'\n",
        "\n",
        "@app.route('/search')\n",
        "def search():\n",
        "    query = request.args.get('q')\n",
        "    return f'Search results for: {query}'\n",
        "\n",
        "@app.route('/redirect-to-search')\n",
        "def redirect_to_search():\n",
        "    # Redirect to /search with query parameter q='flask'\n",
        "    return redirect(url_for('search', q='flask'))\n",
        "\n",
        "if __name__ == '__main__':\n",
        "    app.run(debug=True)\n"
      ],
      "metadata": {
        "id": "Vv7Hv8mnmb5Z"
      },
      "execution_count": null,
      "outputs": []
    },
    {
      "cell_type": "markdown",
      "source": [
        "14.  How do you return JSON responses in Flask?\n",
        "     -  import jsonify from flask.\n",
        "\n",
        "       Create a Python dictionary or list with the data you want to send.\n",
        "\n",
        "       Use jsonify(data) to convert it into a JSON response.\n",
        "\n",
        "        Return the jsonify object from your route function."
      ],
      "metadata": {
        "id": "KS4WJ1JonQNY"
      }
    },
    {
      "cell_type": "code",
      "source": [
        "from flask import Flask, jsonify\n",
        "\n",
        "app = Flask(__name__)\n",
        "\n",
        "@app.route('/api/data')\n",
        "def get_data():\n",
        "    data = {\n",
        "        'name': 'Flask API',\n",
        "        'version': '1.0',\n",
        "        'features': ['Routing', 'Templates', 'JSON Responses']\n",
        "    }\n",
        "    return jsonify(data)\n",
        "\n",
        "if __name__ == '__main__':\n",
        "    app.run(debug=True)\n"
      ],
      "metadata": {
        "id": "0FBSsCkDneuK"
      },
      "execution_count": null,
      "outputs": []
    },
    {
      "cell_type": "markdown",
      "source": [
        "15. How do you capture URL parameters in Flask?"
      ],
      "metadata": {
        "id": "IADBb5VNoAy4"
      }
    },
    {
      "cell_type": "code",
      "source": [
        "from flask import Flask\n",
        "\n",
        "app = Flask(__name__)\n",
        "\n",
        "@app.route('/user/<username>')\n",
        "def show_user_profile(username):\n",
        "    return f'Hello, {username}! Welcome to your profile.'\n",
        "\n",
        "if __name__ == '__main__':\n",
        "    app.run(debug=True)\n"
      ],
      "metadata": {
        "id": "qJiE4lQ6oF_m"
      },
      "execution_count": null,
      "outputs": []
    },
    {
      "cell_type": "code",
      "source": [
        "My Output: Hello, aparna! Welcome to your profile.\n"
      ],
      "metadata": {
        "id": "0CColB6mok8l"
      },
      "execution_count": null,
      "outputs": []
    }
  ]
}