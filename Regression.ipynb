{
  "nbformat": 4,
  "nbformat_minor": 0,
  "metadata": {
    "colab": {
      "provenance": []
    },
    "kernelspec": {
      "name": "python3",
      "display_name": "Python 3"
    },
    "language_info": {
      "name": "python"
    }
  },
  "cells": [
    {
      "cell_type": "markdown",
      "source": [
        "#Regression"
      ],
      "metadata": {
        "id": "p7aBb49AT7Ax"
      }
    },
    {
      "cell_type": "markdown",
      "source": [
        "1. What is Simple Linear Regression?\n",
        "   - It is a statistical method used to predict a target variable(dependent variable) based on independent variable (one or more predictor variable).\n",
        "   - To establish a linear relationship between these variaables by finding the best-fit line that minimizes the difference between the actual dat points and the predicted values."
      ],
      "metadata": {
        "id": "TTm9xP1NT9aH"
      }
    },
    {
      "cell_type": "markdown",
      "source": [
        "2. What are the key assumptions of Simple Linear Regression?\n",
        "    - The key assumptions of simple linear regression are linearity, independence of errors, homoscedasticity, and normality of residuals.\n",
        "    - Linearity:The relationship between the independent variable (X) and the dependent variable (Y) is linear. This means a straight line can reasonably approximate the relationship between the variables.\n",
        "    - Independence of Errors: The errors (residuals) are independent of each other. This implies that the error for one observation does not influence the error for any other observation.\n",
        "    - Homoscedasticity: The variance of the errors is constant across all levels of the independent variable (X). In simpler terms, the spread of the data points around the regression line should be roughly the same for all values of X.\n",
        "    - Normality of Errors: For any fixed value of X, the dependent variable Y is normally distributed. This assumption is often checked by examining the distribution of the residuals."
      ],
      "metadata": {
        "id": "6qWXevASV0-Q"
      }
    },
    {
      "cell_type": "markdown",
      "source": [
        "3. What does the coefficient m represent in the equation Y=mX+c?\n",
        "   - The coefficient 'm' represents the slope of the regression line. It indicates the rate of change in the dependent variable (Y) for a one-unit increase in the independent variable (X)."
      ],
      "metadata": {
        "id": "bxkY06QiX3eX"
      }
    },
    {
      "cell_type": "markdown",
      "source": [
        "4. What does the intercept c represent in the equation Y=mX+c?\n",
        "   - The intercept 'c' is the value of Y when the independent variable X is zero. In other words, it is the point where the regression line crosses the Y-axis."
      ],
      "metadata": {
        "id": "BN_xu2QgYiRB"
      }
    },
    {
      "cell_type": "markdown",
      "source": [
        "5. How do we calculate the slope m in Simple Linear Regression?\n",
        "    - In Simple Linear Regression, the relationship between the independent variable X and the dependent variable Y is given by the equation:\n",
        "       Y=mX+c\n",
        "       \n",
        "       Where:\n",
        "\n",
        "       m = slope of the line\n",
        "\n",
        "       c = intercept\n",
        "\n",
        "      X = independent variable\n",
        "\n",
        "      Y = dependent variable\n",
        "\n"
      ],
      "metadata": {
        "id": "aVtBu2M-Y23W"
      }
    },
    {
      "cell_type": "markdown",
      "source": [
        "6. What is the purpose of the least squares method in Simple Linear Regression?\n",
        "   - The purpose of the least squares method in Simple Linear Regression is to find the best-fitting straight line through the data points by minimizing the sum of the squared differences (errors) between the actual values and the predicted values. This ensures the most accurate linear model for predicting the dependent variable."
      ],
      "metadata": {
        "id": "Jqru_hCJa3sX"
      }
    },
    {
      "cell_type": "markdown",
      "source": [
        "7. How is the coefficient of determination (R²) interpreted in Simple Linear Regression?\n",
        "   - The coefficient of determination (R²) measures how well the regression line fits the data. It represents the proportion of the variance in the dependent variable (Y) that is explained by the independent variable (X).\n",
        "   - R² ranges from 0 to 1:\n",
        "      - R² = 1: Perfect fit (100% of the variance is explained)\n",
        "      - R² = 0: No linear relationship (0% is explained)\n",
        "\n",
        "  - Example: If R² = 0.85, it means 85% of the variation in Y is explained by X, and the remaining 15% is due to other factors or random error."
      ],
      "metadata": {
        "id": "o5ILyOUdbPKR"
      }
    },
    {
      "cell_type": "markdown",
      "source": [
        "8. What is Multiple Linear Regression?\n",
        "   - Multiple Linear Regression is a statistical technique used to predict the value of a dependent variable (Y) based on two or more independent variables (X₁, X₂, ..., Xₙ). It helps in understanding the relationship between the variables and how each predictor influences the outcome."
      ],
      "metadata": {
        "id": "kfsG9e_qb8TI"
      }
    },
    {
      "cell_type": "markdown",
      "source": [
        "9. What is the main difference between Simple and Multiple Linear Regression?\n",
        "   - The main difference between Simple and Multiple Linear Regression is the number of independent variables used to predict the dependent variable.\n",
        "   - Simple Linear Regression uses one independent variable (X) to predict the dependent variable (Y).\n",
        "   - Multiple Linear Regression uses two or more independent variables (X₁, X₂, ..., Xₙ) to predict the dependent variable (Y)."
      ],
      "metadata": {
        "id": "fIVsVitMhwgg"
      }
    },
    {
      "cell_type": "markdown",
      "source": [
        "10.  What are the key assumptions of Multiple Linear Regression/\n",
        "   - Multiple Linear Regression makes several important assumptions to ensure accurate predictions and valid statistical inferences. The key assumptions are:\n",
        "\n",
        "    1. Linearity: There is a linear relationship between the dependent variable and each of the independent variables. The effect of each predictor on the outcome is additive.\n",
        "    2. Independence of Errors: The residuals (errors) are independent of each other. No autocorrelation should exist, especially in time-series data.\n",
        "    3. Homoscedasticity: The variance of the residuals is constant across all levels of the independent variables. This means there is equal spread of errors for all values of X.\n",
        "    4. Normality of Errors: The residuals should be approximately normally distributed. This is important for making valid confidence intervals and hypothesis tests.\n",
        "    5. No Multicollinearity: The independent variables should not be highly correlated with each other. High multicollinearity makes it difficult to determine the effect of each predictor.\n",
        "    6. No Outliers or High-Leverage Points: Outliers can distort the regression line and reduce model accuracy. High-leverage points can have an undue influence on the model fit."
      ],
      "metadata": {
        "id": "JdX3xAIKiOuz"
      }
    },
    {
      "cell_type": "markdown",
      "source": [
        "11. What is heteroscedasticity, and how does it affect the results of a Multiple Linear Regression model?\n",
        "    - Heteroscedasticity refers to the situation in a regression model where the variance of the residuals (errors) is not constant across all levels of the independent variables.\n",
        "\n",
        "    - Effects on the Regression Model:\n",
        "        - Biased Standard Errors: It leads to incorrect estimation of standard errors, which affects confidence intervals and hypothesis tests.\n",
        "        - Unreliable p-values: p-values may be too small or too large, leading to wrong conclusions about the significance of predictors.\n",
        "        - Inefficient Estimates: Although coefficient estimates may still be unbiased, they are not the most efficient (i.e., not minimum variance)."
      ],
      "metadata": {
        "id": "O-YmEI1-jFEF"
      }
    },
    {
      "cell_type": "markdown",
      "source": [
        "12. How can you improve a Multiple Linear Regression model with high multicollinearity?\n",
        "   - Multicollinearity occurs when two or more independent variables in a multiple linear regression model are highly correlated, making it difficult to determine the individual effect of each predictor on the dependent variable.\n",
        "\n",
        "   - Ways to Improve the Model:\n",
        "        - Remove Highly Correlated Predictors: Drop one of the variables that are strongly correlated to reduce redundancy.\n",
        "\n",
        "        - Use Principal Component Analysis (PCA): Convert correlated variables into uncorrelated components that capture the original variance.\n",
        "\n",
        "        - Combine Variables: Create a new variable by combining correlated predictors (e.g., taking their average).\n",
        "\n",
        "        - Regularization Techniques: Use methods like Ridge Regression or Lasso Regression to penalize large coefficients and reduce multicollinearity impact.\n",
        "\n",
        "        - Check Variance Inflation Factor (VIF): Remove variables with VIF > 5 or 10, as they indicate high multicollinearity."
      ],
      "metadata": {
        "id": "ZzbVGs-Djxf-"
      }
    },
    {
      "cell_type": "markdown",
      "source": [
        "13. What are some common techniques for transforming categorical variables for use in regression models?\n",
        "   - Common techniques for transforming categorical variables include: One-Hot Encoding, Label  and Ordinal Encoding, Target guided ordinal Encoding"
      ],
      "metadata": {
        "id": "aOqRWGx2kbNJ"
      }
    },
    {
      "cell_type": "markdown",
      "source": [
        "14.  What is the role of interaction terms in Multiple Linear Regression/\n",
        "   -  Interaction terms in Multiple Linear Regression are used to examine whether the effect of one independent variable on the dependent variable depends on the value of another independent variable.\n",
        "\n",
        "   - Purpose: To capture the combined effect of two (or more) variables that may not be accurately explained by their individual effects alone. Helps in modeling more complex relationships between variables.\n",
        "\n"
      ],
      "metadata": {
        "id": "tfBcuhfzk9I_"
      }
    },
    {
      "cell_type": "markdown",
      "source": [
        "15.  How can the interpretation of intercept differ between Simple and Multiple Linear Regression?\n",
        "    - The intercept is the predicted value of the dependent variable (Y) when all independent variables are equal to zero.\n",
        "    - Simple Linear Regression: There is only one independent variable (X). The intercept represents the value of Y when X = 0.\n",
        "       - Example:If the equation is  Y=2X+5, then when X = 0, Y = 5.\n",
        "\n",
        "   -  In Multiple Linear Regression: There are two or more independent variables (X₁, X₂, ..., Xₙ). The intercept represents the value of Y when all independent variables are 0.This interpretation may not always be meaningful if zero is not a realistic value for some predictors.\n",
        "  "
      ],
      "metadata": {
        "id": "JsrFzNdIlOKX"
      }
    },
    {
      "cell_type": "markdown",
      "source": [
        "16. What is the significance of the slope in regression analysis, and how does it affect predictions?\n",
        "   - The slope in regression analysis represents the rate of change in the dependent variable (Y) for a one-unit increase in the independent variable (X), assuming all other variables remain constant.\n",
        "\n",
        "   - Significance:\n",
        "         - It shows the strength and direction of the relationship between X and Y. Positive slope: As X increases, Y increases.\n",
        "         Negative slope: As X increases, Y decreases.\n",
        "\n",
        "         - A larger absolute value of the slope indicates a stronger impact of X on Y.\n",
        "   - Effect on Predictions:\n",
        "        - The slope directly determines how much Y will change as X changes.\n",
        "        - It is used in the regression equation to make future predictions.\n",
        "\n"
      ],
      "metadata": {
        "id": "m2AVUwz_mU2D"
      }
    },
    {
      "cell_type": "markdown",
      "source": [
        "17. How does the intercept in a regression model provide context for the relationship between variable?\n",
        "   - The intercept in a regression model represents the predicted value of the dependent variable (Y) when all independent variables (X) are equal to zero.\n",
        "   - Contextual Role of the Intercept:\n",
        "     - Baseline Value:  It provides a starting point or baseline for the regression equation, showing what Y would be without any influence from the predictors.\n",
        "\n",
        "     - Helps Interpret the Model: Understanding the intercept helps in interpreting the entire regression equation, especially when predicting values of Y for different inputs.\n",
        "\n",
        "     - Real-World Meaning Depends on Data: If X = 0 is a meaningful value (e.g., 0 years of experience), the intercept has practical significance. If X = 0 is not realistic (e.g., 0 temperature on a Kelvin scale), the intercept is just a mathematical anchor.\n",
        "     - Example: If the regression equation is: Salary=20000+3000×(Years of Experience)\n",
        "        \n",
        "        Then the intercept (20000) means that a person with 0 years of experience is predicted to earn ₹20,000.\n",
        "\n",
        "     - The intercept helps contextualize the relationship between variables by indicating the expected outcome when all predictors are absent or zero. Its meaning depends on the nature of the data and real-world relevance.   \n",
        "\n"
      ],
      "metadata": {
        "id": "z_uM2rffGSIG"
      }
    },
    {
      "cell_type": "markdown",
      "source": [
        "18. What are the limitations of using R² as a sole measure of model performance?\n",
        "     - While R² (coefficient of determination) indicates how well the independent variables explain the variation in the dependent variable, relying on it alone has several limitations:\n",
        "\n",
        "      - 1. Does Not Indicate Causation: A high R² value only shows correlation, not a cause-effect relationship.\n",
        "\n",
        "      - 2. Ignores Model Complexity: Adding more predictors always increases R², even if they are not meaningful, which can lead to overfitting.\n",
        "\n",
        "      - 3. Not Useful for Comparing Models with Different Dependent Variables: R² can only compare models built for the same response variable.\n",
        "\n",
        "      - 4. Doesn't Reflect Predictive Accuracy: A model may have a high R² but still make poor predictions on new data (especially if overfitted).\n",
        "\n",
        "      - 5. Doesn’t Reveal Bias or Residual Patterns: R² does not tell if assumptions like linearity, homoscedasticity, or independence of errors are violated.\n",
        "\n"
      ],
      "metadata": {
        "id": "FLD7UHsHHijS"
      }
    },
    {
      "cell_type": "markdown",
      "source": [
        "19. How would you interpret a large standard error for a regression coefficient?\n",
        "     - A large standard error for a regression coefficient suggests imprecision in the estimate of that coefficient, meaning the true value of the coefficient in the population could be significantly different from the estimated value in the sample. It indicates that the coefficient is likely to vary considerably across different samples, making it a less reliable predictor.\n",
        "        - Standard Error and Variability: The standard error of a regression coefficient reflects how much the estimated coefficient would vary if you were to repeat the regression analysis on different samples from the same population.\n",
        "        - Low Standard Error: A small standard error indicates that the estimated coefficient is likely close to the true population value, suggesting a more precise and reliable estimate.\n",
        "        - High Standard Error: A large standard error, on the other hand, indicates that the estimated coefficient is less precise and could vary significantly across different samples. This implies a higher degree of uncertainty about the true effect of the variable on the outcome.\n",
        "        - Impact on Confidence: A large standard error reduces confidence in the estimated coefficient and makes it more difficult to determine whether the variable has a statistically significant effect on the outcome. It suggests that the observed relationship in the sample might not accurately reflect the true relationship in the population.\n",
        "        - Example: Imagine estimating the effect of advertising spending on sales. A small standard error for the coefficient would mean you're quite confident in the estimated impact of advertising. A large standard error, however, would suggest that the true impact of advertising could be much higher or lower than your estimate, leading to less confidence in your findings."
      ],
      "metadata": {
        "id": "wPinpyHAIGBj"
      }
    },
    {
      "cell_type": "markdown",
      "source": [
        "20. How can heteroscedasticity be identified in residual plots, and why is it important to address it ?\n",
        "    - Heteroscedasticity can be identified by plotting the residuals (errors) on the Y-axis against the predicted values on the X-axis. In a good model, residuals should be randomly scattered (homoscedastic).\n",
        "    - Signs of Heteroscedasticity: A funnel-shaped pattern (residuals spread wider or narrower as predictions increase). A systematic pattern or curve in the spread of residuals.\n",
        "    - Importantance:\n",
        "         - Violates Regression Assumptions: Heteroscedasticity violates the assumption of constant variance, leading to unreliable results.\n",
        "\n",
        "         - Incorrect Standard Errors: It causes biased or inefficient standard errors, affecting confidence intervals and p-values.\n",
        "\n",
        "         - Leads to Wrong Inference: Can result in false conclusions about the significance of predictors.\n",
        "\n"
      ],
      "metadata": {
        "id": "tJa0EjzAMEqg"
      }
    },
    {
      "cell_type": "markdown",
      "source": [
        "21. What does it mean if a Multiple Linear Regression model has a high R² but low adjusted R²?\n",
        "   - If a regression model has a high R² but a low Adjusted R², it means that some of the independent variables do not meaningfully contribute to explaining the variation in the dependent variable.\n",
        "   - Key Interpretations:\n",
        "         - Overfitting Risk: The model may include irrelevant or unnecessary predictors, which inflate R² without improving the model's true performance.\n",
        "\n",
        "         - Adjusted R² Penalizes Complexity: Unlike R², Adjusted R² adjusts for the number of predictors. It decreases if a new variable doesn’t improve the model significantly.\n",
        "\n",
        "         - Model Inefficiency: The model may appear strong (high R²), but Adjusted R² reveals that some variables might be adding noise instead of value.\n",
        "\n"
      ],
      "metadata": {
        "id": "fpbuqBYTMsw0"
      }
    },
    {
      "cell_type": "markdown",
      "source": [
        "22. Why is it important to scale variables in Multiple Linear Regression?\n",
        "     - Scaling variables in Multiple Linear Regression is important when the independent variables have different units or ranges, as it helps improve the model's accuracy and interpretability.\n",
        "     - Reasons for Scaling:\n",
        "         - Improves Numerical Stability:  Variables with large values can dominate the regression calculations, causing unstable or biased coefficients.\n",
        "\n",
        "         - Makes Coefficients Comparable:  Scaling allows us to compare the relative importance of predictors on the same scale.\n",
        "\n",
        "         - Enhances Regularization Methods:  Techniques like Ridge and Lasso Regression are sensitive to variable scale, and require scaling to perform properly.\n",
        "\n",
        "         - Better Gradient Descent Convergence (if used): In models using optimization algorithms, scaling speeds up the convergence and ensures better performance.\n",
        "\n",
        "\n"
      ],
      "metadata": {
        "id": "vT6nHq8-NJrD"
      }
    },
    {
      "cell_type": "markdown",
      "source": [
        "23. What is polynomial regression?\n",
        "    - Polynomial Regression is a type of regression analysis where the relationship between the independent variable (X) and the dependent variable (Y) is modeled as an nth-degree polynomial. It is used when the data shows a non-linear relationship, but the model remains linear in coefficients.\n",
        "    - Purpose:\n",
        "To capture curved trends in data that simple linear regression cannot fit.Allows the model to bend with the data by including higher-degree terms."
      ],
      "metadata": {
        "id": "OJE-X9LvNslZ"
      }
    },
    {
      "cell_type": "markdown",
      "source": [
        "24. How does polynomial regression differ from linear regression?\n",
        "      - Nature of Relationship:\n",
        "          - Linear Regression models a straight-line (linear) relationship.\n",
        "          - Polynomial Regression models a curved (non-linear) relationship by adding powers of the independent variable.\n",
        "\n",
        "      -  Flexibility:\n",
        "            - Linear Regression is limited to modeling linear trends.\n",
        "            - Polynomial Regression can capture complex, curved trends in the data.\n",
        "      - Model Complexity:\n",
        "           - Linear regression is simpler and easier to interpret.\n",
        "           - Polynomial regression is more flexible but can overfit if the degree is too high.\n",
        "\n",
        "    - Visual Difference:\n",
        "        - Linear regression line is straight.\n",
        "        - Polynomial regression line is curved, depending on the degree.       "
      ],
      "metadata": {
        "id": "FkcOqWB6N-3i"
      }
    },
    {
      "cell_type": "markdown",
      "source": [
        "25. When is polynomial regression used?\n",
        "     - Polynomial Regression is used when the relationship between the independent variable (X) and the dependent variable (Y) is non-linear, and a straight line cannot accurately model the data.\n",
        "     - Situations Where Polynomial Regression is Used:\n",
        "         - Curved Trends in Data: When data shows a parabolic or curvilinear pattern. Example: Growth rate, temperature variations, or sales over time.\n",
        "\n",
        "         - Improving Model Fit: When linear regression gives a high error or low R². Adding polynomial terms can better capture the true relationship.\n",
        "\n",
        "         - Real-world Non-linear Phenomena:  Used in physics, biology, economics, and engineering where relationships are not strictly linear.\n",
        "\n",
        "         - When Residual Plots Show Patterns: If residuals from linear regression show a curve or systematic pattern, polynomial terms may be needed.\n",
        "\n"
      ],
      "metadata": {
        "id": "YWl7Oq0RPGLP"
      }
    },
    {
      "cell_type": "markdown",
      "source": [
        "26.  What is the general equation for polynomial regression?\n",
        "      - The general equation for Polynomial Regression of degree n is:\n",
        "\n",
        "\n",
        "      \n",
        "Y = [ b_0 + b_1X + b_2X^2 + b_3X^3 + \\dots + b_nX^n + \\varepsilon\n",
        "\\]\n",
        "\n",
        "\n",
        "\n",
        "Where:\n",
        "\n",
        "- **Y** = Dependent variable (target/output)  \n",
        "- **X** = Independent variable (input)  \n",
        "- \\( b_0, b_1, ..., b_n \\) = Coefficients of the model  \n",
        "- \\( X^2, X^3, ..., X^n \\) = Polynomial (non-linear) terms  \n",
        "- \\( \\varepsilon \\) = Error term (residual)\n"
      ],
      "metadata": {
        "id": "MJSchY1TPz9C"
      }
    },
    {
      "cell_type": "markdown",
      "source": [
        "27. Can polynomial regression be applied to multiple variable?\n",
        "     - Yes, Polynomial Regression can be applied to multiple variables. This is called Multivariate Polynomial Regression. It models the relationship between a dependent variable and multiple independent variables, including their higher-degree terms and interaction terms.\n",
        "\n"
      ],
      "metadata": {
        "id": "AyLUhkb9QV-E"
      }
    },
    {
      "cell_type": "markdown",
      "source": [
        "28. What are the limitations of polynomial regression?\n",
        "      \n",
        "     - Overfitting:  Using a high-degree polynomial can make the model fit the training data too closely, leading to poor performance on new data.\n",
        "\n",
        "     - Sensitive to Outliers: Polynomial models are highly sensitive to outliers, which can distort the shape of the curve significantly.\n",
        "\n",
        "     - Poor Extrapolation: Polynomial regression performs poorly outside the range of the training data, often producing unrealistic predictions.\n",
        "\n",
        "     - Increasing Complexity: As the degree increases, the model becomes more complex and difficult to interpret.\n",
        "\n",
        "     - Risk of Multicollinearity: Higher-degree terms and interaction terms can cause multicollinearity, making the model unstable and coefficients unreliable."
      ],
      "metadata": {
        "id": "RuTH1i6GQq9g"
      }
    },
    {
      "cell_type": "markdown",
      "source": [
        "29.  What methods can be used to evaluate model fit when selecting the degree of a polynomial?\n",
        "      - When selecting the degree of a polynomial for regression, it's important to evaluate how well the model fits the data without overfitting. Common methods include:\n",
        "          - R² (Coefficient of Determination): Measures how well the model explains the variance in the data. Higher R² suggests better fit, but it always increases with model complexity.\n",
        "\n",
        "          - Adjusted R²: Penalizes the model for adding unnecessary terms.Helps in selecting the optimal degree by balancing fit and complexity.\n",
        "\n",
        "          - Cross-Validation (e.g., k-Fold): Evaluates model performance on unseen data.Prevents overfitting by testing how the model generalizes.\n",
        "\n",
        "          - Mean Squared Error (MSE) / Root Mean Squared Error (RMSE): Measures the average prediction error. Lower values indicate a better fit to the data.\n",
        "\n",
        "          - Visual Inspection (Plotting): Plotting actual vs. predicted values or residuals helps detect overfitting or underfitting. A good model should have random, pattern-free residuals.\n",
        "\n",
        "      - To select the best degree for a polynomial model, use a combination of Adjusted R², Cross-Validation, and Error Metrics like MSE/RMSE. This ensures the model fits well without becoming overly complex.    \n",
        "\n"
      ],
      "metadata": {
        "id": "rAwexvvYRUFT"
      }
    },
    {
      "cell_type": "markdown",
      "source": [
        "30. Why is visualization important in polynomial regression?\n",
        "     - Visualization is important in Polynomial Regression because it helps to:\n",
        "\n",
        "- Understand the Model Fit: Shows how well the polynomial curve fits the data. Helps detect underfitting (too simple) or overfitting (too complex).\n",
        "\n",
        "- Identify Patterns and Trends: Visual plots make it easier to observe non-linear relationships between variables. Helps in deciding the appropriate degree of the polynomial.\n",
        "\n",
        "- Detect Outliers and Anomalies: Graphs reveal data points that deviate significantly from the fitted curve, which could affect the model.\n",
        "\n",
        "- Compare Different Models: You can visualize and compare curves of different polynomial degrees to choose the most appropriate one.\n",
        "- Communicate Results Effectively: Visuals make it easier to interpret and explain model behavior to others, especially non-technical audiences.\n",
        "\n"
      ],
      "metadata": {
        "id": "dnJHE4ZZSQuy"
      }
    },
    {
      "cell_type": "markdown",
      "source": [
        "31. How is polynomial regression implemented in Python?\n",
        "     - Polynomial Regression is implemented in Python using scikit-learn by transforming the original features into polynomial features and then applying Linear Regression on them.\n",
        "\n",
        "     - Steps to Implement Polynomial Regression:\n",
        "          - Import necessary libraries\n",
        "\n",
        "          - Create or load the dataset\n",
        "\n",
        "          - Transform features using PolynomialFeatures\n",
        "\n",
        "          - Fit a LinearRegression model\n",
        "          - Predict and visualize the results"
      ],
      "metadata": {
        "id": "gIeLKaiBSyj6"
      }
    },
    {
      "cell_type": "code",
      "source": [
        "!pip install numpy"
      ],
      "metadata": {
        "colab": {
          "base_uri": "https://localhost:8080/"
        },
        "id": "mpYGgy8HTVNx",
        "outputId": "df60975e-c744-4044-e6dc-2147c2205ad3"
      },
      "execution_count": null,
      "outputs": [
        {
          "output_type": "stream",
          "name": "stdout",
          "text": [
            "Requirement already satisfied: numpy in /usr/local/lib/python3.11/dist-packages (2.0.2)\n"
          ]
        }
      ]
    },
    {
      "cell_type": "code",
      "source": [
        "!pip install matplotlib"
      ],
      "metadata": {
        "colab": {
          "base_uri": "https://localhost:8080/"
        },
        "id": "yUzKbB3RTYby",
        "outputId": "c1dd495a-a1a6-4344-a41d-5f40f689d19e"
      },
      "execution_count": null,
      "outputs": [
        {
          "output_type": "stream",
          "name": "stdout",
          "text": [
            "Requirement already satisfied: matplotlib in /usr/local/lib/python3.11/dist-packages (3.10.0)\n",
            "Requirement already satisfied: contourpy>=1.0.1 in /usr/local/lib/python3.11/dist-packages (from matplotlib) (1.3.2)\n",
            "Requirement already satisfied: cycler>=0.10 in /usr/local/lib/python3.11/dist-packages (from matplotlib) (0.12.1)\n",
            "Requirement already satisfied: fonttools>=4.22.0 in /usr/local/lib/python3.11/dist-packages (from matplotlib) (4.58.4)\n",
            "Requirement already satisfied: kiwisolver>=1.3.1 in /usr/local/lib/python3.11/dist-packages (from matplotlib) (1.4.8)\n",
            "Requirement already satisfied: numpy>=1.23 in /usr/local/lib/python3.11/dist-packages (from matplotlib) (2.0.2)\n",
            "Requirement already satisfied: packaging>=20.0 in /usr/local/lib/python3.11/dist-packages (from matplotlib) (24.2)\n",
            "Requirement already satisfied: pillow>=8 in /usr/local/lib/python3.11/dist-packages (from matplotlib) (11.2.1)\n",
            "Requirement already satisfied: pyparsing>=2.3.1 in /usr/local/lib/python3.11/dist-packages (from matplotlib) (3.2.3)\n",
            "Requirement already satisfied: python-dateutil>=2.7 in /usr/local/lib/python3.11/dist-packages (from matplotlib) (2.9.0.post0)\n",
            "Requirement already satisfied: six>=1.5 in /usr/local/lib/python3.11/dist-packages (from python-dateutil>=2.7->matplotlib) (1.17.0)\n"
          ]
        }
      ]
    },
    {
      "cell_type": "code",
      "source": [
        "# Step 1: Import libraries\n",
        "import numpy as np\n",
        "import matplotlib.pyplot as plt\n",
        "from sklearn.linear_model import LinearRegression\n",
        "from sklearn.preprocessing import PolynomialFeatures\n",
        "\n",
        "# Step 2: Create sample data\n",
        "X = np.array([1, 2, 3, 4, 5, 6]).reshape(-1, 1)\n",
        "y = np.array([2, 5, 10, 17, 26, 37])  # Quadratic relationship: y = x^2 + 1\n",
        "\n",
        "# Step 3: Transform features into polynomial (degree 2)\n",
        "poly = PolynomialFeatures(degree=2)\n",
        "X_poly = poly.fit_transform(X)\n",
        "\n",
        "# Step 4: Fit the linear regression model\n",
        "model = LinearRegression()\n",
        "model.fit(X_poly, y)\n",
        "\n",
        "# Step 5: Predict and visualize\n",
        "y_pred = model.predict(X_poly)\n",
        "\n",
        "plt.scatter(X, y, color='blue', label='Original Data')\n",
        "plt.plot(X, y_pred, color='red', label='Polynomial Regression Curve')\n",
        "plt.xlabel('X')\n",
        "plt.ylabel('y')\n",
        "plt.title('Polynomial Regression (Degree 2)')\n",
        "plt.legend()\n",
        "plt.grid(True)\n",
        "plt.show()\n"
      ],
      "metadata": {
        "colab": {
          "base_uri": "https://localhost:8080/",
          "height": 472
        },
        "id": "QHWEEQUATQui",
        "outputId": "ff896ded-02bf-44ae-f05c-9cbc270eea22"
      },
      "execution_count": null,
      "outputs": [
        {
          "output_type": "display_data",
          "data": {
            "text/plain": [
              "<Figure size 640x480 with 1 Axes>"
            ],
            "image/png": "[encoded data removed]"
          },
          "metadata": {}
        }
      ]
    }
  ]
}